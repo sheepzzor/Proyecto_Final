{
 "cells": [
  {
   "cell_type": "markdown",
   "id": "2c887cc0",
   "metadata": {},
   "source": [
    "# Paquetes"
   ]
  },
  {
   "cell_type": "code",
   "execution_count": 1,
   "id": "76a32705",
   "metadata": {},
   "outputs": [],
   "source": [
    "import seaborn as sns\n",
    "sns.set(style='ticks')\n",
    "import matplotlib.pyplot as plt\n",
    "%matplotlib inline\n",
    "import pandas as pd\n",
    "import plotly.express as px\n",
    "import numpy as np\n",
    "import folium"
   ]
  },
  {
   "cell_type": "markdown",
   "id": "39981971",
   "metadata": {},
   "source": [
    "# Importar archivo"
   ]
  },
  {
   "cell_type": "code",
   "execution_count": 89,
   "id": "5404acb0",
   "metadata": {
    "scrolled": true
   },
   "outputs": [
    {
     "data": {
      "text/html": [
       "<div>\n",
       "<style scoped>\n",
       "    .dataframe tbody tr th:only-of-type {\n",
       "        vertical-align: middle;\n",
       "    }\n",
       "\n",
       "    .dataframe tbody tr th {\n",
       "        vertical-align: top;\n",
       "    }\n",
       "\n",
       "    .dataframe thead th {\n",
       "        text-align: right;\n",
       "    }\n",
       "</style>\n",
       "<table border=\"1\" class=\"dataframe\">\n",
       "  <thead>\n",
       "    <tr style=\"text-align: right;\">\n",
       "      <th></th>\n",
       "      <th>folio</th>\n",
       "      <th>fecha_creacion</th>\n",
       "      <th>año_creacion</th>\n",
       "      <th>hora_creacion</th>\n",
       "      <th>dia_semana</th>\n",
       "      <th>fecha_cierre</th>\n",
       "      <th>hora_cierre</th>\n",
       "      <th>incidente_c4</th>\n",
       "      <th>delegacion_inicio</th>\n",
       "      <th>latitud</th>\n",
       "      <th>longitud</th>\n",
       "      <th>ano_cierre</th>\n",
       "      <th>clas_con_f_alarma</th>\n",
       "      <th>tipo_entrada</th>\n",
       "      <th>delegacion_cierre</th>\n",
       "      <th>mes_cierre</th>\n",
       "      <th>numero_incidente</th>\n",
       "      <th>V_F</th>\n",
       "    </tr>\n",
       "  </thead>\n",
       "  <tbody>\n",
       "    <tr>\n",
       "      <th>632276</th>\n",
       "      <td>C5/201231/08132</td>\n",
       "      <td>31/12/2020</td>\n",
       "      <td>2020</td>\n",
       "      <td>23:48:48</td>\n",
       "      <td>Jueves</td>\n",
       "      <td>01/01/2021</td>\n",
       "      <td>00:06:12</td>\n",
       "      <td>accidente choque con lesionados</td>\n",
       "      <td>TLALPAN</td>\n",
       "      <td>19.302180</td>\n",
       "      <td>-99.147020</td>\n",
       "      <td>2021</td>\n",
       "      <td>URGENCIAS MEDICAS</td>\n",
       "      <td>LLAMADA DEL 911</td>\n",
       "      <td>TLALPAN</td>\n",
       "      <td>Enero</td>\n",
       "      <td>1</td>\n",
       "      <td>V</td>\n",
       "    </tr>\n",
       "    <tr>\n",
       "      <th>632277</th>\n",
       "      <td>AO/201231/07706</td>\n",
       "      <td>31/12/2020</td>\n",
       "      <td>2020</td>\n",
       "      <td>22:50:08</td>\n",
       "      <td>Jueves</td>\n",
       "      <td>01/01/2021</td>\n",
       "      <td>02:45:33</td>\n",
       "      <td>accidente choque con lesionados</td>\n",
       "      <td>MIGUEL HIDALGO</td>\n",
       "      <td>19.412716</td>\n",
       "      <td>-99.189823</td>\n",
       "      <td>2021</td>\n",
       "      <td>URGENCIAS MEDICAS</td>\n",
       "      <td>BOTON DE AUXILIO</td>\n",
       "      <td>MIGUEL HIDALGO</td>\n",
       "      <td>Enero</td>\n",
       "      <td>1</td>\n",
       "      <td>V</td>\n",
       "    </tr>\n",
       "    <tr>\n",
       "      <th>632278</th>\n",
       "      <td>C5/201231/08137</td>\n",
       "      <td>31/12/2020</td>\n",
       "      <td>2020</td>\n",
       "      <td>23:49:56</td>\n",
       "      <td>Jueves</td>\n",
       "      <td>01/01/2021</td>\n",
       "      <td>00:06:37</td>\n",
       "      <td>accidente choque con lesionados</td>\n",
       "      <td>TLALPAN</td>\n",
       "      <td>19.296480</td>\n",
       "      <td>-99.146270</td>\n",
       "      <td>2021</td>\n",
       "      <td>URGENCIAS MEDICAS</td>\n",
       "      <td>LLAMADA DEL 911</td>\n",
       "      <td>TLALPAN</td>\n",
       "      <td>Enero</td>\n",
       "      <td>1</td>\n",
       "      <td>V</td>\n",
       "    </tr>\n",
       "    <tr>\n",
       "      <th>632279</th>\n",
       "      <td>C5/201231/08161</td>\n",
       "      <td>31/12/2020</td>\n",
       "      <td>2020</td>\n",
       "      <td>23:53:33</td>\n",
       "      <td>Jueves</td>\n",
       "      <td>01/01/2021</td>\n",
       "      <td>01:45:26</td>\n",
       "      <td>accidente choque con lesionados</td>\n",
       "      <td>IZTAPALAPA</td>\n",
       "      <td>19.352450</td>\n",
       "      <td>-99.014730</td>\n",
       "      <td>2021</td>\n",
       "      <td>URGENCIAS MEDICAS</td>\n",
       "      <td>RADIO</td>\n",
       "      <td>IZTAPALAPA</td>\n",
       "      <td>Enero</td>\n",
       "      <td>1</td>\n",
       "      <td>V</td>\n",
       "    </tr>\n",
       "    <tr>\n",
       "      <th>632280</th>\n",
       "      <td>C5/201231/08188</td>\n",
       "      <td>31/12/2020</td>\n",
       "      <td>2020</td>\n",
       "      <td>23:54:59</td>\n",
       "      <td>Jueves</td>\n",
       "      <td>01/01/2021</td>\n",
       "      <td>00:41:00</td>\n",
       "      <td>accidente choque sin lesionados</td>\n",
       "      <td>ALVARO OBREGON</td>\n",
       "      <td>19.381050</td>\n",
       "      <td>-99.239490</td>\n",
       "      <td>2021</td>\n",
       "      <td>EMERGENCIA</td>\n",
       "      <td>LLAMADA DEL 911</td>\n",
       "      <td>ALVARO OBREGON</td>\n",
       "      <td>Enero</td>\n",
       "      <td>1</td>\n",
       "      <td>V</td>\n",
       "    </tr>\n",
       "  </tbody>\n",
       "</table>\n",
       "</div>"
      ],
      "text/plain": [
       "                  folio fecha_creacion  año_creacion hora_creacion dia_semana  \\\n",
       "632276  C5/201231/08132     31/12/2020          2020      23:48:48     Jueves   \n",
       "632277  AO/201231/07706     31/12/2020          2020      22:50:08     Jueves   \n",
       "632278  C5/201231/08137     31/12/2020          2020      23:49:56     Jueves   \n",
       "632279  C5/201231/08161     31/12/2020          2020      23:53:33     Jueves   \n",
       "632280  C5/201231/08188     31/12/2020          2020      23:54:59     Jueves   \n",
       "\n",
       "       fecha_cierre hora_cierre                     incidente_c4  \\\n",
       "632276   01/01/2021    00:06:12  accidente choque con lesionados   \n",
       "632277   01/01/2021    02:45:33  accidente choque con lesionados   \n",
       "632278   01/01/2021    00:06:37  accidente choque con lesionados   \n",
       "632279   01/01/2021    01:45:26  accidente choque con lesionados   \n",
       "632280   01/01/2021    00:41:00  accidente choque sin lesionados   \n",
       "\n",
       "       delegacion_inicio    latitud   longitud  ano_cierre  clas_con_f_alarma  \\\n",
       "632276           TLALPAN  19.302180 -99.147020        2021  URGENCIAS MEDICAS   \n",
       "632277    MIGUEL HIDALGO  19.412716 -99.189823        2021  URGENCIAS MEDICAS   \n",
       "632278           TLALPAN  19.296480 -99.146270        2021  URGENCIAS MEDICAS   \n",
       "632279        IZTAPALAPA  19.352450 -99.014730        2021  URGENCIAS MEDICAS   \n",
       "632280    ALVARO OBREGON  19.381050 -99.239490        2021         EMERGENCIA   \n",
       "\n",
       "            tipo_entrada delegacion_cierre mes_cierre  numero_incidente V_F  \n",
       "632276   LLAMADA DEL 911           TLALPAN      Enero                 1   V  \n",
       "632277  BOTON DE AUXILIO    MIGUEL HIDALGO      Enero                 1   V  \n",
       "632278   LLAMADA DEL 911           TLALPAN      Enero                 1   V  \n",
       "632279             RADIO        IZTAPALAPA      Enero                 1   V  \n",
       "632280   LLAMADA DEL 911    ALVARO OBREGON      Enero                 1   V  "
      ]
     },
     "execution_count": 89,
     "metadata": {},
     "output_type": "execute_result"
    }
   ],
   "source": [
    "incidentes_viales_cdmx = pd.read_csv('../Datasets/Accidentes/incidentes_viales.csv', encoding= 'Latin-1', low_memory=False)\n",
    "incidentes_viales_cdmx.tail()"
   ]
  },
  {
   "cell_type": "markdown",
   "id": "2e517a29",
   "metadata": {},
   "source": [
    "# Exploración inicial"
   ]
  },
  {
   "cell_type": "code",
   "execution_count": 90,
   "id": "e923d501",
   "metadata": {},
   "outputs": [
    {
     "data": {
      "text/plain": [
       "Index(['folio', 'fecha_creacion', 'año_creacion', 'hora_creacion',\n",
       "       'dia_semana', 'fecha_cierre', 'hora_cierre', 'incidente_c4',\n",
       "       'delegacion_inicio', 'latitud', 'longitud', 'ano_cierre',\n",
       "       'clas_con_f_alarma', 'tipo_entrada', 'delegacion_cierre', 'mes_cierre',\n",
       "       'numero_incidente', 'V_F'],\n",
       "      dtype='object')"
      ]
     },
     "execution_count": 90,
     "metadata": {},
     "output_type": "execute_result"
    }
   ],
   "source": [
    "incidentes_viales_cdmx.columns"
   ]
  },
  {
   "cell_type": "code",
   "execution_count": 91,
   "id": "610c5953",
   "metadata": {},
   "outputs": [
    {
     "data": {
      "text/plain": [
       "(632281, 18)"
      ]
     },
     "execution_count": 91,
     "metadata": {},
     "output_type": "execute_result"
    }
   ],
   "source": [
    "incidentes_viales_cdmx.shape"
   ]
  },
  {
   "cell_type": "markdown",
   "id": "371425eb",
   "metadata": {},
   "source": [
    "# Limpieza"
   ]
  },
  {
   "cell_type": "code",
   "execution_count": 92,
   "id": "28ef97c7",
   "metadata": {
    "scrolled": true
   },
   "outputs": [
    {
     "data": {
      "text/html": [
       "<div>\n",
       "<style scoped>\n",
       "    .dataframe tbody tr th:only-of-type {\n",
       "        vertical-align: middle;\n",
       "    }\n",
       "\n",
       "    .dataframe tbody tr th {\n",
       "        vertical-align: top;\n",
       "    }\n",
       "\n",
       "    .dataframe thead th {\n",
       "        text-align: right;\n",
       "    }\n",
       "</style>\n",
       "<table border=\"1\" class=\"dataframe\">\n",
       "  <thead>\n",
       "    <tr style=\"text-align: right;\">\n",
       "      <th></th>\n",
       "      <th>folio</th>\n",
       "      <th>fecha_creacion</th>\n",
       "      <th>año_creacion</th>\n",
       "      <th>hora_creacion</th>\n",
       "      <th>dia_semana</th>\n",
       "      <th>fecha_cierre</th>\n",
       "      <th>hora_cierre</th>\n",
       "      <th>tipo_de_incidente</th>\n",
       "      <th>delegacion_inicio</th>\n",
       "      <th>latitud</th>\n",
       "      <th>longitud</th>\n",
       "      <th>año_cierre</th>\n",
       "      <th>clasificacion_incidente</th>\n",
       "      <th>medio_de_aviso</th>\n",
       "      <th>delegacion_cierre</th>\n",
       "      <th>mes_cierre</th>\n",
       "      <th>numero_incidente</th>\n",
       "      <th>V_F</th>\n",
       "    </tr>\n",
       "  </thead>\n",
       "  <tbody>\n",
       "    <tr>\n",
       "      <th>0</th>\n",
       "      <td>C5/170101/05814</td>\n",
       "      <td>01/01/2017</td>\n",
       "      <td>2017</td>\n",
       "      <td>19:41:28</td>\n",
       "      <td>Domingo</td>\n",
       "      <td>01/01/2017</td>\n",
       "      <td>19:47:44</td>\n",
       "      <td>accidente choque con lesionados</td>\n",
       "      <td>IZTAPALAPA</td>\n",
       "      <td>19.36328</td>\n",
       "      <td>-99.10971</td>\n",
       "      <td>2017</td>\n",
       "      <td>URGENCIAS MEDICAS</td>\n",
       "      <td>LLAMADA DEL 911</td>\n",
       "      <td>IZTAPALAPA</td>\n",
       "      <td>Enero</td>\n",
       "      <td>1</td>\n",
       "      <td>V</td>\n",
       "    </tr>\n",
       "    <tr>\n",
       "      <th>1</th>\n",
       "      <td>C5/170101/01806</td>\n",
       "      <td>01/01/2017</td>\n",
       "      <td>2017</td>\n",
       "      <td>05:53:57</td>\n",
       "      <td>Domingo</td>\n",
       "      <td>01/01/2017</td>\n",
       "      <td>06:52:39</td>\n",
       "      <td>accidente volcadura</td>\n",
       "      <td>VENUSTIANO CARRANZA</td>\n",
       "      <td>19.45442</td>\n",
       "      <td>-99.11490</td>\n",
       "      <td>2017</td>\n",
       "      <td>EMERGENCIA</td>\n",
       "      <td>LLAMADA DEL 911</td>\n",
       "      <td>VENUSTIANO CARRANZA</td>\n",
       "      <td>Enero</td>\n",
       "      <td>1</td>\n",
       "      <td>V</td>\n",
       "    </tr>\n",
       "    <tr>\n",
       "      <th>2</th>\n",
       "      <td>AO/170101/02807</td>\n",
       "      <td>01/01/2017</td>\n",
       "      <td>2017</td>\n",
       "      <td>10:16:52</td>\n",
       "      <td>Domingo</td>\n",
       "      <td>01/01/2017</td>\n",
       "      <td>13:29:31</td>\n",
       "      <td>cadaver atropellado</td>\n",
       "      <td>CUAJIMALPA</td>\n",
       "      <td>19.34960</td>\n",
       "      <td>-99.30464</td>\n",
       "      <td>2017</td>\n",
       "      <td>EMERGENCIA</td>\n",
       "      <td>RADIO</td>\n",
       "      <td>CUAJIMALPA</td>\n",
       "      <td>Enero</td>\n",
       "      <td>1</td>\n",
       "      <td>V</td>\n",
       "    </tr>\n",
       "  </tbody>\n",
       "</table>\n",
       "</div>"
      ],
      "text/plain": [
       "             folio fecha_creacion  año_creacion hora_creacion dia_semana  \\\n",
       "0  C5/170101/05814     01/01/2017          2017      19:41:28    Domingo   \n",
       "1  C5/170101/01806     01/01/2017          2017      05:53:57    Domingo   \n",
       "2  AO/170101/02807     01/01/2017          2017      10:16:52    Domingo   \n",
       "\n",
       "  fecha_cierre hora_cierre                tipo_de_incidente  \\\n",
       "0   01/01/2017    19:47:44  accidente choque con lesionados   \n",
       "1   01/01/2017    06:52:39              accidente volcadura   \n",
       "2   01/01/2017    13:29:31              cadaver atropellado   \n",
       "\n",
       "     delegacion_inicio   latitud  longitud  año_cierre  \\\n",
       "0           IZTAPALAPA  19.36328 -99.10971        2017   \n",
       "1  VENUSTIANO CARRANZA  19.45442 -99.11490        2017   \n",
       "2           CUAJIMALPA  19.34960 -99.30464        2017   \n",
       "\n",
       "  clasificacion_incidente   medio_de_aviso    delegacion_cierre mes_cierre  \\\n",
       "0       URGENCIAS MEDICAS  LLAMADA DEL 911           IZTAPALAPA      Enero   \n",
       "1              EMERGENCIA  LLAMADA DEL 911  VENUSTIANO CARRANZA      Enero   \n",
       "2              EMERGENCIA            RADIO           CUAJIMALPA      Enero   \n",
       "\n",
       "   numero_incidente V_F  \n",
       "0                 1   V  \n",
       "1                 1   V  \n",
       "2                 1   V  "
      ]
     },
     "execution_count": 92,
     "metadata": {},
     "output_type": "execute_result"
    }
   ],
   "source": [
    "column_name_mapping = {\n",
    "    'incidente_c4' : 'tipo_de_incidente',\n",
    "    'clas_con_f_alarma': 'clasificacion_incidente',\n",
    "    'tipo_entrada': 'medio_de_aviso',\n",
    "    'ano_cierre' : 'año_cierre'\n",
    "}\n",
    "\n",
    "incidentes_viales_cdmx = incidentes_viales_cdmx.rename(columns = column_name_mapping)\n",
    "\n",
    "incidentes_viales_cdmx.head(3)"
   ]
  },
  {
   "cell_type": "markdown",
   "id": "1305c685",
   "metadata": {},
   "source": [
    "# Exploración de datos"
   ]
  },
  {
   "cell_type": "code",
   "execution_count": 93,
   "id": "b66dc9fb",
   "metadata": {},
   "outputs": [
    {
     "data": {
      "text/plain": [
       "accidente choque sin lesionados                   326157\n",
       "accidente choque con lesionados                   155537\n",
       "lesionado atropellado                              81392\n",
       "accidente motociclista                             42710\n",
       "accidente volcadura                                14583\n",
       "accidente persona atrapada / desbarrancada          2787\n",
       "accidente ciclista                                  2355\n",
       "accidente choque con prensados                      1741\n",
       "accidente vehiculo atrapado                          785\n",
       "accidente otros                                      750\n",
       "cadaver atropellado                                  669\n",
       "accidente vehi­culo atrapado varado                  656\n",
       "cadaver accidente automovili­stico                   462\n",
       "sismo choque sin lesionados                          388\n",
       "accidente vehiculo desbarrancado                     380\n",
       "detencion ciudadana atropellado                      372\n",
       "sismo choque con lesionados                          288\n",
       "mi ciudad calle incidente de transito                 93\n",
       "detencion ciudadana accidente automovili­stico        88\n",
       "accidente ferroviario                                 40\n",
       "accidente monopati­n                                  26\n",
       "sismo persona atropellada                             17\n",
       "Detencion ciudadana accidente automovili­stico         3\n",
       "sismo choque con prensados                             1\n",
       "mi ciudad taxi incidente de transito                   1\n",
       "Name: tipo_de_incidente, dtype: int64"
      ]
     },
     "execution_count": 93,
     "metadata": {},
     "output_type": "execute_result"
    }
   ],
   "source": [
    "incidentes_viales_cdmx['tipo_de_incidente'].value_counts()"
   ]
  },
  {
   "cell_type": "code",
   "execution_count": 94,
   "id": "a332762f",
   "metadata": {},
   "outputs": [
    {
     "data": {
      "text/plain": [
       "IZTAPALAPA             104879\n",
       "GUSTAVO A. MADERO       64784\n",
       "CUAUHTEMOC              62457\n",
       "MIGUEL HIDALGO          50130\n",
       "COYOACAN                49431\n",
       "BENITO JUAREZ           47684\n",
       "ALVARO OBREGON          47053\n",
       "VENUSTIANO CARRANZA     43055\n",
       "TLALPAN                 42070\n",
       "AZCAPOTZALCO            27295\n",
       "IZTACALCO               25948\n",
       "XOCHIMILCO              25566\n",
       "TLAHUAC                 16206\n",
       "CUAJIMALPA              12482\n",
       "MAGDALENA CONTRERAS      9719\n",
       "MILPA ALTA               3522\n",
       "Name: delegacion_inicio, dtype: int64"
      ]
     },
     "execution_count": 94,
     "metadata": {},
     "output_type": "execute_result"
    }
   ],
   "source": [
    "incidentes_viales_cdmx['delegacion_inicio'].value_counts()"
   ]
  },
  {
   "cell_type": "code",
   "execution_count": 95,
   "id": "c2a0bbed",
   "metadata": {},
   "outputs": [
    {
     "data": {
      "text/html": [
       "<div>\n",
       "<style scoped>\n",
       "    .dataframe tbody tr th:only-of-type {\n",
       "        vertical-align: middle;\n",
       "    }\n",
       "\n",
       "    .dataframe tbody tr th {\n",
       "        vertical-align: top;\n",
       "    }\n",
       "\n",
       "    .dataframe thead th {\n",
       "        text-align: right;\n",
       "    }\n",
       "</style>\n",
       "<table border=\"1\" class=\"dataframe\">\n",
       "  <thead>\n",
       "    <tr style=\"text-align: right;\">\n",
       "      <th></th>\n",
       "      <th></th>\n",
       "      <th>año_creacion</th>\n",
       "    </tr>\n",
       "    <tr>\n",
       "      <th>dia_semana</th>\n",
       "      <th>año_creacion</th>\n",
       "      <th></th>\n",
       "    </tr>\n",
       "  </thead>\n",
       "  <tbody>\n",
       "    <tr>\n",
       "      <th rowspan=\"4\" valign=\"top\">Domingo</th>\n",
       "      <th>2018</th>\n",
       "      <td>23466</td>\n",
       "    </tr>\n",
       "    <tr>\n",
       "      <th>2019</th>\n",
       "      <td>21692</td>\n",
       "    </tr>\n",
       "    <tr>\n",
       "      <th>2017</th>\n",
       "      <td>21354</td>\n",
       "    </tr>\n",
       "    <tr>\n",
       "      <th>2020</th>\n",
       "      <td>17043</td>\n",
       "    </tr>\n",
       "    <tr>\n",
       "      <th rowspan=\"4\" valign=\"top\">Jueves</th>\n",
       "      <th>2018</th>\n",
       "      <td>25806</td>\n",
       "    </tr>\n",
       "    <tr>\n",
       "      <th>2019</th>\n",
       "      <td>23450</td>\n",
       "    </tr>\n",
       "    <tr>\n",
       "      <th>2017</th>\n",
       "      <td>23212</td>\n",
       "    </tr>\n",
       "    <tr>\n",
       "      <th>2020</th>\n",
       "      <td>16612</td>\n",
       "    </tr>\n",
       "    <tr>\n",
       "      <th rowspan=\"4\" valign=\"top\">Lunes</th>\n",
       "      <th>2018</th>\n",
       "      <td>23394</td>\n",
       "    </tr>\n",
       "    <tr>\n",
       "      <th>2017</th>\n",
       "      <td>22770</td>\n",
       "    </tr>\n",
       "    <tr>\n",
       "      <th>2019</th>\n",
       "      <td>20850</td>\n",
       "    </tr>\n",
       "    <tr>\n",
       "      <th>2020</th>\n",
       "      <td>14746</td>\n",
       "    </tr>\n",
       "    <tr>\n",
       "      <th rowspan=\"4\" valign=\"top\">Martes</th>\n",
       "      <th>2018</th>\n",
       "      <td>23760</td>\n",
       "    </tr>\n",
       "    <tr>\n",
       "      <th>2019</th>\n",
       "      <td>23119</td>\n",
       "    </tr>\n",
       "    <tr>\n",
       "      <th>2017</th>\n",
       "      <td>21950</td>\n",
       "    </tr>\n",
       "    <tr>\n",
       "      <th>2020</th>\n",
       "      <td>15755</td>\n",
       "    </tr>\n",
       "    <tr>\n",
       "      <th rowspan=\"4\" valign=\"top\">Miercoles</th>\n",
       "      <th>2018</th>\n",
       "      <td>24673</td>\n",
       "    </tr>\n",
       "    <tr>\n",
       "      <th>2019</th>\n",
       "      <td>22943</td>\n",
       "    </tr>\n",
       "    <tr>\n",
       "      <th>2017</th>\n",
       "      <td>22913</td>\n",
       "    </tr>\n",
       "    <tr>\n",
       "      <th>2020</th>\n",
       "      <td>16374</td>\n",
       "    </tr>\n",
       "    <tr>\n",
       "      <th rowspan=\"4\" valign=\"top\">Sabado</th>\n",
       "      <th>2018</th>\n",
       "      <td>29246</td>\n",
       "    </tr>\n",
       "    <tr>\n",
       "      <th>2017</th>\n",
       "      <td>25979</td>\n",
       "    </tr>\n",
       "    <tr>\n",
       "      <th>2019</th>\n",
       "      <td>25774</td>\n",
       "    </tr>\n",
       "    <tr>\n",
       "      <th>2020</th>\n",
       "      <td>19834</td>\n",
       "    </tr>\n",
       "    <tr>\n",
       "      <th rowspan=\"4\" valign=\"top\">Viernes</th>\n",
       "      <th>2018</th>\n",
       "      <td>30577</td>\n",
       "    </tr>\n",
       "    <tr>\n",
       "      <th>2019</th>\n",
       "      <td>28415</td>\n",
       "    </tr>\n",
       "    <tr>\n",
       "      <th>2017</th>\n",
       "      <td>27238</td>\n",
       "    </tr>\n",
       "    <tr>\n",
       "      <th>2020</th>\n",
       "      <td>19336</td>\n",
       "    </tr>\n",
       "  </tbody>\n",
       "</table>\n",
       "</div>"
      ],
      "text/plain": [
       "                         año_creacion\n",
       "dia_semana año_creacion              \n",
       "Domingo    2018                 23466\n",
       "           2019                 21692\n",
       "           2017                 21354\n",
       "           2020                 17043\n",
       "Jueves     2018                 25806\n",
       "           2019                 23450\n",
       "           2017                 23212\n",
       "           2020                 16612\n",
       "Lunes      2018                 23394\n",
       "           2017                 22770\n",
       "           2019                 20850\n",
       "           2020                 14746\n",
       "Martes     2018                 23760\n",
       "           2019                 23119\n",
       "           2017                 21950\n",
       "           2020                 15755\n",
       "Miercoles  2018                 24673\n",
       "           2019                 22943\n",
       "           2017                 22913\n",
       "           2020                 16374\n",
       "Sabado     2018                 29246\n",
       "           2017                 25979\n",
       "           2019                 25774\n",
       "           2020                 19834\n",
       "Viernes    2018                 30577\n",
       "           2019                 28415\n",
       "           2017                 27238\n",
       "           2020                 19336"
      ]
     },
     "execution_count": 95,
     "metadata": {},
     "output_type": "execute_result"
    }
   ],
   "source": [
    "incidentes_por_dia = pd.DataFrame(incidentes_viales_cdmx.groupby('dia_semana')['año_creacion'].value_counts())\n",
    "incidentes_por_dia"
   ]
  },
  {
   "cell_type": "code",
   "execution_count": 96,
   "id": "3ff4b645",
   "metadata": {},
   "outputs": [
    {
     "data": {
      "text/html": [
       "<div>\n",
       "<style scoped>\n",
       "    .dataframe tbody tr th:only-of-type {\n",
       "        vertical-align: middle;\n",
       "    }\n",
       "\n",
       "    .dataframe tbody tr th {\n",
       "        vertical-align: top;\n",
       "    }\n",
       "\n",
       "    .dataframe thead th {\n",
       "        text-align: right;\n",
       "    }\n",
       "</style>\n",
       "<table border=\"1\" class=\"dataframe\">\n",
       "  <thead>\n",
       "    <tr style=\"text-align: right;\">\n",
       "      <th></th>\n",
       "      <th>dia_semana</th>\n",
       "    </tr>\n",
       "  </thead>\n",
       "  <tbody>\n",
       "    <tr>\n",
       "      <th>Viernes</th>\n",
       "      <td>16.696058</td>\n",
       "    </tr>\n",
       "    <tr>\n",
       "      <th>Sabado</th>\n",
       "      <td>15.947498</td>\n",
       "    </tr>\n",
       "    <tr>\n",
       "      <th>Jueves</th>\n",
       "      <td>14.088673</td>\n",
       "    </tr>\n",
       "    <tr>\n",
       "      <th>Miercoles</th>\n",
       "      <td>13.744364</td>\n",
       "    </tr>\n",
       "    <tr>\n",
       "      <th>Martes</th>\n",
       "      <td>13.377596</td>\n",
       "    </tr>\n",
       "    <tr>\n",
       "      <th>Domingo</th>\n",
       "      <td>13.214852</td>\n",
       "    </tr>\n",
       "    <tr>\n",
       "      <th>Lunes</th>\n",
       "      <td>12.930959</td>\n",
       "    </tr>\n",
       "  </tbody>\n",
       "</table>\n",
       "</div>"
      ],
      "text/plain": [
       "           dia_semana\n",
       "Viernes     16.696058\n",
       "Sabado      15.947498\n",
       "Jueves      14.088673\n",
       "Miercoles   13.744364\n",
       "Martes      13.377596\n",
       "Domingo     13.214852\n",
       "Lunes       12.930959"
      ]
     },
     "execution_count": 96,
     "metadata": {},
     "output_type": "execute_result"
    }
   ],
   "source": [
    "incidentes_por_dia_freq = pd.DataFrame(100 * incidentes_viales_cdmx['dia_semana'].value_counts()/len(incidentes_viales_cdmx['dia_semana']))\n",
    "incidentes_por_dia_freq"
   ]
  },
  {
   "cell_type": "code",
   "execution_count": 97,
   "id": "96763fd0",
   "metadata": {},
   "outputs": [
    {
     "data": {
      "text/html": [
       "<div>\n",
       "<style scoped>\n",
       "    .dataframe tbody tr th:only-of-type {\n",
       "        vertical-align: middle;\n",
       "    }\n",
       "\n",
       "    .dataframe tbody tr th {\n",
       "        vertical-align: top;\n",
       "    }\n",
       "\n",
       "    .dataframe thead th {\n",
       "        text-align: right;\n",
       "    }\n",
       "</style>\n",
       "<table border=\"1\" class=\"dataframe\">\n",
       "  <thead>\n",
       "    <tr style=\"text-align: right;\">\n",
       "      <th></th>\n",
       "      <th></th>\n",
       "      <th>año_creacion</th>\n",
       "    </tr>\n",
       "    <tr>\n",
       "      <th>clasificacion_incidente</th>\n",
       "      <th>año_creacion</th>\n",
       "      <th></th>\n",
       "    </tr>\n",
       "  </thead>\n",
       "  <tbody>\n",
       "    <tr>\n",
       "      <th rowspan=\"4\" valign=\"top\">DELITO</th>\n",
       "      <th>2018</th>\n",
       "      <td>143</td>\n",
       "    </tr>\n",
       "    <tr>\n",
       "      <th>2019</th>\n",
       "      <td>122</td>\n",
       "    </tr>\n",
       "    <tr>\n",
       "      <th>2020</th>\n",
       "      <td>114</td>\n",
       "    </tr>\n",
       "    <tr>\n",
       "      <th>2017</th>\n",
       "      <td>80</td>\n",
       "    </tr>\n",
       "    <tr>\n",
       "      <th rowspan=\"4\" valign=\"top\">EMERGENCIA</th>\n",
       "      <th>2018</th>\n",
       "      <td>100112</td>\n",
       "    </tr>\n",
       "    <tr>\n",
       "      <th>2017</th>\n",
       "      <td>92418</td>\n",
       "    </tr>\n",
       "    <tr>\n",
       "      <th>2019</th>\n",
       "      <td>91588</td>\n",
       "    </tr>\n",
       "    <tr>\n",
       "      <th>2020</th>\n",
       "      <td>60502</td>\n",
       "    </tr>\n",
       "    <tr>\n",
       "      <th rowspan=\"4\" valign=\"top\">FALSA ALARMA</th>\n",
       "      <th>2017</th>\n",
       "      <td>2069</td>\n",
       "    </tr>\n",
       "    <tr>\n",
       "      <th>2018</th>\n",
       "      <td>1543</td>\n",
       "    </tr>\n",
       "    <tr>\n",
       "      <th>2020</th>\n",
       "      <td>720</td>\n",
       "    </tr>\n",
       "    <tr>\n",
       "      <th>2019</th>\n",
       "      <td>324</td>\n",
       "    </tr>\n",
       "    <tr>\n",
       "      <th rowspan=\"4\" valign=\"top\">URGENCIAS MEDICAS</th>\n",
       "      <th>2018</th>\n",
       "      <td>79124</td>\n",
       "    </tr>\n",
       "    <tr>\n",
       "      <th>2019</th>\n",
       "      <td>74209</td>\n",
       "    </tr>\n",
       "    <tr>\n",
       "      <th>2017</th>\n",
       "      <td>70849</td>\n",
       "    </tr>\n",
       "    <tr>\n",
       "      <th>2020</th>\n",
       "      <td>58364</td>\n",
       "    </tr>\n",
       "  </tbody>\n",
       "</table>\n",
       "</div>"
      ],
      "text/plain": [
       "                                      año_creacion\n",
       "clasificacion_incidente año_creacion              \n",
       "DELITO                  2018                   143\n",
       "                        2019                   122\n",
       "                        2020                   114\n",
       "                        2017                    80\n",
       "EMERGENCIA              2018                100112\n",
       "                        2017                 92418\n",
       "                        2019                 91588\n",
       "                        2020                 60502\n",
       "FALSA ALARMA            2017                  2069\n",
       "                        2018                  1543\n",
       "                        2020                   720\n",
       "                        2019                   324\n",
       "URGENCIAS MEDICAS       2018                 79124\n",
       "                        2019                 74209\n",
       "                        2017                 70849\n",
       "                        2020                 58364"
      ]
     },
     "execution_count": 97,
     "metadata": {},
     "output_type": "execute_result"
    }
   ],
   "source": [
    "incidentes_clasificacion = pd.DataFrame(incidentes_viales_cdmx.groupby('clasificacion_incidente')['año_creacion'].value_counts())\n",
    "incidentes_clasificacion"
   ]
  },
  {
   "cell_type": "code",
   "execution_count": 98,
   "id": "970f859e",
   "metadata": {},
   "outputs": [
    {
     "data": {
      "text/plain": [
       "Index(['año_creacion'], dtype='object')"
      ]
     },
     "execution_count": 98,
     "metadata": {},
     "output_type": "execute_result"
    }
   ],
   "source": [
    "incidentes_clasificacion.columns"
   ]
  },
  {
   "cell_type": "code",
   "execution_count": 99,
   "id": "dd22653d",
   "metadata": {},
   "outputs": [
    {
     "data": {
      "text/html": [
       "<div>\n",
       "<style scoped>\n",
       "    .dataframe tbody tr th:only-of-type {\n",
       "        vertical-align: middle;\n",
       "    }\n",
       "\n",
       "    .dataframe tbody tr th {\n",
       "        vertical-align: top;\n",
       "    }\n",
       "\n",
       "    .dataframe thead th {\n",
       "        text-align: right;\n",
       "    }\n",
       "</style>\n",
       "<table border=\"1\" class=\"dataframe\">\n",
       "  <thead>\n",
       "    <tr style=\"text-align: right;\">\n",
       "      <th></th>\n",
       "      <th>clasificacion_incidente</th>\n",
       "    </tr>\n",
       "  </thead>\n",
       "  <tbody>\n",
       "    <tr>\n",
       "      <th>EMERGENCIA</th>\n",
       "      <td>54.504247</td>\n",
       "    </tr>\n",
       "    <tr>\n",
       "      <th>URGENCIAS MEDICAS</th>\n",
       "      <td>44.686777</td>\n",
       "    </tr>\n",
       "    <tr>\n",
       "      <th>FALSA ALARMA</th>\n",
       "      <td>0.736381</td>\n",
       "    </tr>\n",
       "    <tr>\n",
       "      <th>DELITO</th>\n",
       "      <td>0.072594</td>\n",
       "    </tr>\n",
       "  </tbody>\n",
       "</table>\n",
       "</div>"
      ],
      "text/plain": [
       "                   clasificacion_incidente\n",
       "EMERGENCIA                       54.504247\n",
       "URGENCIAS MEDICAS                44.686777\n",
       "FALSA ALARMA                      0.736381\n",
       "DELITO                            0.072594"
      ]
     },
     "execution_count": 99,
     "metadata": {},
     "output_type": "execute_result"
    }
   ],
   "source": [
    "incidentes_por_dia_freq = pd.DataFrame(100 * incidentes_viales_cdmx['clasificacion_incidente'].value_counts()/len(incidentes_viales_cdmx['clasificacion_incidente']))\n",
    "incidentes_por_dia_freq"
   ]
  },
  {
   "cell_type": "code",
   "execution_count": 100,
   "id": "5f15a44a",
   "metadata": {},
   "outputs": [
    {
     "data": {
      "text/html": [
       "<div>\n",
       "<style scoped>\n",
       "    .dataframe tbody tr th:only-of-type {\n",
       "        vertical-align: middle;\n",
       "    }\n",
       "\n",
       "    .dataframe tbody tr th {\n",
       "        vertical-align: top;\n",
       "    }\n",
       "\n",
       "    .dataframe thead th {\n",
       "        text-align: right;\n",
       "    }\n",
       "</style>\n",
       "<table border=\"1\" class=\"dataframe\">\n",
       "  <thead>\n",
       "    <tr style=\"text-align: right;\">\n",
       "      <th></th>\n",
       "      <th>0</th>\n",
       "    </tr>\n",
       "    <tr>\n",
       "      <th>medio_de_aviso</th>\n",
       "      <th></th>\n",
       "    </tr>\n",
       "  </thead>\n",
       "  <tbody>\n",
       "    <tr>\n",
       "      <th>APLICATIVOS</th>\n",
       "      <td>146</td>\n",
       "    </tr>\n",
       "    <tr>\n",
       "      <th>BOTON DE AUXILIO</th>\n",
       "      <td>34097</td>\n",
       "    </tr>\n",
       "    <tr>\n",
       "      <th>CAMARA</th>\n",
       "      <td>984</td>\n",
       "    </tr>\n",
       "    <tr>\n",
       "      <th>LLAMADA APP911</th>\n",
       "      <td>7011</td>\n",
       "    </tr>\n",
       "    <tr>\n",
       "      <th>LLAMADA DEL 911</th>\n",
       "      <td>558665</td>\n",
       "    </tr>\n",
       "    <tr>\n",
       "      <th>RADIO</th>\n",
       "      <td>23884</td>\n",
       "    </tr>\n",
       "    <tr>\n",
       "      <th>REDES</th>\n",
       "      <td>2826</td>\n",
       "    </tr>\n",
       "    <tr>\n",
       "      <th>ZELLO</th>\n",
       "      <td>4668</td>\n",
       "    </tr>\n",
       "  </tbody>\n",
       "</table>\n",
       "</div>"
      ],
      "text/plain": [
       "                       0\n",
       "medio_de_aviso          \n",
       "APLICATIVOS          146\n",
       "BOTON DE AUXILIO   34097\n",
       "CAMARA               984\n",
       "LLAMADA APP911      7011\n",
       "LLAMADA DEL 911   558665\n",
       "RADIO              23884\n",
       "REDES               2826\n",
       "ZELLO               4668"
      ]
     },
     "execution_count": 100,
     "metadata": {},
     "output_type": "execute_result"
    }
   ],
   "source": [
    "incidentes_clasificacion = pd.DataFrame(incidentes_viales_cdmx.groupby('medio_de_aviso').size())\n",
    "incidentes_clasificacion"
   ]
  },
  {
   "cell_type": "code",
   "execution_count": 101,
   "id": "892a9db6",
   "metadata": {},
   "outputs": [
    {
     "data": {
      "text/html": [
       "<div>\n",
       "<style scoped>\n",
       "    .dataframe tbody tr th:only-of-type {\n",
       "        vertical-align: middle;\n",
       "    }\n",
       "\n",
       "    .dataframe tbody tr th {\n",
       "        vertical-align: top;\n",
       "    }\n",
       "\n",
       "    .dataframe thead th {\n",
       "        text-align: right;\n",
       "    }\n",
       "</style>\n",
       "<table border=\"1\" class=\"dataframe\">\n",
       "  <thead>\n",
       "    <tr style=\"text-align: right;\">\n",
       "      <th></th>\n",
       "      <th>medio_de_aviso</th>\n",
       "    </tr>\n",
       "  </thead>\n",
       "  <tbody>\n",
       "    <tr>\n",
       "      <th>LLAMADA DEL 911</th>\n",
       "      <td>88.357075</td>\n",
       "    </tr>\n",
       "    <tr>\n",
       "      <th>BOTON DE AUXILIO</th>\n",
       "      <td>5.392697</td>\n",
       "    </tr>\n",
       "    <tr>\n",
       "      <th>RADIO</th>\n",
       "      <td>3.777434</td>\n",
       "    </tr>\n",
       "    <tr>\n",
       "      <th>LLAMADA APP911</th>\n",
       "      <td>1.108842</td>\n",
       "    </tr>\n",
       "    <tr>\n",
       "      <th>ZELLO</th>\n",
       "      <td>0.738279</td>\n",
       "    </tr>\n",
       "    <tr>\n",
       "      <th>REDES</th>\n",
       "      <td>0.446953</td>\n",
       "    </tr>\n",
       "    <tr>\n",
       "      <th>CAMARA</th>\n",
       "      <td>0.155627</td>\n",
       "    </tr>\n",
       "    <tr>\n",
       "      <th>APLICATIVOS</th>\n",
       "      <td>0.023091</td>\n",
       "    </tr>\n",
       "  </tbody>\n",
       "</table>\n",
       "</div>"
      ],
      "text/plain": [
       "                  medio_de_aviso\n",
       "LLAMADA DEL 911        88.357075\n",
       "BOTON DE AUXILIO        5.392697\n",
       "RADIO                   3.777434\n",
       "LLAMADA APP911          1.108842\n",
       "ZELLO                   0.738279\n",
       "REDES                   0.446953\n",
       "CAMARA                  0.155627\n",
       "APLICATIVOS             0.023091"
      ]
     },
     "execution_count": 101,
     "metadata": {},
     "output_type": "execute_result"
    }
   ],
   "source": [
    "incidentes_por_dia_freq = pd.DataFrame(100 * incidentes_viales_cdmx['medio_de_aviso'].value_counts()/len(incidentes_viales_cdmx['medio_de_aviso']))\n",
    "incidentes_por_dia_freq"
   ]
  },
  {
   "cell_type": "code",
   "execution_count": 102,
   "id": "f760dffe",
   "metadata": {},
   "outputs": [
    {
     "data": {
      "text/html": [
       "<div>\n",
       "<style scoped>\n",
       "    .dataframe tbody tr th:only-of-type {\n",
       "        vertical-align: middle;\n",
       "    }\n",
       "\n",
       "    .dataframe tbody tr th {\n",
       "        vertical-align: top;\n",
       "    }\n",
       "\n",
       "    .dataframe thead th {\n",
       "        text-align: right;\n",
       "    }\n",
       "</style>\n",
       "<table border=\"1\" class=\"dataframe\">\n",
       "  <thead>\n",
       "    <tr style=\"text-align: right;\">\n",
       "      <th></th>\n",
       "      <th></th>\n",
       "      <th>año_creacion</th>\n",
       "    </tr>\n",
       "    <tr>\n",
       "      <th>clasificacion_incidente</th>\n",
       "      <th>año_creacion</th>\n",
       "      <th></th>\n",
       "    </tr>\n",
       "  </thead>\n",
       "  <tbody>\n",
       "    <tr>\n",
       "      <th rowspan=\"4\" valign=\"top\">DELITO</th>\n",
       "      <th>2018</th>\n",
       "      <td>143</td>\n",
       "    </tr>\n",
       "    <tr>\n",
       "      <th>2019</th>\n",
       "      <td>122</td>\n",
       "    </tr>\n",
       "    <tr>\n",
       "      <th>2020</th>\n",
       "      <td>114</td>\n",
       "    </tr>\n",
       "    <tr>\n",
       "      <th>2017</th>\n",
       "      <td>80</td>\n",
       "    </tr>\n",
       "    <tr>\n",
       "      <th rowspan=\"4\" valign=\"top\">EMERGENCIA</th>\n",
       "      <th>2018</th>\n",
       "      <td>100112</td>\n",
       "    </tr>\n",
       "    <tr>\n",
       "      <th>2017</th>\n",
       "      <td>92418</td>\n",
       "    </tr>\n",
       "    <tr>\n",
       "      <th>2019</th>\n",
       "      <td>91588</td>\n",
       "    </tr>\n",
       "    <tr>\n",
       "      <th>2020</th>\n",
       "      <td>60502</td>\n",
       "    </tr>\n",
       "    <tr>\n",
       "      <th rowspan=\"4\" valign=\"top\">FALSA ALARMA</th>\n",
       "      <th>2017</th>\n",
       "      <td>2069</td>\n",
       "    </tr>\n",
       "    <tr>\n",
       "      <th>2018</th>\n",
       "      <td>1543</td>\n",
       "    </tr>\n",
       "    <tr>\n",
       "      <th>2020</th>\n",
       "      <td>720</td>\n",
       "    </tr>\n",
       "    <tr>\n",
       "      <th>2019</th>\n",
       "      <td>324</td>\n",
       "    </tr>\n",
       "    <tr>\n",
       "      <th rowspan=\"4\" valign=\"top\">URGENCIAS MEDICAS</th>\n",
       "      <th>2018</th>\n",
       "      <td>79124</td>\n",
       "    </tr>\n",
       "    <tr>\n",
       "      <th>2019</th>\n",
       "      <td>74209</td>\n",
       "    </tr>\n",
       "    <tr>\n",
       "      <th>2017</th>\n",
       "      <td>70849</td>\n",
       "    </tr>\n",
       "    <tr>\n",
       "      <th>2020</th>\n",
       "      <td>58364</td>\n",
       "    </tr>\n",
       "  </tbody>\n",
       "</table>\n",
       "</div>"
      ],
      "text/plain": [
       "                                      año_creacion\n",
       "clasificacion_incidente año_creacion              \n",
       "DELITO                  2018                   143\n",
       "                        2019                   122\n",
       "                        2020                   114\n",
       "                        2017                    80\n",
       "EMERGENCIA              2018                100112\n",
       "                        2017                 92418\n",
       "                        2019                 91588\n",
       "                        2020                 60502\n",
       "FALSA ALARMA            2017                  2069\n",
       "                        2018                  1543\n",
       "                        2020                   720\n",
       "                        2019                   324\n",
       "URGENCIAS MEDICAS       2018                 79124\n",
       "                        2019                 74209\n",
       "                        2017                 70849\n",
       "                        2020                 58364"
      ]
     },
     "execution_count": 102,
     "metadata": {},
     "output_type": "execute_result"
    }
   ],
   "source": [
    "clasificacion_año_delito = pd.DataFrame(incidentes_viales_cdmx.groupby('clasificacion_incidente')['año_creacion'].value_counts())\n",
    "clasificacion_año_delito"
   ]
  },
  {
   "cell_type": "code",
   "execution_count": 106,
   "id": "596190da",
   "metadata": {},
   "outputs": [
    {
     "data": {
      "text/html": [
       "<div>\n",
       "<style scoped>\n",
       "    .dataframe tbody tr th:only-of-type {\n",
       "        vertical-align: middle;\n",
       "    }\n",
       "\n",
       "    .dataframe tbody tr th {\n",
       "        vertical-align: top;\n",
       "    }\n",
       "\n",
       "    .dataframe thead th {\n",
       "        text-align: right;\n",
       "    }\n",
       "</style>\n",
       "<table border=\"1\" class=\"dataframe\">\n",
       "  <thead>\n",
       "    <tr style=\"text-align: right;\">\n",
       "      <th></th>\n",
       "      <th></th>\n",
       "      <th>tipo_de_incidente</th>\n",
       "    </tr>\n",
       "    <tr>\n",
       "      <th>clasificacion_incidente</th>\n",
       "      <th>tipo_de_incidente</th>\n",
       "      <th></th>\n",
       "    </tr>\n",
       "  </thead>\n",
       "  <tbody>\n",
       "    <tr>\n",
       "      <th rowspan=\"3\" valign=\"top\">DELITO</th>\n",
       "      <th>detencion ciudadana atropellado</th>\n",
       "      <td>369</td>\n",
       "    </tr>\n",
       "    <tr>\n",
       "      <th>detencion ciudadana accidente automovili­stico</th>\n",
       "      <td>87</td>\n",
       "    </tr>\n",
       "    <tr>\n",
       "      <th>Detencion ciudadana accidente automovili­stico</th>\n",
       "      <td>3</td>\n",
       "    </tr>\n",
       "    <tr>\n",
       "      <th rowspan=\"16\" valign=\"top\">EMERGENCIA</th>\n",
       "      <th>accidente choque sin lesionados</th>\n",
       "      <td>322804</td>\n",
       "    </tr>\n",
       "    <tr>\n",
       "      <th>accidente volcadura</th>\n",
       "      <td>14542</td>\n",
       "    </tr>\n",
       "    <tr>\n",
       "      <th>accidente persona atrapada / desbarrancada</th>\n",
       "      <td>2770</td>\n",
       "    </tr>\n",
       "    <tr>\n",
       "      <th>accidente vehiculo atrapado</th>\n",
       "      <td>776</td>\n",
       "    </tr>\n",
       "    <tr>\n",
       "      <th>accidente otros</th>\n",
       "      <td>745</td>\n",
       "    </tr>\n",
       "    <tr>\n",
       "      <th>cadaver atropellado</th>\n",
       "      <td>666</td>\n",
       "    </tr>\n",
       "    <tr>\n",
       "      <th>accidente vehi­culo atrapado varado</th>\n",
       "      <td>653</td>\n",
       "    </tr>\n",
       "    <tr>\n",
       "      <th>cadaver accidente automovili­stico</th>\n",
       "      <td>460</td>\n",
       "    </tr>\n",
       "    <tr>\n",
       "      <th>sismo choque sin lesionados</th>\n",
       "      <td>388</td>\n",
       "    </tr>\n",
       "    <tr>\n",
       "      <th>accidente vehiculo desbarrancado</th>\n",
       "      <td>377</td>\n",
       "    </tr>\n",
       "    <tr>\n",
       "      <th>sismo choque con lesionados</th>\n",
       "      <td>288</td>\n",
       "    </tr>\n",
       "    <tr>\n",
       "      <th>mi ciudad calle incidente de transito</th>\n",
       "      <td>93</td>\n",
       "    </tr>\n",
       "    <tr>\n",
       "      <th>accidente ferroviario</th>\n",
       "      <td>39</td>\n",
       "    </tr>\n",
       "    <tr>\n",
       "      <th>sismo persona atropellada</th>\n",
       "      <td>17</td>\n",
       "    </tr>\n",
       "    <tr>\n",
       "      <th>mi ciudad taxi incidente de transito</th>\n",
       "      <td>1</td>\n",
       "    </tr>\n",
       "    <tr>\n",
       "      <th>sismo choque con prensados</th>\n",
       "      <td>1</td>\n",
       "    </tr>\n",
       "    <tr>\n",
       "      <th rowspan=\"17\" valign=\"top\">FALSA ALARMA</th>\n",
       "      <th>accidente choque sin lesionados</th>\n",
       "      <td>3353</td>\n",
       "    </tr>\n",
       "    <tr>\n",
       "      <th>accidente choque con lesionados</th>\n",
       "      <td>724</td>\n",
       "    </tr>\n",
       "    <tr>\n",
       "      <th>lesionado atropellado</th>\n",
       "      <td>315</td>\n",
       "    </tr>\n",
       "    <tr>\n",
       "      <th>accidente motociclista</th>\n",
       "      <td>163</td>\n",
       "    </tr>\n",
       "    <tr>\n",
       "      <th>accidente volcadura</th>\n",
       "      <td>41</td>\n",
       "    </tr>\n",
       "    <tr>\n",
       "      <th>accidente persona atrapada / desbarrancada</th>\n",
       "      <td>17</td>\n",
       "    </tr>\n",
       "    <tr>\n",
       "      <th>accidente vehiculo atrapado</th>\n",
       "      <td>9</td>\n",
       "    </tr>\n",
       "    <tr>\n",
       "      <th>accidente choque con prensados</th>\n",
       "      <td>7</td>\n",
       "    </tr>\n",
       "    <tr>\n",
       "      <th>accidente ciclista</th>\n",
       "      <td>6</td>\n",
       "    </tr>\n",
       "    <tr>\n",
       "      <th>accidente otros</th>\n",
       "      <td>5</td>\n",
       "    </tr>\n",
       "    <tr>\n",
       "      <th>accidente vehiculo desbarrancado</th>\n",
       "      <td>3</td>\n",
       "    </tr>\n",
       "    <tr>\n",
       "      <th>accidente vehi­culo atrapado varado</th>\n",
       "      <td>3</td>\n",
       "    </tr>\n",
       "    <tr>\n",
       "      <th>cadaver atropellado</th>\n",
       "      <td>3</td>\n",
       "    </tr>\n",
       "    <tr>\n",
       "      <th>detencion ciudadana atropellado</th>\n",
       "      <td>3</td>\n",
       "    </tr>\n",
       "    <tr>\n",
       "      <th>cadaver accidente automovili­stico</th>\n",
       "      <td>2</td>\n",
       "    </tr>\n",
       "    <tr>\n",
       "      <th>accidente ferroviario</th>\n",
       "      <td>1</td>\n",
       "    </tr>\n",
       "    <tr>\n",
       "      <th>detencion ciudadana accidente automovili­stico</th>\n",
       "      <td>1</td>\n",
       "    </tr>\n",
       "    <tr>\n",
       "      <th rowspan=\"6\" valign=\"top\">URGENCIAS MEDICAS</th>\n",
       "      <th>accidente choque con lesionados</th>\n",
       "      <td>154813</td>\n",
       "    </tr>\n",
       "    <tr>\n",
       "      <th>lesionado atropellado</th>\n",
       "      <td>81077</td>\n",
       "    </tr>\n",
       "    <tr>\n",
       "      <th>accidente motociclista</th>\n",
       "      <td>42547</td>\n",
       "    </tr>\n",
       "    <tr>\n",
       "      <th>accidente ciclista</th>\n",
       "      <td>2349</td>\n",
       "    </tr>\n",
       "    <tr>\n",
       "      <th>accidente choque con prensados</th>\n",
       "      <td>1734</td>\n",
       "    </tr>\n",
       "    <tr>\n",
       "      <th>accidente monopati­n</th>\n",
       "      <td>26</td>\n",
       "    </tr>\n",
       "  </tbody>\n",
       "</table>\n",
       "</div>"
      ],
      "text/plain": [
       "                                                                        tipo_de_incidente\n",
       "clasificacion_incidente tipo_de_incidente                                                \n",
       "DELITO                  detencion ciudadana atropellado                               369\n",
       "                        detencion ciudadana accidente automovili­stico                 87\n",
       "                        Detencion ciudadana accidente automovili­stico                  3\n",
       "EMERGENCIA              accidente choque sin lesionados                            322804\n",
       "                        accidente volcadura                                         14542\n",
       "                        accidente persona atrapada / desbarrancada                   2770\n",
       "                        accidente vehiculo atrapado                                   776\n",
       "                        accidente otros                                               745\n",
       "                        cadaver atropellado                                           666\n",
       "                        accidente vehi­culo atrapado varado                           653\n",
       "                        cadaver accidente automovili­stico                            460\n",
       "                        sismo choque sin lesionados                                   388\n",
       "                        accidente vehiculo desbarrancado                              377\n",
       "                        sismo choque con lesionados                                   288\n",
       "                        mi ciudad calle incidente de transito                          93\n",
       "                        accidente ferroviario                                          39\n",
       "                        sismo persona atropellada                                      17\n",
       "                        mi ciudad taxi incidente de transito                            1\n",
       "                        sismo choque con prensados                                      1\n",
       "FALSA ALARMA            accidente choque sin lesionados                              3353\n",
       "                        accidente choque con lesionados                               724\n",
       "                        lesionado atropellado                                         315\n",
       "                        accidente motociclista                                        163\n",
       "                        accidente volcadura                                            41\n",
       "                        accidente persona atrapada / desbarrancada                     17\n",
       "                        accidente vehiculo atrapado                                     9\n",
       "                        accidente choque con prensados                                  7\n",
       "                        accidente ciclista                                              6\n",
       "                        accidente otros                                                 5\n",
       "                        accidente vehiculo desbarrancado                                3\n",
       "                        accidente vehi­culo atrapado varado                             3\n",
       "                        cadaver atropellado                                             3\n",
       "                        detencion ciudadana atropellado                                 3\n",
       "                        cadaver accidente automovili­stico                              2\n",
       "                        accidente ferroviario                                           1\n",
       "                        detencion ciudadana accidente automovili­stico                  1\n",
       "URGENCIAS MEDICAS       accidente choque con lesionados                            154813\n",
       "                        lesionado atropellado                                       81077\n",
       "                        accidente motociclista                                      42547\n",
       "                        accidente ciclista                                           2349\n",
       "                        accidente choque con prensados                               1734\n",
       "                        accidente monopati­n                                           26"
      ]
     },
     "execution_count": 106,
     "metadata": {},
     "output_type": "execute_result"
    }
   ],
   "source": [
    "clasificacion_class_incidente = pd.DataFrame(incidentes_viales_cdmx.groupby('clasificacion_incidente')['tipo_de_incidente'].value_counts())\n",
    "clasificacion_class_incidente"
   ]
  },
  {
   "cell_type": "code",
   "execution_count": 16,
   "id": "9dad0502",
   "metadata": {},
   "outputs": [
    {
     "data": {
      "text/html": [
       "<div>\n",
       "<style scoped>\n",
       "    .dataframe tbody tr th:only-of-type {\n",
       "        vertical-align: middle;\n",
       "    }\n",
       "\n",
       "    .dataframe tbody tr th {\n",
       "        vertical-align: top;\n",
       "    }\n",
       "\n",
       "    .dataframe thead th {\n",
       "        text-align: right;\n",
       "    }\n",
       "</style>\n",
       "<table border=\"1\" class=\"dataframe\">\n",
       "  <thead>\n",
       "    <tr style=\"text-align: right;\">\n",
       "      <th></th>\n",
       "      <th></th>\n",
       "      <th>dia_semana</th>\n",
       "    </tr>\n",
       "    <tr>\n",
       "      <th>clasificacion_incidente</th>\n",
       "      <th>dia_semana</th>\n",
       "      <th></th>\n",
       "    </tr>\n",
       "  </thead>\n",
       "  <tbody>\n",
       "    <tr>\n",
       "      <th rowspan=\"7\" valign=\"top\">DELITO</th>\n",
       "      <th>Sabado</th>\n",
       "      <td>84</td>\n",
       "    </tr>\n",
       "    <tr>\n",
       "      <th>Viernes</th>\n",
       "      <td>84</td>\n",
       "    </tr>\n",
       "    <tr>\n",
       "      <th>Domingo</th>\n",
       "      <td>82</td>\n",
       "    </tr>\n",
       "    <tr>\n",
       "      <th>Martes</th>\n",
       "      <td>64</td>\n",
       "    </tr>\n",
       "    <tr>\n",
       "      <th>Jueves</th>\n",
       "      <td>54</td>\n",
       "    </tr>\n",
       "    <tr>\n",
       "      <th>Miercoles</th>\n",
       "      <td>48</td>\n",
       "    </tr>\n",
       "    <tr>\n",
       "      <th>Lunes</th>\n",
       "      <td>43</td>\n",
       "    </tr>\n",
       "    <tr>\n",
       "      <th rowspan=\"7\" valign=\"top\">EMERGENCIA</th>\n",
       "      <th>Viernes</th>\n",
       "      <td>59635</td>\n",
       "    </tr>\n",
       "    <tr>\n",
       "      <th>Sabado</th>\n",
       "      <td>51788</td>\n",
       "    </tr>\n",
       "    <tr>\n",
       "      <th>Jueves</th>\n",
       "      <td>50276</td>\n",
       "    </tr>\n",
       "    <tr>\n",
       "      <th>Miercoles</th>\n",
       "      <td>49764</td>\n",
       "    </tr>\n",
       "    <tr>\n",
       "      <th>Martes</th>\n",
       "      <td>47920</td>\n",
       "    </tr>\n",
       "    <tr>\n",
       "      <th>Lunes</th>\n",
       "      <td>45436</td>\n",
       "    </tr>\n",
       "    <tr>\n",
       "      <th>Domingo</th>\n",
       "      <td>39801</td>\n",
       "    </tr>\n",
       "    <tr>\n",
       "      <th rowspan=\"7\" valign=\"top\">FALSA ALARMA</th>\n",
       "      <th>Viernes</th>\n",
       "      <td>803</td>\n",
       "    </tr>\n",
       "    <tr>\n",
       "      <th>Sabado</th>\n",
       "      <td>708</td>\n",
       "    </tr>\n",
       "    <tr>\n",
       "      <th>Jueves</th>\n",
       "      <td>678</td>\n",
       "    </tr>\n",
       "    <tr>\n",
       "      <th>Miercoles</th>\n",
       "      <td>669</td>\n",
       "    </tr>\n",
       "    <tr>\n",
       "      <th>Martes</th>\n",
       "      <td>639</td>\n",
       "    </tr>\n",
       "    <tr>\n",
       "      <th>Lunes</th>\n",
       "      <td>592</td>\n",
       "    </tr>\n",
       "    <tr>\n",
       "      <th>Domingo</th>\n",
       "      <td>567</td>\n",
       "    </tr>\n",
       "    <tr>\n",
       "      <th rowspan=\"7\" valign=\"top\">URGENCIAS MEDICAS</th>\n",
       "      <th>Sabado</th>\n",
       "      <td>48253</td>\n",
       "    </tr>\n",
       "    <tr>\n",
       "      <th>Viernes</th>\n",
       "      <td>45044</td>\n",
       "    </tr>\n",
       "    <tr>\n",
       "      <th>Domingo</th>\n",
       "      <td>43105</td>\n",
       "    </tr>\n",
       "    <tr>\n",
       "      <th>Jueves</th>\n",
       "      <td>38072</td>\n",
       "    </tr>\n",
       "    <tr>\n",
       "      <th>Miercoles</th>\n",
       "      <td>36422</td>\n",
       "    </tr>\n",
       "    <tr>\n",
       "      <th>Martes</th>\n",
       "      <td>35961</td>\n",
       "    </tr>\n",
       "    <tr>\n",
       "      <th>Lunes</th>\n",
       "      <td>35689</td>\n",
       "    </tr>\n",
       "  </tbody>\n",
       "</table>\n",
       "</div>"
      ],
      "text/plain": [
       "                                    dia_semana\n",
       "clasificacion_incidente dia_semana            \n",
       "DELITO                  Sabado              84\n",
       "                        Viernes             84\n",
       "                        Domingo             82\n",
       "                        Martes              64\n",
       "                        Jueves              54\n",
       "                        Miercoles           48\n",
       "                        Lunes               43\n",
       "EMERGENCIA              Viernes          59635\n",
       "                        Sabado           51788\n",
       "                        Jueves           50276\n",
       "                        Miercoles        49764\n",
       "                        Martes           47920\n",
       "                        Lunes            45436\n",
       "                        Domingo          39801\n",
       "FALSA ALARMA            Viernes            803\n",
       "                        Sabado             708\n",
       "                        Jueves             678\n",
       "                        Miercoles          669\n",
       "                        Martes             639\n",
       "                        Lunes              592\n",
       "                        Domingo            567\n",
       "URGENCIAS MEDICAS       Sabado           48253\n",
       "                        Viernes          45044\n",
       "                        Domingo          43105\n",
       "                        Jueves           38072\n",
       "                        Miercoles        36422\n",
       "                        Martes           35961\n",
       "                        Lunes            35689"
      ]
     },
     "execution_count": 16,
     "metadata": {},
     "output_type": "execute_result"
    }
   ],
   "source": [
    "clasificacion_dia_delito = pd.DataFrame(incidentes_viales_cdmx.groupby('clasificacion_incidente')['dia_semana'].value_counts())\n",
    "clasificacion_dia_delito"
   ]
  },
  {
   "cell_type": "code",
   "execution_count": 17,
   "id": "8876c71e",
   "metadata": {},
   "outputs": [
    {
     "data": {
      "text/html": [
       "<div>\n",
       "<style scoped>\n",
       "    .dataframe tbody tr th:only-of-type {\n",
       "        vertical-align: middle;\n",
       "    }\n",
       "\n",
       "    .dataframe tbody tr th {\n",
       "        vertical-align: top;\n",
       "    }\n",
       "\n",
       "    .dataframe thead th {\n",
       "        text-align: right;\n",
       "    }\n",
       "</style>\n",
       "<table border=\"1\" class=\"dataframe\">\n",
       "  <thead>\n",
       "    <tr style=\"text-align: right;\">\n",
       "      <th></th>\n",
       "      <th>dia_semana</th>\n",
       "    </tr>\n",
       "    <tr>\n",
       "      <th>dia_semana</th>\n",
       "      <th></th>\n",
       "    </tr>\n",
       "  </thead>\n",
       "  <tbody>\n",
       "    <tr>\n",
       "      <th>Sabado</th>\n",
       "      <td>84</td>\n",
       "    </tr>\n",
       "    <tr>\n",
       "      <th>Viernes</th>\n",
       "      <td>84</td>\n",
       "    </tr>\n",
       "    <tr>\n",
       "      <th>Domingo</th>\n",
       "      <td>82</td>\n",
       "    </tr>\n",
       "    <tr>\n",
       "      <th>Martes</th>\n",
       "      <td>64</td>\n",
       "    </tr>\n",
       "    <tr>\n",
       "      <th>Jueves</th>\n",
       "      <td>54</td>\n",
       "    </tr>\n",
       "    <tr>\n",
       "      <th>Miercoles</th>\n",
       "      <td>48</td>\n",
       "    </tr>\n",
       "    <tr>\n",
       "      <th>Lunes</th>\n",
       "      <td>43</td>\n",
       "    </tr>\n",
       "  </tbody>\n",
       "</table>\n",
       "</div>"
      ],
      "text/plain": [
       "            dia_semana\n",
       "dia_semana            \n",
       "Sabado              84\n",
       "Viernes             84\n",
       "Domingo             82\n",
       "Martes              64\n",
       "Jueves              54\n",
       "Miercoles           48\n",
       "Lunes               43"
      ]
     },
     "execution_count": 17,
     "metadata": {},
     "output_type": "execute_result"
    }
   ],
   "source": [
    "delito_por_dia = pd.DataFrame(clasificacion_dia_delito.loc['DELITO'])\n",
    "delito_por_dia"
   ]
  },
  {
   "cell_type": "code",
   "execution_count": 18,
   "id": "24a5cc7e",
   "metadata": {},
   "outputs": [
    {
     "data": {
      "text/html": [
       "<div>\n",
       "<style scoped>\n",
       "    .dataframe tbody tr th:only-of-type {\n",
       "        vertical-align: middle;\n",
       "    }\n",
       "\n",
       "    .dataframe tbody tr th {\n",
       "        vertical-align: top;\n",
       "    }\n",
       "\n",
       "    .dataframe thead th {\n",
       "        text-align: right;\n",
       "    }\n",
       "</style>\n",
       "<table border=\"1\" class=\"dataframe\">\n",
       "  <thead>\n",
       "    <tr style=\"text-align: right;\">\n",
       "      <th></th>\n",
       "      <th>dia_semana</th>\n",
       "    </tr>\n",
       "    <tr>\n",
       "      <th>dia_semana</th>\n",
       "      <th></th>\n",
       "    </tr>\n",
       "  </thead>\n",
       "  <tbody>\n",
       "    <tr>\n",
       "      <th>Sabado</th>\n",
       "      <td>48253</td>\n",
       "    </tr>\n",
       "    <tr>\n",
       "      <th>Viernes</th>\n",
       "      <td>45044</td>\n",
       "    </tr>\n",
       "    <tr>\n",
       "      <th>Domingo</th>\n",
       "      <td>43105</td>\n",
       "    </tr>\n",
       "    <tr>\n",
       "      <th>Jueves</th>\n",
       "      <td>38072</td>\n",
       "    </tr>\n",
       "    <tr>\n",
       "      <th>Miercoles</th>\n",
       "      <td>36422</td>\n",
       "    </tr>\n",
       "    <tr>\n",
       "      <th>Martes</th>\n",
       "      <td>35961</td>\n",
       "    </tr>\n",
       "    <tr>\n",
       "      <th>Lunes</th>\n",
       "      <td>35689</td>\n",
       "    </tr>\n",
       "  </tbody>\n",
       "</table>\n",
       "</div>"
      ],
      "text/plain": [
       "            dia_semana\n",
       "dia_semana            \n",
       "Sabado           48253\n",
       "Viernes          45044\n",
       "Domingo          43105\n",
       "Jueves           38072\n",
       "Miercoles        36422\n",
       "Martes           35961\n",
       "Lunes            35689"
      ]
     },
     "execution_count": 18,
     "metadata": {},
     "output_type": "execute_result"
    }
   ],
   "source": [
    "clasificacion_dia_delito.loc['URGENCIAS MEDICAS']"
   ]
  },
  {
   "cell_type": "markdown",
   "id": "d5b035e9",
   "metadata": {},
   "source": [
    "# Gráfica de dos variables"
   ]
  },
  {
   "cell_type": "code",
   "execution_count": 19,
   "id": "07f037e2",
   "metadata": {},
   "outputs": [],
   "source": [
    "by_alcaldia = incidentes_viales_cdmx.groupby(level=0)[['año_creacion', 'delegacion_inicio', 'medio_de_aviso']].mean()\n",
    "verdadero_falso = incidentes_viales_cdmx.groupby(level=0)['V_F'].last()\n",
    "merged = by_alcaldia.merge(verdadero_falso, left_index=True, right_index=True)\n",
    "falso = by_alcaldia[merged['V_F'] == 'F']\n",
    "verdadero = by_alcaldia[merged['V_F'] == 'V']"
   ]
  },
  {
   "cell_type": "code",
   "execution_count": 20,
   "id": "deb1b511",
   "metadata": {},
   "outputs": [
    {
     "data": {
      "image/png": "[encoded data removed]",
      "text/plain": [
       "<Figure size 432x288 with 1 Axes>"
      ]
     },
     "metadata": {
      "needs_background": "light"
     },
     "output_type": "display_data"
    }
   ],
   "source": [
    "ax = sns.kdeplot(falso['año_creacion'], label='Falso',shade=True, fill=True, common_norm=False, palette=\"crest\",\n",
    "   alpha=.5, linewidth=0,)\n",
    "sns.kdeplot(verdadero['año_creacion'],shade=True, ax=ax, label='Verdadero', fill=True, common_norm=False, palette=\"crest\",\n",
    "   alpha=.5, linewidth=0,)\n",
    "ax.set_title('Distribuciones de avisos falsos y verdaderos', fontsize=13, pad=15);\n",
    "ax.set(xlabel='Años'); \n",
    "ax.legend(loc='upper right'); "
   ]
  },
  {
   "cell_type": "markdown",
   "id": "2b64c07c",
   "metadata": {},
   "source": [
    "# Gráfica de barras"
   ]
  },
  {
   "cell_type": "code",
   "execution_count": 21,
   "id": "e9f3e8fa",
   "metadata": {},
   "outputs": [
    {
     "data": {
      "text/plain": [
       "array(['IZTAPALAPA', 'VENUSTIANO CARRANZA', 'CUAJIMALPA',\n",
       "       'GUSTAVO A. MADERO', 'CUAUHTEMOC', 'XOCHIMILCO', 'TLALPAN',\n",
       "       'IZTACALCO', 'TLAHUAC', 'COYOACAN', 'ALVARO OBREGON',\n",
       "       'MIGUEL HIDALGO', 'MILPA ALTA', 'BENITO JUAREZ', 'AZCAPOTZALCO',\n",
       "       'MAGDALENA CONTRERAS', nan], dtype=object)"
      ]
     },
     "execution_count": 21,
     "metadata": {},
     "output_type": "execute_result"
    }
   ],
   "source": [
    "incidentes_viales_cdmx['delegacion_inicio'].unique()"
   ]
  },
  {
   "cell_type": "code",
   "execution_count": 22,
   "id": "7aba0dc5",
   "metadata": {},
   "outputs": [
    {
     "data": {
      "text/plain": [
       "16"
      ]
     },
     "execution_count": 22,
     "metadata": {},
     "output_type": "execute_result"
    }
   ],
   "source": [
    "incidentes_viales_cdmx['delegacion_inicio'].nunique()"
   ]
  },
  {
   "cell_type": "code",
   "execution_count": 23,
   "id": "6ddd6cf1",
   "metadata": {},
   "outputs": [
    {
     "data": {
      "text/plain": [
       "IZTAPALAPA             104879\n",
       "GUSTAVO A. MADERO       64774\n",
       "CUAUHTEMOC              62457\n",
       "MIGUEL HIDALGO          50117\n",
       "COYOACAN                49431\n",
       "BENITO JUAREZ           47684\n",
       "ALVARO OBREGON          47050\n",
       "VENUSTIANO CARRANZA     43032\n",
       "TLALPAN                 42069\n",
       "AZCAPOTZALCO            27293\n",
       "IZTACALCO               25946\n",
       "XOCHIMILCO              25566\n",
       "TLAHUAC                 16204\n",
       "CUAJIMALPA              12482\n",
       "MAGDALENA CONTRERAS      9719\n",
       "MILPA ALTA               3522\n",
       "Name: delegacion_inicio, dtype: int64"
      ]
     },
     "execution_count": 23,
     "metadata": {},
     "output_type": "execute_result"
    }
   ],
   "source": [
    "counts_delegacion = incidentes_viales_cdmx['delegacion_inicio'].value_counts()\n",
    "counts_delegacion"
   ]
  },
  {
   "cell_type": "code",
   "execution_count": 24,
   "id": "d39b32b9",
   "metadata": {},
   "outputs": [
    {
     "data": {
      "text/plain": [
       "Index(['IZTAPALAPA', 'GUSTAVO A. MADERO', 'CUAUHTEMOC', 'MIGUEL HIDALGO',\n",
       "       'COYOACAN', 'BENITO JUAREZ', 'ALVARO OBREGON', 'VENUSTIANO CARRANZA',\n",
       "       'TLALPAN', 'AZCAPOTZALCO', 'IZTACALCO', 'XOCHIMILCO', 'TLAHUAC',\n",
       "       'CUAJIMALPA', 'MAGDALENA CONTRERAS', 'MILPA ALTA'],\n",
       "      dtype='object')"
      ]
     },
     "execution_count": 24,
     "metadata": {},
     "output_type": "execute_result"
    }
   ],
   "source": [
    "counts_delegacion.index"
   ]
  },
  {
   "cell_type": "code",
   "execution_count": 25,
   "id": "46bfa7c0",
   "metadata": {},
   "outputs": [
    {
     "data": {
      "image/png": "[encoded data removed]",
      "text/plain": [
       "<Figure size 432x288 with 1 Axes>"
      ]
     },
     "metadata": {
      "needs_background": "light"
     },
     "output_type": "display_data"
    }
   ],
   "source": [
    "ax = sns.barplot(x=counts_delegacion.index, y=counts_delegacion, palette=\"summer_r\")\n",
    "ax.set_title('Conteo de Incidentes por Delegación')\n",
    "ax.set(ylabel='Frecuencia')\n",
    "ax.set_xticklabels(ax.get_xticklabels(), rotation=80);"
   ]
  },
  {
   "cell_type": "code",
   "execution_count": 26,
   "id": "79aba3e8",
   "metadata": {
    "scrolled": false
   },
   "outputs": [
    {
     "data": {
      "image/png": "[encoded data removed]",
      "text/plain": [
       "<Figure size 432x288 with 1 Axes>"
      ]
     },
     "metadata": {
      "needs_background": "light"
     },
     "output_type": "display_data"
    }
   ],
   "source": [
    "as_percentages = counts_delegacion * 100 / counts_delegacion.sum()\n",
    "ax = sns.barplot(x=as_percentages.index,y=as_percentages, palette = \"spring\")\n",
    "ax.set_title('Conteo por Delegaciones(como porcentajes)')\n",
    "ax.set(ylabel='Porcentaje del total');\n",
    "ax.set_xticklabels(ax.get_xticklabels(), rotation=80);"
   ]
  },
  {
   "cell_type": "code",
   "execution_count": 27,
   "id": "93753540",
   "metadata": {},
   "outputs": [
    {
     "data": {
      "image/png": "[encoded data removed]",
      "text/plain": [
       "<Figure size 432x288 with 1 Axes>"
      ]
     },
     "metadata": {
      "needs_background": "light"
     },
     "output_type": "display_data"
    }
   ],
   "source": [
    "ax = sns.barplot(x=as_percentages, y=as_percentages.index, orient='h', palette = \"gist_earth\")\n",
    "ax.set_title('Conteo por Delegaciones(como porcentajes)')\n",
    "ax.set(xlabel='porcentaje del total');"
   ]
  },
  {
   "cell_type": "code",
   "execution_count": 28,
   "id": "0dff5a3b",
   "metadata": {},
   "outputs": [
    {
     "data": {
      "image/png": "[encoded data removed]",
      "text/plain": [
       "<Figure size 360x360 with 1 Axes>"
      ]
     },
     "metadata": {
      "needs_background": "light"
     },
     "output_type": "display_data"
    }
   ],
   "source": [
    "ax = sns.displot(incidentes_viales_cdmx['dia_semana'], kde = False, color = \"y\")\n",
    "ax.set(title = 'Dia de la semana', xlabel = 'Dia', ylabel = 'Freq')\n",
    "plt.xticks(rotation=45);"
   ]
  },
  {
   "cell_type": "markdown",
   "id": "99a9fa42",
   "metadata": {},
   "source": [
    "# Moda"
   ]
  },
  {
   "cell_type": "code",
   "execution_count": 29,
   "id": "e3d5e4ed",
   "metadata": {},
   "outputs": [
    {
     "name": "stdout",
     "output_type": "stream",
     "text": [
      "La delegación con más incidentes es 0    IZTAPALAPA\n",
      "dtype: object\n",
      "El día de la semana con más incidentes es el 0    Viernes\n",
      "dtype: object\n",
      "El día con más incidentes en los 3 años fue el 0    14/02/2020\n",
      "dtype: object\n"
     ]
    }
   ],
   "source": [
    "moda_delegacion = incidentes_viales_cdmx['delegacion_inicio'].mode()\n",
    "moda_dia_semana = incidentes_viales_cdmx['dia_semana'].mode()\n",
    "moda_fecha_creacion = incidentes_viales_cdmx['fecha_creacion'].mode()\n",
    "\n",
    "print(f'La delegación con más incidentes es {moda_delegacion}')\n",
    "print(f'El día de la semana con más incidentes es el {moda_dia_semana}')\n",
    "print(f'El día con más incidentes en los 3 años fue el {moda_fecha_creacion}')"
   ]
  },
  {
   "cell_type": "markdown",
   "id": "47cbf42a",
   "metadata": {},
   "source": [
    "# Tablas de contingencia"
   ]
  },
  {
   "cell_type": "code",
   "execution_count": 30,
   "id": "ba637527",
   "metadata": {},
   "outputs": [
    {
     "data": {
      "text/html": [
       "<div>\n",
       "<style scoped>\n",
       "    .dataframe tbody tr th:only-of-type {\n",
       "        vertical-align: middle;\n",
       "    }\n",
       "\n",
       "    .dataframe tbody tr th {\n",
       "        vertical-align: top;\n",
       "    }\n",
       "\n",
       "    .dataframe thead th {\n",
       "        text-align: right;\n",
       "    }\n",
       "</style>\n",
       "<table border=\"1\" class=\"dataframe\">\n",
       "  <thead>\n",
       "    <tr style=\"text-align: right;\">\n",
       "      <th>año_creacion</th>\n",
       "      <th>2017</th>\n",
       "      <th>2018</th>\n",
       "      <th>2019</th>\n",
       "      <th>2020</th>\n",
       "      <th>total</th>\n",
       "    </tr>\n",
       "    <tr>\n",
       "      <th>delegacion_inicio</th>\n",
       "      <th></th>\n",
       "      <th></th>\n",
       "      <th></th>\n",
       "      <th></th>\n",
       "      <th></th>\n",
       "    </tr>\n",
       "  </thead>\n",
       "  <tbody>\n",
       "    <tr>\n",
       "      <th>ALVARO OBREGON</th>\n",
       "      <td>12599</td>\n",
       "      <td>13934</td>\n",
       "      <td>12289</td>\n",
       "      <td>8228</td>\n",
       "      <td>47050</td>\n",
       "    </tr>\n",
       "    <tr>\n",
       "      <th>AZCAPOTZALCO</th>\n",
       "      <td>7217</td>\n",
       "      <td>7737</td>\n",
       "      <td>7057</td>\n",
       "      <td>5282</td>\n",
       "      <td>27293</td>\n",
       "    </tr>\n",
       "    <tr>\n",
       "      <th>BENITO JUAREZ</th>\n",
       "      <td>12415</td>\n",
       "      <td>13827</td>\n",
       "      <td>13100</td>\n",
       "      <td>8342</td>\n",
       "      <td>47684</td>\n",
       "    </tr>\n",
       "    <tr>\n",
       "      <th>COYOACAN</th>\n",
       "      <td>13124</td>\n",
       "      <td>14517</td>\n",
       "      <td>13270</td>\n",
       "      <td>8520</td>\n",
       "      <td>49431</td>\n",
       "    </tr>\n",
       "    <tr>\n",
       "      <th>CUAJIMALPA</th>\n",
       "      <td>3440</td>\n",
       "      <td>3629</td>\n",
       "      <td>3236</td>\n",
       "      <td>2177</td>\n",
       "      <td>12482</td>\n",
       "    </tr>\n",
       "    <tr>\n",
       "      <th>CUAUHTEMOC</th>\n",
       "      <td>16256</td>\n",
       "      <td>18108</td>\n",
       "      <td>16436</td>\n",
       "      <td>11657</td>\n",
       "      <td>62457</td>\n",
       "    </tr>\n",
       "    <tr>\n",
       "      <th>GUSTAVO A. MADERO</th>\n",
       "      <td>17671</td>\n",
       "      <td>18686</td>\n",
       "      <td>16406</td>\n",
       "      <td>12011</td>\n",
       "      <td>64774</td>\n",
       "    </tr>\n",
       "    <tr>\n",
       "      <th>IZTACALCO</th>\n",
       "      <td>6539</td>\n",
       "      <td>7178</td>\n",
       "      <td>7132</td>\n",
       "      <td>5097</td>\n",
       "      <td>25946</td>\n",
       "    </tr>\n",
       "    <tr>\n",
       "      <th>IZTAPALAPA</th>\n",
       "      <td>27366</td>\n",
       "      <td>29409</td>\n",
       "      <td>26981</td>\n",
       "      <td>21123</td>\n",
       "      <td>104879</td>\n",
       "    </tr>\n",
       "    <tr>\n",
       "      <th>MAGDALENA CONTRERAS</th>\n",
       "      <td>2370</td>\n",
       "      <td>2810</td>\n",
       "      <td>2523</td>\n",
       "      <td>2016</td>\n",
       "      <td>9719</td>\n",
       "    </tr>\n",
       "    <tr>\n",
       "      <th>MIGUEL HIDALGO</th>\n",
       "      <td>14084</td>\n",
       "      <td>15172</td>\n",
       "      <td>13213</td>\n",
       "      <td>7648</td>\n",
       "      <td>50117</td>\n",
       "    </tr>\n",
       "    <tr>\n",
       "      <th>MILPA ALTA</th>\n",
       "      <td>865</td>\n",
       "      <td>980</td>\n",
       "      <td>912</td>\n",
       "      <td>765</td>\n",
       "      <td>3522</td>\n",
       "    </tr>\n",
       "    <tr>\n",
       "      <th>TLAHUAC</th>\n",
       "      <td>4185</td>\n",
       "      <td>4460</td>\n",
       "      <td>4139</td>\n",
       "      <td>3420</td>\n",
       "      <td>16204</td>\n",
       "    </tr>\n",
       "    <tr>\n",
       "      <th>TLALPAN</th>\n",
       "      <td>10048</td>\n",
       "      <td>11197</td>\n",
       "      <td>11580</td>\n",
       "      <td>9244</td>\n",
       "      <td>42069</td>\n",
       "    </tr>\n",
       "    <tr>\n",
       "      <th>VENUSTIANO CARRANZA</th>\n",
       "      <td>10761</td>\n",
       "      <td>12182</td>\n",
       "      <td>11352</td>\n",
       "      <td>8737</td>\n",
       "      <td>43032</td>\n",
       "    </tr>\n",
       "    <tr>\n",
       "      <th>XOCHIMILCO</th>\n",
       "      <td>6475</td>\n",
       "      <td>7068</td>\n",
       "      <td>6601</td>\n",
       "      <td>5422</td>\n",
       "      <td>25566</td>\n",
       "    </tr>\n",
       "    <tr>\n",
       "      <th>total</th>\n",
       "      <td>165415</td>\n",
       "      <td>180894</td>\n",
       "      <td>166227</td>\n",
       "      <td>119689</td>\n",
       "      <td>632225</td>\n",
       "    </tr>\n",
       "  </tbody>\n",
       "</table>\n",
       "</div>"
      ],
      "text/plain": [
       "año_creacion           2017    2018    2019    2020   total\n",
       "delegacion_inicio                                          \n",
       "ALVARO OBREGON        12599   13934   12289    8228   47050\n",
       "AZCAPOTZALCO           7217    7737    7057    5282   27293\n",
       "BENITO JUAREZ         12415   13827   13100    8342   47684\n",
       "COYOACAN              13124   14517   13270    8520   49431\n",
       "CUAJIMALPA             3440    3629    3236    2177   12482\n",
       "CUAUHTEMOC            16256   18108   16436   11657   62457\n",
       "GUSTAVO A. MADERO     17671   18686   16406   12011   64774\n",
       "IZTACALCO              6539    7178    7132    5097   25946\n",
       "IZTAPALAPA            27366   29409   26981   21123  104879\n",
       "MAGDALENA CONTRERAS    2370    2810    2523    2016    9719\n",
       "MIGUEL HIDALGO        14084   15172   13213    7648   50117\n",
       "MILPA ALTA              865     980     912     765    3522\n",
       "TLAHUAC                4185    4460    4139    3420   16204\n",
       "TLALPAN               10048   11197   11580    9244   42069\n",
       "VENUSTIANO CARRANZA   10761   12182   11352    8737   43032\n",
       "XOCHIMILCO             6475    7068    6601    5422   25566\n",
       "total                165415  180894  166227  119689  632225"
      ]
     },
     "execution_count": 30,
     "metadata": {},
     "output_type": "execute_result"
    }
   ],
   "source": [
    "delegacion_por_año_1 = pd.crosstab(incidentes_viales_cdmx['delegacion_inicio'], incidentes_viales_cdmx['año_creacion'], margins=True, margins_name='total')\n",
    "delegacion_por_año_1"
   ]
  },
  {
   "cell_type": "code",
   "execution_count": 31,
   "id": "268c41bf",
   "metadata": {},
   "outputs": [
    {
     "data": {
      "text/html": [
       "<div>\n",
       "<style scoped>\n",
       "    .dataframe tbody tr th:only-of-type {\n",
       "        vertical-align: middle;\n",
       "    }\n",
       "\n",
       "    .dataframe tbody tr th {\n",
       "        vertical-align: top;\n",
       "    }\n",
       "\n",
       "    .dataframe thead th {\n",
       "        text-align: right;\n",
       "    }\n",
       "</style>\n",
       "<table border=\"1\" class=\"dataframe\">\n",
       "  <thead>\n",
       "    <tr style=\"text-align: right;\">\n",
       "      <th>año_creacion</th>\n",
       "      <th>2017</th>\n",
       "      <th>2018</th>\n",
       "      <th>2019</th>\n",
       "      <th>2020</th>\n",
       "      <th>total</th>\n",
       "    </tr>\n",
       "    <tr>\n",
       "      <th>tipo_de_incidente</th>\n",
       "      <th></th>\n",
       "      <th></th>\n",
       "      <th></th>\n",
       "      <th></th>\n",
       "      <th></th>\n",
       "    </tr>\n",
       "  </thead>\n",
       "  <tbody>\n",
       "    <tr>\n",
       "      <th>Detencion ciudadana accidente automovili­stico</th>\n",
       "      <td>0</td>\n",
       "      <td>0</td>\n",
       "      <td>3</td>\n",
       "      <td>0</td>\n",
       "      <td>3</td>\n",
       "    </tr>\n",
       "    <tr>\n",
       "      <th>accidente choque con lesionados</th>\n",
       "      <td>38212</td>\n",
       "      <td>44627</td>\n",
       "      <td>40658</td>\n",
       "      <td>32040</td>\n",
       "      <td>155537</td>\n",
       "    </tr>\n",
       "    <tr>\n",
       "      <th>accidente choque con prensados</th>\n",
       "      <td>616</td>\n",
       "      <td>492</td>\n",
       "      <td>349</td>\n",
       "      <td>284</td>\n",
       "      <td>1741</td>\n",
       "    </tr>\n",
       "    <tr>\n",
       "      <th>accidente choque sin lesionados</th>\n",
       "      <td>88640</td>\n",
       "      <td>95019</td>\n",
       "      <td>86262</td>\n",
       "      <td>56236</td>\n",
       "      <td>326157</td>\n",
       "    </tr>\n",
       "    <tr>\n",
       "      <th>accidente ciclista</th>\n",
       "      <td>0</td>\n",
       "      <td>0</td>\n",
       "      <td>704</td>\n",
       "      <td>1651</td>\n",
       "      <td>2355</td>\n",
       "    </tr>\n",
       "    <tr>\n",
       "      <th>accidente ferroviario</th>\n",
       "      <td>6</td>\n",
       "      <td>6</td>\n",
       "      <td>18</td>\n",
       "      <td>10</td>\n",
       "      <td>40</td>\n",
       "    </tr>\n",
       "    <tr>\n",
       "      <th>accidente monopati­n</th>\n",
       "      <td>0</td>\n",
       "      <td>0</td>\n",
       "      <td>17</td>\n",
       "      <td>9</td>\n",
       "      <td>26</td>\n",
       "    </tr>\n",
       "    <tr>\n",
       "      <th>accidente motociclista</th>\n",
       "      <td>9279</td>\n",
       "      <td>10709</td>\n",
       "      <td>11398</td>\n",
       "      <td>11324</td>\n",
       "      <td>42710</td>\n",
       "    </tr>\n",
       "    <tr>\n",
       "      <th>accidente otros</th>\n",
       "      <td>328</td>\n",
       "      <td>214</td>\n",
       "      <td>145</td>\n",
       "      <td>63</td>\n",
       "      <td>750</td>\n",
       "    </tr>\n",
       "    <tr>\n",
       "      <th>accidente persona atrapada / desbarrancada</th>\n",
       "      <td>680</td>\n",
       "      <td>808</td>\n",
       "      <td>759</td>\n",
       "      <td>540</td>\n",
       "      <td>2787</td>\n",
       "    </tr>\n",
       "    <tr>\n",
       "      <th>accidente vehiculo atrapado</th>\n",
       "      <td>78</td>\n",
       "      <td>468</td>\n",
       "      <td>239</td>\n",
       "      <td>0</td>\n",
       "      <td>785</td>\n",
       "    </tr>\n",
       "    <tr>\n",
       "      <th>accidente vehiculo desbarrancado</th>\n",
       "      <td>102</td>\n",
       "      <td>109</td>\n",
       "      <td>93</td>\n",
       "      <td>76</td>\n",
       "      <td>380</td>\n",
       "    </tr>\n",
       "    <tr>\n",
       "      <th>accidente vehi­culo atrapado varado</th>\n",
       "      <td>0</td>\n",
       "      <td>0</td>\n",
       "      <td>162</td>\n",
       "      <td>494</td>\n",
       "      <td>656</td>\n",
       "    </tr>\n",
       "    <tr>\n",
       "      <th>accidente volcadura</th>\n",
       "      <td>3927</td>\n",
       "      <td>3978</td>\n",
       "      <td>3604</td>\n",
       "      <td>3074</td>\n",
       "      <td>14583</td>\n",
       "    </tr>\n",
       "    <tr>\n",
       "      <th>cadaver accidente automovili­stico</th>\n",
       "      <td>126</td>\n",
       "      <td>81</td>\n",
       "      <td>118</td>\n",
       "      <td>137</td>\n",
       "      <td>462</td>\n",
       "    </tr>\n",
       "    <tr>\n",
       "      <th>cadaver atropellado</th>\n",
       "      <td>186</td>\n",
       "      <td>180</td>\n",
       "      <td>191</td>\n",
       "      <td>112</td>\n",
       "      <td>669</td>\n",
       "    </tr>\n",
       "    <tr>\n",
       "      <th>detencion ciudadana accidente automovili­stico</th>\n",
       "      <td>15</td>\n",
       "      <td>8</td>\n",
       "      <td>33</td>\n",
       "      <td>32</td>\n",
       "      <td>88</td>\n",
       "    </tr>\n",
       "    <tr>\n",
       "      <th>detencion ciudadana atropellado</th>\n",
       "      <td>68</td>\n",
       "      <td>136</td>\n",
       "      <td>86</td>\n",
       "      <td>82</td>\n",
       "      <td>372</td>\n",
       "    </tr>\n",
       "    <tr>\n",
       "      <th>lesionado atropellado</th>\n",
       "      <td>23153</td>\n",
       "      <td>23712</td>\n",
       "      <td>21202</td>\n",
       "      <td>13325</td>\n",
       "      <td>81392</td>\n",
       "    </tr>\n",
       "    <tr>\n",
       "      <th>mi ciudad calle incidente de transito</th>\n",
       "      <td>0</td>\n",
       "      <td>0</td>\n",
       "      <td>0</td>\n",
       "      <td>93</td>\n",
       "      <td>93</td>\n",
       "    </tr>\n",
       "    <tr>\n",
       "      <th>mi ciudad taxi incidente de transito</th>\n",
       "      <td>0</td>\n",
       "      <td>0</td>\n",
       "      <td>0</td>\n",
       "      <td>1</td>\n",
       "      <td>1</td>\n",
       "    </tr>\n",
       "    <tr>\n",
       "      <th>sismo choque con lesionados</th>\n",
       "      <td>0</td>\n",
       "      <td>107</td>\n",
       "      <td>72</td>\n",
       "      <td>109</td>\n",
       "      <td>288</td>\n",
       "    </tr>\n",
       "    <tr>\n",
       "      <th>sismo choque con prensados</th>\n",
       "      <td>0</td>\n",
       "      <td>1</td>\n",
       "      <td>0</td>\n",
       "      <td>0</td>\n",
       "      <td>1</td>\n",
       "    </tr>\n",
       "    <tr>\n",
       "      <th>sismo choque sin lesionados</th>\n",
       "      <td>0</td>\n",
       "      <td>263</td>\n",
       "      <td>125</td>\n",
       "      <td>0</td>\n",
       "      <td>388</td>\n",
       "    </tr>\n",
       "    <tr>\n",
       "      <th>sismo persona atropellada</th>\n",
       "      <td>0</td>\n",
       "      <td>4</td>\n",
       "      <td>5</td>\n",
       "      <td>8</td>\n",
       "      <td>17</td>\n",
       "    </tr>\n",
       "    <tr>\n",
       "      <th>total</th>\n",
       "      <td>165416</td>\n",
       "      <td>180922</td>\n",
       "      <td>166243</td>\n",
       "      <td>119700</td>\n",
       "      <td>632281</td>\n",
       "    </tr>\n",
       "  </tbody>\n",
       "</table>\n",
       "</div>"
      ],
      "text/plain": [
       "año_creacion                                      2017    2018    2019  \\\n",
       "tipo_de_incidente                                                        \n",
       "Detencion ciudadana accidente automovili­stico       0       0       3   \n",
       "accidente choque con lesionados                  38212   44627   40658   \n",
       "accidente choque con prensados                     616     492     349   \n",
       "accidente choque sin lesionados                  88640   95019   86262   \n",
       "accidente ciclista                                   0       0     704   \n",
       "accidente ferroviario                                6       6      18   \n",
       "accidente monopati­n                                 0       0      17   \n",
       "accidente motociclista                            9279   10709   11398   \n",
       "accidente otros                                    328     214     145   \n",
       "accidente persona atrapada / desbarrancada         680     808     759   \n",
       "accidente vehiculo atrapado                         78     468     239   \n",
       "accidente vehiculo desbarrancado                   102     109      93   \n",
       "accidente vehi­culo atrapado varado                  0       0     162   \n",
       "accidente volcadura                               3927    3978    3604   \n",
       "cadaver accidente automovili­stico                 126      81     118   \n",
       "cadaver atropellado                                186     180     191   \n",
       "detencion ciudadana accidente automovili­stico      15       8      33   \n",
       "detencion ciudadana atropellado                     68     136      86   \n",
       "lesionado atropellado                            23153   23712   21202   \n",
       "mi ciudad calle incidente de transito                0       0       0   \n",
       "mi ciudad taxi incidente de transito                 0       0       0   \n",
       "sismo choque con lesionados                          0     107      72   \n",
       "sismo choque con prensados                           0       1       0   \n",
       "sismo choque sin lesionados                          0     263     125   \n",
       "sismo persona atropellada                            0       4       5   \n",
       "total                                           165416  180922  166243   \n",
       "\n",
       "año_creacion                                      2020   total  \n",
       "tipo_de_incidente                                               \n",
       "Detencion ciudadana accidente automovili­stico       0       3  \n",
       "accidente choque con lesionados                  32040  155537  \n",
       "accidente choque con prensados                     284    1741  \n",
       "accidente choque sin lesionados                  56236  326157  \n",
       "accidente ciclista                                1651    2355  \n",
       "accidente ferroviario                               10      40  \n",
       "accidente monopati­n                                 9      26  \n",
       "accidente motociclista                           11324   42710  \n",
       "accidente otros                                     63     750  \n",
       "accidente persona atrapada / desbarrancada         540    2787  \n",
       "accidente vehiculo atrapado                          0     785  \n",
       "accidente vehiculo desbarrancado                    76     380  \n",
       "accidente vehi­culo atrapado varado                494     656  \n",
       "accidente volcadura                               3074   14583  \n",
       "cadaver accidente automovili­stico                 137     462  \n",
       "cadaver atropellado                                112     669  \n",
       "detencion ciudadana accidente automovili­stico      32      88  \n",
       "detencion ciudadana atropellado                     82     372  \n",
       "lesionado atropellado                            13325   81392  \n",
       "mi ciudad calle incidente de transito               93      93  \n",
       "mi ciudad taxi incidente de transito                 1       1  \n",
       "sismo choque con lesionados                        109     288  \n",
       "sismo choque con prensados                           0       1  \n",
       "sismo choque sin lesionados                          0     388  \n",
       "sismo persona atropellada                            8      17  \n",
       "total                                           119700  632281  "
      ]
     },
     "execution_count": 31,
     "metadata": {},
     "output_type": "execute_result"
    }
   ],
   "source": [
    "incidente_por_año_1 = pd.crosstab(incidentes_viales_cdmx['tipo_de_incidente'], incidentes_viales_cdmx['año_creacion'], margins=True, margins_name='total')\n",
    "incidente_por_año_1"
   ]
  },
  {
   "cell_type": "code",
   "execution_count": 32,
   "id": "2b2caf22",
   "metadata": {},
   "outputs": [
    {
     "data": {
      "text/html": [
       "<div>\n",
       "<style scoped>\n",
       "    .dataframe tbody tr th:only-of-type {\n",
       "        vertical-align: middle;\n",
       "    }\n",
       "\n",
       "    .dataframe tbody tr th {\n",
       "        vertical-align: top;\n",
       "    }\n",
       "\n",
       "    .dataframe thead tr th {\n",
       "        text-align: left;\n",
       "    }\n",
       "\n",
       "    .dataframe thead tr:last-of-type th {\n",
       "        text-align: right;\n",
       "    }\n",
       "</style>\n",
       "<table border=\"1\" class=\"dataframe\">\n",
       "  <thead>\n",
       "    <tr>\n",
       "      <th>V_F</th>\n",
       "      <th colspan=\"7\" halign=\"left\">F</th>\n",
       "      <th colspan=\"8\" halign=\"left\">V</th>\n",
       "      <th>total</th>\n",
       "    </tr>\n",
       "    <tr>\n",
       "      <th>medio_de_aviso</th>\n",
       "      <th>BOTON DE AUXILIO</th>\n",
       "      <th>CAMARA</th>\n",
       "      <th>LLAMADA APP911</th>\n",
       "      <th>LLAMADA DEL 911</th>\n",
       "      <th>RADIO</th>\n",
       "      <th>REDES</th>\n",
       "      <th>ZELLO</th>\n",
       "      <th>APLICATIVOS</th>\n",
       "      <th>BOTON DE AUXILIO</th>\n",
       "      <th>CAMARA</th>\n",
       "      <th>LLAMADA APP911</th>\n",
       "      <th>LLAMADA DEL 911</th>\n",
       "      <th>RADIO</th>\n",
       "      <th>REDES</th>\n",
       "      <th>ZELLO</th>\n",
       "      <th></th>\n",
       "    </tr>\n",
       "    <tr>\n",
       "      <th>año_creacion</th>\n",
       "      <th></th>\n",
       "      <th></th>\n",
       "      <th></th>\n",
       "      <th></th>\n",
       "      <th></th>\n",
       "      <th></th>\n",
       "      <th></th>\n",
       "      <th></th>\n",
       "      <th></th>\n",
       "      <th></th>\n",
       "      <th></th>\n",
       "      <th></th>\n",
       "      <th></th>\n",
       "      <th></th>\n",
       "      <th></th>\n",
       "      <th></th>\n",
       "    </tr>\n",
       "  </thead>\n",
       "  <tbody>\n",
       "    <tr>\n",
       "      <th>2017</th>\n",
       "      <td>29</td>\n",
       "      <td>0</td>\n",
       "      <td>10</td>\n",
       "      <td>1963</td>\n",
       "      <td>41</td>\n",
       "      <td>22</td>\n",
       "      <td>4</td>\n",
       "      <td>0</td>\n",
       "      <td>9744</td>\n",
       "      <td>269</td>\n",
       "      <td>1218</td>\n",
       "      <td>144370</td>\n",
       "      <td>5641</td>\n",
       "      <td>761</td>\n",
       "      <td>1344</td>\n",
       "      <td>165416</td>\n",
       "    </tr>\n",
       "    <tr>\n",
       "      <th>2018</th>\n",
       "      <td>20</td>\n",
       "      <td>0</td>\n",
       "      <td>21</td>\n",
       "      <td>1436</td>\n",
       "      <td>25</td>\n",
       "      <td>16</td>\n",
       "      <td>25</td>\n",
       "      <td>0</td>\n",
       "      <td>9615</td>\n",
       "      <td>203</td>\n",
       "      <td>3453</td>\n",
       "      <td>157359</td>\n",
       "      <td>4738</td>\n",
       "      <td>716</td>\n",
       "      <td>3295</td>\n",
       "      <td>180922</td>\n",
       "    </tr>\n",
       "    <tr>\n",
       "      <th>2019</th>\n",
       "      <td>6</td>\n",
       "      <td>2</td>\n",
       "      <td>5</td>\n",
       "      <td>300</td>\n",
       "      <td>10</td>\n",
       "      <td>1</td>\n",
       "      <td>0</td>\n",
       "      <td>0</td>\n",
       "      <td>7680</td>\n",
       "      <td>245</td>\n",
       "      <td>1694</td>\n",
       "      <td>149538</td>\n",
       "      <td>6078</td>\n",
       "      <td>684</td>\n",
       "      <td>0</td>\n",
       "      <td>166243</td>\n",
       "    </tr>\n",
       "    <tr>\n",
       "      <th>2020</th>\n",
       "      <td>26</td>\n",
       "      <td>0</td>\n",
       "      <td>13</td>\n",
       "      <td>644</td>\n",
       "      <td>30</td>\n",
       "      <td>7</td>\n",
       "      <td>0</td>\n",
       "      <td>146</td>\n",
       "      <td>6977</td>\n",
       "      <td>265</td>\n",
       "      <td>597</td>\n",
       "      <td>103055</td>\n",
       "      <td>7321</td>\n",
       "      <td>619</td>\n",
       "      <td>0</td>\n",
       "      <td>119700</td>\n",
       "    </tr>\n",
       "    <tr>\n",
       "      <th>total</th>\n",
       "      <td>81</td>\n",
       "      <td>2</td>\n",
       "      <td>49</td>\n",
       "      <td>4343</td>\n",
       "      <td>106</td>\n",
       "      <td>46</td>\n",
       "      <td>29</td>\n",
       "      <td>146</td>\n",
       "      <td>34016</td>\n",
       "      <td>982</td>\n",
       "      <td>6962</td>\n",
       "      <td>554322</td>\n",
       "      <td>23778</td>\n",
       "      <td>2780</td>\n",
       "      <td>4639</td>\n",
       "      <td>632281</td>\n",
       "    </tr>\n",
       "  </tbody>\n",
       "</table>\n",
       "</div>"
      ],
      "text/plain": [
       "V_F                           F                                              \\\n",
       "medio_de_aviso BOTON DE AUXILIO CAMARA LLAMADA APP911 LLAMADA DEL 911 RADIO   \n",
       "año_creacion                                                                  \n",
       "2017                         29      0             10            1963    41   \n",
       "2018                         20      0             21            1436    25   \n",
       "2019                          6      2              5             300    10   \n",
       "2020                         26      0             13             644    30   \n",
       "total                        81      2             49            4343   106   \n",
       "\n",
       "V_F                                  V                                         \\\n",
       "medio_de_aviso REDES ZELLO APLICATIVOS BOTON DE AUXILIO CAMARA LLAMADA APP911   \n",
       "año_creacion                                                                    \n",
       "2017              22     4           0             9744    269           1218   \n",
       "2018              16    25           0             9615    203           3453   \n",
       "2019               1     0           0             7680    245           1694   \n",
       "2020               7     0         146             6977    265            597   \n",
       "total             46    29         146            34016    982           6962   \n",
       "\n",
       "V_F                                                 total  \n",
       "medio_de_aviso LLAMADA DEL 911  RADIO REDES ZELLO          \n",
       "año_creacion                                               \n",
       "2017                    144370   5641   761  1344  165416  \n",
       "2018                    157359   4738   716  3295  180922  \n",
       "2019                    149538   6078   684     0  166243  \n",
       "2020                    103055   7321   619     0  119700  \n",
       "total                   554322  23778  2780  4639  632281  "
      ]
     },
     "execution_count": 32,
     "metadata": {},
     "output_type": "execute_result"
    }
   ],
   "source": [
    "v_f_alerta = pd.crosstab(incidentes_viales_cdmx['año_creacion'], [incidentes_viales_cdmx['V_F'], incidentes_viales_cdmx['medio_de_aviso']], margins=True, margins_name='total')\n",
    "v_f_alerta"
   ]
  },
  {
   "cell_type": "code",
   "execution_count": 33,
   "id": "b778d6e4",
   "metadata": {},
   "outputs": [
    {
     "data": {
      "text/html": [
       "<div>\n",
       "<style scoped>\n",
       "    .dataframe tbody tr th:only-of-type {\n",
       "        vertical-align: middle;\n",
       "    }\n",
       "\n",
       "    .dataframe tbody tr th {\n",
       "        vertical-align: top;\n",
       "    }\n",
       "\n",
       "    .dataframe thead th {\n",
       "        text-align: right;\n",
       "    }\n",
       "</style>\n",
       "<table border=\"1\" class=\"dataframe\">\n",
       "  <thead>\n",
       "    <tr style=\"text-align: right;\">\n",
       "      <th>medio_de_aviso</th>\n",
       "      <th>BOTON DE AUXILIO</th>\n",
       "      <th>CAMARA</th>\n",
       "      <th>LLAMADA APP911</th>\n",
       "      <th>LLAMADA DEL 911</th>\n",
       "      <th>RADIO</th>\n",
       "      <th>REDES</th>\n",
       "      <th>ZELLO</th>\n",
       "    </tr>\n",
       "    <tr>\n",
       "      <th>año_creacion</th>\n",
       "      <th></th>\n",
       "      <th></th>\n",
       "      <th></th>\n",
       "      <th></th>\n",
       "      <th></th>\n",
       "      <th></th>\n",
       "      <th></th>\n",
       "    </tr>\n",
       "  </thead>\n",
       "  <tbody>\n",
       "    <tr>\n",
       "      <th>2017</th>\n",
       "      <td>29</td>\n",
       "      <td>0</td>\n",
       "      <td>10</td>\n",
       "      <td>1963</td>\n",
       "      <td>41</td>\n",
       "      <td>22</td>\n",
       "      <td>4</td>\n",
       "    </tr>\n",
       "    <tr>\n",
       "      <th>2018</th>\n",
       "      <td>20</td>\n",
       "      <td>0</td>\n",
       "      <td>21</td>\n",
       "      <td>1436</td>\n",
       "      <td>25</td>\n",
       "      <td>16</td>\n",
       "      <td>25</td>\n",
       "    </tr>\n",
       "    <tr>\n",
       "      <th>2019</th>\n",
       "      <td>6</td>\n",
       "      <td>2</td>\n",
       "      <td>5</td>\n",
       "      <td>300</td>\n",
       "      <td>10</td>\n",
       "      <td>1</td>\n",
       "      <td>0</td>\n",
       "    </tr>\n",
       "    <tr>\n",
       "      <th>2020</th>\n",
       "      <td>26</td>\n",
       "      <td>0</td>\n",
       "      <td>13</td>\n",
       "      <td>644</td>\n",
       "      <td>30</td>\n",
       "      <td>7</td>\n",
       "      <td>0</td>\n",
       "    </tr>\n",
       "    <tr>\n",
       "      <th>total</th>\n",
       "      <td>81</td>\n",
       "      <td>2</td>\n",
       "      <td>49</td>\n",
       "      <td>4343</td>\n",
       "      <td>106</td>\n",
       "      <td>46</td>\n",
       "      <td>29</td>\n",
       "    </tr>\n",
       "  </tbody>\n",
       "</table>\n",
       "</div>"
      ],
      "text/plain": [
       "medio_de_aviso  BOTON DE AUXILIO  CAMARA  LLAMADA APP911  LLAMADA DEL 911  \\\n",
       "año_creacion                                                                \n",
       "2017                          29       0              10             1963   \n",
       "2018                          20       0              21             1436   \n",
       "2019                           6       2               5              300   \n",
       "2020                          26       0              13              644   \n",
       "total                         81       2              49             4343   \n",
       "\n",
       "medio_de_aviso  RADIO  REDES  ZELLO  \n",
       "año_creacion                         \n",
       "2017               41     22      4  \n",
       "2018               25     16     25  \n",
       "2019               10      1      0  \n",
       "2020               30      7      0  \n",
       "total             106     46     29  "
      ]
     },
     "execution_count": 33,
     "metadata": {},
     "output_type": "execute_result"
    }
   ],
   "source": [
    "v_f_alerta.loc[:, ('F')]"
   ]
  },
  {
   "cell_type": "code",
   "execution_count": 34,
   "id": "9a002f8e",
   "metadata": {},
   "outputs": [
    {
     "data": {
      "text/html": [
       "<div>\n",
       "<style scoped>\n",
       "    .dataframe tbody tr th:only-of-type {\n",
       "        vertical-align: middle;\n",
       "    }\n",
       "\n",
       "    .dataframe tbody tr th {\n",
       "        vertical-align: top;\n",
       "    }\n",
       "\n",
       "    .dataframe thead th {\n",
       "        text-align: right;\n",
       "    }\n",
       "</style>\n",
       "<table border=\"1\" class=\"dataframe\">\n",
       "  <thead>\n",
       "    <tr style=\"text-align: right;\">\n",
       "      <th>delegacion_inicio</th>\n",
       "      <th>ALVARO OBREGON</th>\n",
       "      <th>AZCAPOTZALCO</th>\n",
       "      <th>BENITO JUAREZ</th>\n",
       "      <th>COYOACAN</th>\n",
       "      <th>CUAJIMALPA</th>\n",
       "      <th>CUAUHTEMOC</th>\n",
       "      <th>GUSTAVO A. MADERO</th>\n",
       "      <th>IZTACALCO</th>\n",
       "      <th>IZTAPALAPA</th>\n",
       "      <th>MAGDALENA CONTRERAS</th>\n",
       "      <th>MIGUEL HIDALGO</th>\n",
       "      <th>MILPA ALTA</th>\n",
       "      <th>TLAHUAC</th>\n",
       "      <th>TLALPAN</th>\n",
       "      <th>VENUSTIANO CARRANZA</th>\n",
       "      <th>XOCHIMILCO</th>\n",
       "      <th>total</th>\n",
       "    </tr>\n",
       "    <tr>\n",
       "      <th>año_creacion</th>\n",
       "      <th></th>\n",
       "      <th></th>\n",
       "      <th></th>\n",
       "      <th></th>\n",
       "      <th></th>\n",
       "      <th></th>\n",
       "      <th></th>\n",
       "      <th></th>\n",
       "      <th></th>\n",
       "      <th></th>\n",
       "      <th></th>\n",
       "      <th></th>\n",
       "      <th></th>\n",
       "      <th></th>\n",
       "      <th></th>\n",
       "      <th></th>\n",
       "      <th></th>\n",
       "    </tr>\n",
       "  </thead>\n",
       "  <tbody>\n",
       "    <tr>\n",
       "      <th>2017</th>\n",
       "      <td>12599</td>\n",
       "      <td>7217</td>\n",
       "      <td>12415</td>\n",
       "      <td>13124</td>\n",
       "      <td>3440</td>\n",
       "      <td>16256</td>\n",
       "      <td>17671</td>\n",
       "      <td>6539</td>\n",
       "      <td>27366</td>\n",
       "      <td>2370</td>\n",
       "      <td>14084</td>\n",
       "      <td>865</td>\n",
       "      <td>4185</td>\n",
       "      <td>10048</td>\n",
       "      <td>10761</td>\n",
       "      <td>6475</td>\n",
       "      <td>165415</td>\n",
       "    </tr>\n",
       "    <tr>\n",
       "      <th>2018</th>\n",
       "      <td>13934</td>\n",
       "      <td>7737</td>\n",
       "      <td>13827</td>\n",
       "      <td>14517</td>\n",
       "      <td>3629</td>\n",
       "      <td>18108</td>\n",
       "      <td>18686</td>\n",
       "      <td>7178</td>\n",
       "      <td>29409</td>\n",
       "      <td>2810</td>\n",
       "      <td>15172</td>\n",
       "      <td>980</td>\n",
       "      <td>4460</td>\n",
       "      <td>11197</td>\n",
       "      <td>12182</td>\n",
       "      <td>7068</td>\n",
       "      <td>180894</td>\n",
       "    </tr>\n",
       "    <tr>\n",
       "      <th>2019</th>\n",
       "      <td>12289</td>\n",
       "      <td>7057</td>\n",
       "      <td>13100</td>\n",
       "      <td>13270</td>\n",
       "      <td>3236</td>\n",
       "      <td>16436</td>\n",
       "      <td>16406</td>\n",
       "      <td>7132</td>\n",
       "      <td>26981</td>\n",
       "      <td>2523</td>\n",
       "      <td>13213</td>\n",
       "      <td>912</td>\n",
       "      <td>4139</td>\n",
       "      <td>11580</td>\n",
       "      <td>11352</td>\n",
       "      <td>6601</td>\n",
       "      <td>166227</td>\n",
       "    </tr>\n",
       "    <tr>\n",
       "      <th>2020</th>\n",
       "      <td>8228</td>\n",
       "      <td>5282</td>\n",
       "      <td>8342</td>\n",
       "      <td>8520</td>\n",
       "      <td>2177</td>\n",
       "      <td>11657</td>\n",
       "      <td>12011</td>\n",
       "      <td>5097</td>\n",
       "      <td>21123</td>\n",
       "      <td>2016</td>\n",
       "      <td>7648</td>\n",
       "      <td>765</td>\n",
       "      <td>3420</td>\n",
       "      <td>9244</td>\n",
       "      <td>8737</td>\n",
       "      <td>5422</td>\n",
       "      <td>119689</td>\n",
       "    </tr>\n",
       "    <tr>\n",
       "      <th>total</th>\n",
       "      <td>47050</td>\n",
       "      <td>27293</td>\n",
       "      <td>47684</td>\n",
       "      <td>49431</td>\n",
       "      <td>12482</td>\n",
       "      <td>62457</td>\n",
       "      <td>64774</td>\n",
       "      <td>25946</td>\n",
       "      <td>104879</td>\n",
       "      <td>9719</td>\n",
       "      <td>50117</td>\n",
       "      <td>3522</td>\n",
       "      <td>16204</td>\n",
       "      <td>42069</td>\n",
       "      <td>43032</td>\n",
       "      <td>25566</td>\n",
       "      <td>632225</td>\n",
       "    </tr>\n",
       "  </tbody>\n",
       "</table>\n",
       "</div>"
      ],
      "text/plain": [
       "delegacion_inicio  ALVARO OBREGON  AZCAPOTZALCO  BENITO JUAREZ  COYOACAN  \\\n",
       "año_creacion                                                               \n",
       "2017                        12599          7217          12415     13124   \n",
       "2018                        13934          7737          13827     14517   \n",
       "2019                        12289          7057          13100     13270   \n",
       "2020                         8228          5282           8342      8520   \n",
       "total                       47050         27293          47684     49431   \n",
       "\n",
       "delegacion_inicio  CUAJIMALPA  CUAUHTEMOC  GUSTAVO A. MADERO  IZTACALCO  \\\n",
       "año_creacion                                                              \n",
       "2017                     3440       16256              17671       6539   \n",
       "2018                     3629       18108              18686       7178   \n",
       "2019                     3236       16436              16406       7132   \n",
       "2020                     2177       11657              12011       5097   \n",
       "total                   12482       62457              64774      25946   \n",
       "\n",
       "delegacion_inicio  IZTAPALAPA  MAGDALENA CONTRERAS  MIGUEL HIDALGO  \\\n",
       "año_creacion                                                         \n",
       "2017                    27366                 2370           14084   \n",
       "2018                    29409                 2810           15172   \n",
       "2019                    26981                 2523           13213   \n",
       "2020                    21123                 2016            7648   \n",
       "total                  104879                 9719           50117   \n",
       "\n",
       "delegacion_inicio  MILPA ALTA  TLAHUAC  TLALPAN  VENUSTIANO CARRANZA  \\\n",
       "año_creacion                                                           \n",
       "2017                      865     4185    10048                10761   \n",
       "2018                      980     4460    11197                12182   \n",
       "2019                      912     4139    11580                11352   \n",
       "2020                      765     3420     9244                 8737   \n",
       "total                    3522    16204    42069                43032   \n",
       "\n",
       "delegacion_inicio  XOCHIMILCO   total  \n",
       "año_creacion                           \n",
       "2017                     6475  165415  \n",
       "2018                     7068  180894  \n",
       "2019                     6601  166227  \n",
       "2020                     5422  119689  \n",
       "total                   25566  632225  "
      ]
     },
     "execution_count": 34,
     "metadata": {},
     "output_type": "execute_result"
    }
   ],
   "source": [
    "delegacion_por_año_2 = pd.crosstab(incidentes_viales_cdmx['año_creacion'], incidentes_viales_cdmx['delegacion_inicio'], margins=True, margins_name='total')\n",
    "delegacion_por_año_2"
   ]
  },
  {
   "cell_type": "code",
   "execution_count": 35,
   "id": "3adae98c",
   "metadata": {},
   "outputs": [
    {
     "data": {
      "text/html": [
       "<div>\n",
       "<style scoped>\n",
       "    .dataframe tbody tr th:only-of-type {\n",
       "        vertical-align: middle;\n",
       "    }\n",
       "\n",
       "    .dataframe tbody tr th {\n",
       "        vertical-align: top;\n",
       "    }\n",
       "\n",
       "    .dataframe thead tr th {\n",
       "        text-align: left;\n",
       "    }\n",
       "\n",
       "    .dataframe thead tr:last-of-type th {\n",
       "        text-align: right;\n",
       "    }\n",
       "</style>\n",
       "<table border=\"1\" class=\"dataframe\">\n",
       "  <thead>\n",
       "    <tr>\n",
       "      <th>año_creacion</th>\n",
       "      <th colspan=\"4\" halign=\"left\">2017</th>\n",
       "      <th colspan=\"4\" halign=\"left\">2018</th>\n",
       "      <th colspan=\"4\" halign=\"left\">2019</th>\n",
       "      <th colspan=\"4\" halign=\"left\">2020</th>\n",
       "      <th>total</th>\n",
       "    </tr>\n",
       "    <tr>\n",
       "      <th>clasificacion_incidente</th>\n",
       "      <th>DELITO</th>\n",
       "      <th>EMERGENCIA</th>\n",
       "      <th>FALSA ALARMA</th>\n",
       "      <th>URGENCIAS MEDICAS</th>\n",
       "      <th>DELITO</th>\n",
       "      <th>EMERGENCIA</th>\n",
       "      <th>FALSA ALARMA</th>\n",
       "      <th>URGENCIAS MEDICAS</th>\n",
       "      <th>DELITO</th>\n",
       "      <th>EMERGENCIA</th>\n",
       "      <th>FALSA ALARMA</th>\n",
       "      <th>URGENCIAS MEDICAS</th>\n",
       "      <th>DELITO</th>\n",
       "      <th>EMERGENCIA</th>\n",
       "      <th>FALSA ALARMA</th>\n",
       "      <th>URGENCIAS MEDICAS</th>\n",
       "      <th></th>\n",
       "    </tr>\n",
       "    <tr>\n",
       "      <th>delegacion_inicio</th>\n",
       "      <th></th>\n",
       "      <th></th>\n",
       "      <th></th>\n",
       "      <th></th>\n",
       "      <th></th>\n",
       "      <th></th>\n",
       "      <th></th>\n",
       "      <th></th>\n",
       "      <th></th>\n",
       "      <th></th>\n",
       "      <th></th>\n",
       "      <th></th>\n",
       "      <th></th>\n",
       "      <th></th>\n",
       "      <th></th>\n",
       "      <th></th>\n",
       "      <th></th>\n",
       "    </tr>\n",
       "  </thead>\n",
       "  <tbody>\n",
       "    <tr>\n",
       "      <th>ALVARO OBREGON</th>\n",
       "      <td>2</td>\n",
       "      <td>7514</td>\n",
       "      <td>134</td>\n",
       "      <td>4949</td>\n",
       "      <td>5</td>\n",
       "      <td>8148</td>\n",
       "      <td>123</td>\n",
       "      <td>5658</td>\n",
       "      <td>9</td>\n",
       "      <td>7227</td>\n",
       "      <td>13</td>\n",
       "      <td>5040</td>\n",
       "      <td>11</td>\n",
       "      <td>4278</td>\n",
       "      <td>29</td>\n",
       "      <td>3910</td>\n",
       "      <td>47050</td>\n",
       "    </tr>\n",
       "    <tr>\n",
       "      <th>AZCAPOTZALCO</th>\n",
       "      <td>4</td>\n",
       "      <td>3780</td>\n",
       "      <td>63</td>\n",
       "      <td>3370</td>\n",
       "      <td>4</td>\n",
       "      <td>4259</td>\n",
       "      <td>61</td>\n",
       "      <td>3413</td>\n",
       "      <td>1</td>\n",
       "      <td>3885</td>\n",
       "      <td>21</td>\n",
       "      <td>3150</td>\n",
       "      <td>3</td>\n",
       "      <td>2476</td>\n",
       "      <td>44</td>\n",
       "      <td>2759</td>\n",
       "      <td>27293</td>\n",
       "    </tr>\n",
       "    <tr>\n",
       "      <th>BENITO JUAREZ</th>\n",
       "      <td>5</td>\n",
       "      <td>7204</td>\n",
       "      <td>38</td>\n",
       "      <td>5168</td>\n",
       "      <td>8</td>\n",
       "      <td>7778</td>\n",
       "      <td>51</td>\n",
       "      <td>5990</td>\n",
       "      <td>5</td>\n",
       "      <td>7482</td>\n",
       "      <td>20</td>\n",
       "      <td>5593</td>\n",
       "      <td>7</td>\n",
       "      <td>4199</td>\n",
       "      <td>40</td>\n",
       "      <td>4096</td>\n",
       "      <td>47684</td>\n",
       "    </tr>\n",
       "    <tr>\n",
       "      <th>COYOACAN</th>\n",
       "      <td>0</td>\n",
       "      <td>7432</td>\n",
       "      <td>100</td>\n",
       "      <td>5592</td>\n",
       "      <td>18</td>\n",
       "      <td>8274</td>\n",
       "      <td>84</td>\n",
       "      <td>6141</td>\n",
       "      <td>9</td>\n",
       "      <td>7503</td>\n",
       "      <td>64</td>\n",
       "      <td>5694</td>\n",
       "      <td>9</td>\n",
       "      <td>4498</td>\n",
       "      <td>69</td>\n",
       "      <td>3944</td>\n",
       "      <td>49431</td>\n",
       "    </tr>\n",
       "    <tr>\n",
       "      <th>CUAJIMALPA</th>\n",
       "      <td>0</td>\n",
       "      <td>2068</td>\n",
       "      <td>42</td>\n",
       "      <td>1330</td>\n",
       "      <td>2</td>\n",
       "      <td>2089</td>\n",
       "      <td>16</td>\n",
       "      <td>1522</td>\n",
       "      <td>3</td>\n",
       "      <td>1877</td>\n",
       "      <td>2</td>\n",
       "      <td>1354</td>\n",
       "      <td>1</td>\n",
       "      <td>1153</td>\n",
       "      <td>3</td>\n",
       "      <td>1020</td>\n",
       "      <td>12482</td>\n",
       "    </tr>\n",
       "    <tr>\n",
       "      <th>CUAUHTEMOC</th>\n",
       "      <td>9</td>\n",
       "      <td>8293</td>\n",
       "      <td>132</td>\n",
       "      <td>7822</td>\n",
       "      <td>18</td>\n",
       "      <td>8950</td>\n",
       "      <td>63</td>\n",
       "      <td>9077</td>\n",
       "      <td>14</td>\n",
       "      <td>7952</td>\n",
       "      <td>17</td>\n",
       "      <td>8453</td>\n",
       "      <td>5</td>\n",
       "      <td>5055</td>\n",
       "      <td>71</td>\n",
       "      <td>6526</td>\n",
       "      <td>62457</td>\n",
       "    </tr>\n",
       "    <tr>\n",
       "      <th>GUSTAVO A. MADERO</th>\n",
       "      <td>8</td>\n",
       "      <td>9640</td>\n",
       "      <td>546</td>\n",
       "      <td>7477</td>\n",
       "      <td>12</td>\n",
       "      <td>9776</td>\n",
       "      <td>243</td>\n",
       "      <td>8655</td>\n",
       "      <td>10</td>\n",
       "      <td>8598</td>\n",
       "      <td>43</td>\n",
       "      <td>7755</td>\n",
       "      <td>15</td>\n",
       "      <td>5832</td>\n",
       "      <td>119</td>\n",
       "      <td>6045</td>\n",
       "      <td>64774</td>\n",
       "    </tr>\n",
       "    <tr>\n",
       "      <th>IZTACALCO</th>\n",
       "      <td>3</td>\n",
       "      <td>3572</td>\n",
       "      <td>32</td>\n",
       "      <td>2932</td>\n",
       "      <td>4</td>\n",
       "      <td>3694</td>\n",
       "      <td>23</td>\n",
       "      <td>3457</td>\n",
       "      <td>6</td>\n",
       "      <td>3732</td>\n",
       "      <td>14</td>\n",
       "      <td>3380</td>\n",
       "      <td>2</td>\n",
       "      <td>2480</td>\n",
       "      <td>27</td>\n",
       "      <td>2588</td>\n",
       "      <td>25946</td>\n",
       "    </tr>\n",
       "    <tr>\n",
       "      <th>IZTAPALAPA</th>\n",
       "      <td>20</td>\n",
       "      <td>15371</td>\n",
       "      <td>469</td>\n",
       "      <td>11506</td>\n",
       "      <td>28</td>\n",
       "      <td>16862</td>\n",
       "      <td>357</td>\n",
       "      <td>12162</td>\n",
       "      <td>27</td>\n",
       "      <td>15426</td>\n",
       "      <td>53</td>\n",
       "      <td>11475</td>\n",
       "      <td>25</td>\n",
       "      <td>11503</td>\n",
       "      <td>117</td>\n",
       "      <td>9478</td>\n",
       "      <td>104879</td>\n",
       "    </tr>\n",
       "    <tr>\n",
       "      <th>MAGDALENA CONTRERAS</th>\n",
       "      <td>3</td>\n",
       "      <td>1322</td>\n",
       "      <td>37</td>\n",
       "      <td>1008</td>\n",
       "      <td>2</td>\n",
       "      <td>1636</td>\n",
       "      <td>7</td>\n",
       "      <td>1165</td>\n",
       "      <td>3</td>\n",
       "      <td>1424</td>\n",
       "      <td>2</td>\n",
       "      <td>1094</td>\n",
       "      <td>2</td>\n",
       "      <td>1082</td>\n",
       "      <td>7</td>\n",
       "      <td>925</td>\n",
       "      <td>9719</td>\n",
       "    </tr>\n",
       "    <tr>\n",
       "      <th>MIGUEL HIDALGO</th>\n",
       "      <td>5</td>\n",
       "      <td>9097</td>\n",
       "      <td>253</td>\n",
       "      <td>4729</td>\n",
       "      <td>6</td>\n",
       "      <td>9357</td>\n",
       "      <td>169</td>\n",
       "      <td>5640</td>\n",
       "      <td>11</td>\n",
       "      <td>7951</td>\n",
       "      <td>21</td>\n",
       "      <td>5230</td>\n",
       "      <td>2</td>\n",
       "      <td>4086</td>\n",
       "      <td>39</td>\n",
       "      <td>3521</td>\n",
       "      <td>50117</td>\n",
       "    </tr>\n",
       "    <tr>\n",
       "      <th>MILPA ALTA</th>\n",
       "      <td>0</td>\n",
       "      <td>497</td>\n",
       "      <td>11</td>\n",
       "      <td>357</td>\n",
       "      <td>1</td>\n",
       "      <td>475</td>\n",
       "      <td>37</td>\n",
       "      <td>467</td>\n",
       "      <td>0</td>\n",
       "      <td>402</td>\n",
       "      <td>0</td>\n",
       "      <td>510</td>\n",
       "      <td>0</td>\n",
       "      <td>386</td>\n",
       "      <td>6</td>\n",
       "      <td>373</td>\n",
       "      <td>3522</td>\n",
       "    </tr>\n",
       "    <tr>\n",
       "      <th>TLAHUAC</th>\n",
       "      <td>4</td>\n",
       "      <td>2019</td>\n",
       "      <td>65</td>\n",
       "      <td>2097</td>\n",
       "      <td>6</td>\n",
       "      <td>2145</td>\n",
       "      <td>16</td>\n",
       "      <td>2293</td>\n",
       "      <td>1</td>\n",
       "      <td>1983</td>\n",
       "      <td>7</td>\n",
       "      <td>2148</td>\n",
       "      <td>6</td>\n",
       "      <td>1551</td>\n",
       "      <td>3</td>\n",
       "      <td>1860</td>\n",
       "      <td>16204</td>\n",
       "    </tr>\n",
       "    <tr>\n",
       "      <th>TLALPAN</th>\n",
       "      <td>6</td>\n",
       "      <td>5532</td>\n",
       "      <td>32</td>\n",
       "      <td>4478</td>\n",
       "      <td>11</td>\n",
       "      <td>6252</td>\n",
       "      <td>7</td>\n",
       "      <td>4927</td>\n",
       "      <td>11</td>\n",
       "      <td>6442</td>\n",
       "      <td>0</td>\n",
       "      <td>5127</td>\n",
       "      <td>11</td>\n",
       "      <td>5002</td>\n",
       "      <td>34</td>\n",
       "      <td>4197</td>\n",
       "      <td>42069</td>\n",
       "    </tr>\n",
       "    <tr>\n",
       "      <th>VENUSTIANO CARRANZA</th>\n",
       "      <td>6</td>\n",
       "      <td>5650</td>\n",
       "      <td>54</td>\n",
       "      <td>5051</td>\n",
       "      <td>13</td>\n",
       "      <td>6767</td>\n",
       "      <td>36</td>\n",
       "      <td>5366</td>\n",
       "      <td>7</td>\n",
       "      <td>6133</td>\n",
       "      <td>22</td>\n",
       "      <td>5190</td>\n",
       "      <td>6</td>\n",
       "      <td>4074</td>\n",
       "      <td>65</td>\n",
       "      <td>4592</td>\n",
       "      <td>43032</td>\n",
       "    </tr>\n",
       "    <tr>\n",
       "      <th>XOCHIMILCO</th>\n",
       "      <td>5</td>\n",
       "      <td>3427</td>\n",
       "      <td>60</td>\n",
       "      <td>2983</td>\n",
       "      <td>5</td>\n",
       "      <td>3643</td>\n",
       "      <td>237</td>\n",
       "      <td>3183</td>\n",
       "      <td>5</td>\n",
       "      <td>3571</td>\n",
       "      <td>9</td>\n",
       "      <td>3016</td>\n",
       "      <td>9</td>\n",
       "      <td>2847</td>\n",
       "      <td>36</td>\n",
       "      <td>2530</td>\n",
       "      <td>25566</td>\n",
       "    </tr>\n",
       "    <tr>\n",
       "      <th>total</th>\n",
       "      <td>80</td>\n",
       "      <td>92418</td>\n",
       "      <td>2068</td>\n",
       "      <td>70849</td>\n",
       "      <td>143</td>\n",
       "      <td>100105</td>\n",
       "      <td>1530</td>\n",
       "      <td>79116</td>\n",
       "      <td>122</td>\n",
       "      <td>91588</td>\n",
       "      <td>308</td>\n",
       "      <td>74209</td>\n",
       "      <td>114</td>\n",
       "      <td>60502</td>\n",
       "      <td>709</td>\n",
       "      <td>58364</td>\n",
       "      <td>632225</td>\n",
       "    </tr>\n",
       "  </tbody>\n",
       "</table>\n",
       "</div>"
      ],
      "text/plain": [
       "año_creacion              2017                                            \\\n",
       "clasificacion_incidente DELITO EMERGENCIA FALSA ALARMA URGENCIAS MEDICAS   \n",
       "delegacion_inicio                                                          \n",
       "ALVARO OBREGON               2       7514          134              4949   \n",
       "AZCAPOTZALCO                 4       3780           63              3370   \n",
       "BENITO JUAREZ                5       7204           38              5168   \n",
       "COYOACAN                     0       7432          100              5592   \n",
       "CUAJIMALPA                   0       2068           42              1330   \n",
       "CUAUHTEMOC                   9       8293          132              7822   \n",
       "GUSTAVO A. MADERO            8       9640          546              7477   \n",
       "IZTACALCO                    3       3572           32              2932   \n",
       "IZTAPALAPA                  20      15371          469             11506   \n",
       "MAGDALENA CONTRERAS          3       1322           37              1008   \n",
       "MIGUEL HIDALGO               5       9097          253              4729   \n",
       "MILPA ALTA                   0        497           11               357   \n",
       "TLAHUAC                      4       2019           65              2097   \n",
       "TLALPAN                      6       5532           32              4478   \n",
       "VENUSTIANO CARRANZA          6       5650           54              5051   \n",
       "XOCHIMILCO                   5       3427           60              2983   \n",
       "total                       80      92418         2068             70849   \n",
       "\n",
       "año_creacion              2018                                            \\\n",
       "clasificacion_incidente DELITO EMERGENCIA FALSA ALARMA URGENCIAS MEDICAS   \n",
       "delegacion_inicio                                                          \n",
       "ALVARO OBREGON               5       8148          123              5658   \n",
       "AZCAPOTZALCO                 4       4259           61              3413   \n",
       "BENITO JUAREZ                8       7778           51              5990   \n",
       "COYOACAN                    18       8274           84              6141   \n",
       "CUAJIMALPA                   2       2089           16              1522   \n",
       "CUAUHTEMOC                  18       8950           63              9077   \n",
       "GUSTAVO A. MADERO           12       9776          243              8655   \n",
       "IZTACALCO                    4       3694           23              3457   \n",
       "IZTAPALAPA                  28      16862          357             12162   \n",
       "MAGDALENA CONTRERAS          2       1636            7              1165   \n",
       "MIGUEL HIDALGO               6       9357          169              5640   \n",
       "MILPA ALTA                   1        475           37               467   \n",
       "TLAHUAC                      6       2145           16              2293   \n",
       "TLALPAN                     11       6252            7              4927   \n",
       "VENUSTIANO CARRANZA         13       6767           36              5366   \n",
       "XOCHIMILCO                   5       3643          237              3183   \n",
       "total                      143     100105         1530             79116   \n",
       "\n",
       "año_creacion              2019                                            \\\n",
       "clasificacion_incidente DELITO EMERGENCIA FALSA ALARMA URGENCIAS MEDICAS   \n",
       "delegacion_inicio                                                          \n",
       "ALVARO OBREGON               9       7227           13              5040   \n",
       "AZCAPOTZALCO                 1       3885           21              3150   \n",
       "BENITO JUAREZ                5       7482           20              5593   \n",
       "COYOACAN                     9       7503           64              5694   \n",
       "CUAJIMALPA                   3       1877            2              1354   \n",
       "CUAUHTEMOC                  14       7952           17              8453   \n",
       "GUSTAVO A. MADERO           10       8598           43              7755   \n",
       "IZTACALCO                    6       3732           14              3380   \n",
       "IZTAPALAPA                  27      15426           53             11475   \n",
       "MAGDALENA CONTRERAS          3       1424            2              1094   \n",
       "MIGUEL HIDALGO              11       7951           21              5230   \n",
       "MILPA ALTA                   0        402            0               510   \n",
       "TLAHUAC                      1       1983            7              2148   \n",
       "TLALPAN                     11       6442            0              5127   \n",
       "VENUSTIANO CARRANZA          7       6133           22              5190   \n",
       "XOCHIMILCO                   5       3571            9              3016   \n",
       "total                      122      91588          308             74209   \n",
       "\n",
       "año_creacion              2020                                            \\\n",
       "clasificacion_incidente DELITO EMERGENCIA FALSA ALARMA URGENCIAS MEDICAS   \n",
       "delegacion_inicio                                                          \n",
       "ALVARO OBREGON              11       4278           29              3910   \n",
       "AZCAPOTZALCO                 3       2476           44              2759   \n",
       "BENITO JUAREZ                7       4199           40              4096   \n",
       "COYOACAN                     9       4498           69              3944   \n",
       "CUAJIMALPA                   1       1153            3              1020   \n",
       "CUAUHTEMOC                   5       5055           71              6526   \n",
       "GUSTAVO A. MADERO           15       5832          119              6045   \n",
       "IZTACALCO                    2       2480           27              2588   \n",
       "IZTAPALAPA                  25      11503          117              9478   \n",
       "MAGDALENA CONTRERAS          2       1082            7               925   \n",
       "MIGUEL HIDALGO               2       4086           39              3521   \n",
       "MILPA ALTA                   0        386            6               373   \n",
       "TLAHUAC                      6       1551            3              1860   \n",
       "TLALPAN                     11       5002           34              4197   \n",
       "VENUSTIANO CARRANZA          6       4074           65              4592   \n",
       "XOCHIMILCO                   9       2847           36              2530   \n",
       "total                      114      60502          709             58364   \n",
       "\n",
       "año_creacion              total  \n",
       "clasificacion_incidente          \n",
       "delegacion_inicio                \n",
       "ALVARO OBREGON            47050  \n",
       "AZCAPOTZALCO              27293  \n",
       "BENITO JUAREZ             47684  \n",
       "COYOACAN                  49431  \n",
       "CUAJIMALPA                12482  \n",
       "CUAUHTEMOC                62457  \n",
       "GUSTAVO A. MADERO         64774  \n",
       "IZTACALCO                 25946  \n",
       "IZTAPALAPA               104879  \n",
       "MAGDALENA CONTRERAS        9719  \n",
       "MIGUEL HIDALGO            50117  \n",
       "MILPA ALTA                 3522  \n",
       "TLAHUAC                   16204  \n",
       "TLALPAN                   42069  \n",
       "VENUSTIANO CARRANZA       43032  \n",
       "XOCHIMILCO                25566  \n",
       "total                    632225  "
      ]
     },
     "execution_count": 35,
     "metadata": {},
     "output_type": "execute_result"
    }
   ],
   "source": [
    "incidentes_por_delegacion = pd.crosstab(incidentes_viales_cdmx['delegacion_inicio'], [incidentes_viales_cdmx['año_creacion'], incidentes_viales_cdmx['clasificacion_incidente']], margins=True, margins_name='total')\n",
    "incidentes_por_delegacion"
   ]
  },
  {
   "cell_type": "code",
   "execution_count": 36,
   "id": "9418d398",
   "metadata": {
    "scrolled": false
   },
   "outputs": [
    {
     "data": {
      "text/html": [
       "<div>\n",
       "<style scoped>\n",
       "    .dataframe tbody tr th:only-of-type {\n",
       "        vertical-align: middle;\n",
       "    }\n",
       "\n",
       "    .dataframe tbody tr th {\n",
       "        vertical-align: top;\n",
       "    }\n",
       "\n",
       "    .dataframe thead th {\n",
       "        text-align: right;\n",
       "    }\n",
       "</style>\n",
       "<table border=\"1\" class=\"dataframe\">\n",
       "  <thead>\n",
       "    <tr style=\"text-align: right;\">\n",
       "      <th>clasificacion_incidente</th>\n",
       "      <th>DELITO</th>\n",
       "      <th>EMERGENCIA</th>\n",
       "      <th>FALSA ALARMA</th>\n",
       "      <th>URGENCIAS MEDICAS</th>\n",
       "    </tr>\n",
       "    <tr>\n",
       "      <th>delegacion_inicio</th>\n",
       "      <th></th>\n",
       "      <th></th>\n",
       "      <th></th>\n",
       "      <th></th>\n",
       "    </tr>\n",
       "  </thead>\n",
       "  <tbody>\n",
       "    <tr>\n",
       "      <th>ALVARO OBREGON</th>\n",
       "      <td>9</td>\n",
       "      <td>7227</td>\n",
       "      <td>13</td>\n",
       "      <td>5040</td>\n",
       "    </tr>\n",
       "    <tr>\n",
       "      <th>AZCAPOTZALCO</th>\n",
       "      <td>1</td>\n",
       "      <td>3885</td>\n",
       "      <td>21</td>\n",
       "      <td>3150</td>\n",
       "    </tr>\n",
       "    <tr>\n",
       "      <th>BENITO JUAREZ</th>\n",
       "      <td>5</td>\n",
       "      <td>7482</td>\n",
       "      <td>20</td>\n",
       "      <td>5593</td>\n",
       "    </tr>\n",
       "    <tr>\n",
       "      <th>COYOACAN</th>\n",
       "      <td>9</td>\n",
       "      <td>7503</td>\n",
       "      <td>64</td>\n",
       "      <td>5694</td>\n",
       "    </tr>\n",
       "    <tr>\n",
       "      <th>CUAJIMALPA</th>\n",
       "      <td>3</td>\n",
       "      <td>1877</td>\n",
       "      <td>2</td>\n",
       "      <td>1354</td>\n",
       "    </tr>\n",
       "    <tr>\n",
       "      <th>CUAUHTEMOC</th>\n",
       "      <td>14</td>\n",
       "      <td>7952</td>\n",
       "      <td>17</td>\n",
       "      <td>8453</td>\n",
       "    </tr>\n",
       "    <tr>\n",
       "      <th>GUSTAVO A. MADERO</th>\n",
       "      <td>10</td>\n",
       "      <td>8598</td>\n",
       "      <td>43</td>\n",
       "      <td>7755</td>\n",
       "    </tr>\n",
       "    <tr>\n",
       "      <th>IZTACALCO</th>\n",
       "      <td>6</td>\n",
       "      <td>3732</td>\n",
       "      <td>14</td>\n",
       "      <td>3380</td>\n",
       "    </tr>\n",
       "    <tr>\n",
       "      <th>IZTAPALAPA</th>\n",
       "      <td>27</td>\n",
       "      <td>15426</td>\n",
       "      <td>53</td>\n",
       "      <td>11475</td>\n",
       "    </tr>\n",
       "    <tr>\n",
       "      <th>MAGDALENA CONTRERAS</th>\n",
       "      <td>3</td>\n",
       "      <td>1424</td>\n",
       "      <td>2</td>\n",
       "      <td>1094</td>\n",
       "    </tr>\n",
       "    <tr>\n",
       "      <th>MIGUEL HIDALGO</th>\n",
       "      <td>11</td>\n",
       "      <td>7951</td>\n",
       "      <td>21</td>\n",
       "      <td>5230</td>\n",
       "    </tr>\n",
       "    <tr>\n",
       "      <th>MILPA ALTA</th>\n",
       "      <td>0</td>\n",
       "      <td>402</td>\n",
       "      <td>0</td>\n",
       "      <td>510</td>\n",
       "    </tr>\n",
       "    <tr>\n",
       "      <th>TLAHUAC</th>\n",
       "      <td>1</td>\n",
       "      <td>1983</td>\n",
       "      <td>7</td>\n",
       "      <td>2148</td>\n",
       "    </tr>\n",
       "    <tr>\n",
       "      <th>TLALPAN</th>\n",
       "      <td>11</td>\n",
       "      <td>6442</td>\n",
       "      <td>0</td>\n",
       "      <td>5127</td>\n",
       "    </tr>\n",
       "    <tr>\n",
       "      <th>VENUSTIANO CARRANZA</th>\n",
       "      <td>7</td>\n",
       "      <td>6133</td>\n",
       "      <td>22</td>\n",
       "      <td>5190</td>\n",
       "    </tr>\n",
       "    <tr>\n",
       "      <th>XOCHIMILCO</th>\n",
       "      <td>5</td>\n",
       "      <td>3571</td>\n",
       "      <td>9</td>\n",
       "      <td>3016</td>\n",
       "    </tr>\n",
       "    <tr>\n",
       "      <th>total</th>\n",
       "      <td>122</td>\n",
       "      <td>91588</td>\n",
       "      <td>308</td>\n",
       "      <td>74209</td>\n",
       "    </tr>\n",
       "  </tbody>\n",
       "</table>\n",
       "</div>"
      ],
      "text/plain": [
       "clasificacion_incidente  DELITO  EMERGENCIA  FALSA ALARMA  URGENCIAS MEDICAS\n",
       "delegacion_inicio                                                           \n",
       "ALVARO OBREGON                9        7227            13               5040\n",
       "AZCAPOTZALCO                  1        3885            21               3150\n",
       "BENITO JUAREZ                 5        7482            20               5593\n",
       "COYOACAN                      9        7503            64               5694\n",
       "CUAJIMALPA                    3        1877             2               1354\n",
       "CUAUHTEMOC                   14        7952            17               8453\n",
       "GUSTAVO A. MADERO            10        8598            43               7755\n",
       "IZTACALCO                     6        3732            14               3380\n",
       "IZTAPALAPA                   27       15426            53              11475\n",
       "MAGDALENA CONTRERAS           3        1424             2               1094\n",
       "MIGUEL HIDALGO               11        7951            21               5230\n",
       "MILPA ALTA                    0         402             0                510\n",
       "TLAHUAC                       1        1983             7               2148\n",
       "TLALPAN                      11        6442             0               5127\n",
       "VENUSTIANO CARRANZA           7        6133            22               5190\n",
       "XOCHIMILCO                    5        3571             9               3016\n",
       "total                       122       91588           308              74209"
      ]
     },
     "execution_count": 36,
     "metadata": {},
     "output_type": "execute_result"
    }
   ],
   "source": [
    "incidentes_por_delegacion.loc[:, (2019)]"
   ]
  },
  {
   "cell_type": "code",
   "execution_count": 37,
   "id": "c17582fc",
   "metadata": {},
   "outputs": [
    {
     "data": {
      "text/html": [
       "<div>\n",
       "<style scoped>\n",
       "    .dataframe tbody tr th:only-of-type {\n",
       "        vertical-align: middle;\n",
       "    }\n",
       "\n",
       "    .dataframe tbody tr th {\n",
       "        vertical-align: top;\n",
       "    }\n",
       "\n",
       "    .dataframe thead th {\n",
       "        text-align: right;\n",
       "    }\n",
       "</style>\n",
       "<table border=\"1\" class=\"dataframe\">\n",
       "  <thead>\n",
       "    <tr style=\"text-align: right;\">\n",
       "      <th>clasificacion_incidente</th>\n",
       "      <th>DELITO</th>\n",
       "      <th>EMERGENCIA</th>\n",
       "      <th>FALSA ALARMA</th>\n",
       "      <th>URGENCIAS MEDICAS</th>\n",
       "    </tr>\n",
       "    <tr>\n",
       "      <th>delegacion_inicio</th>\n",
       "      <th></th>\n",
       "      <th></th>\n",
       "      <th></th>\n",
       "      <th></th>\n",
       "    </tr>\n",
       "  </thead>\n",
       "  <tbody>\n",
       "    <tr>\n",
       "      <th>ALVARO OBREGON</th>\n",
       "      <td>11</td>\n",
       "      <td>4278</td>\n",
       "      <td>29</td>\n",
       "      <td>3910</td>\n",
       "    </tr>\n",
       "    <tr>\n",
       "      <th>AZCAPOTZALCO</th>\n",
       "      <td>3</td>\n",
       "      <td>2476</td>\n",
       "      <td>44</td>\n",
       "      <td>2759</td>\n",
       "    </tr>\n",
       "    <tr>\n",
       "      <th>BENITO JUAREZ</th>\n",
       "      <td>7</td>\n",
       "      <td>4199</td>\n",
       "      <td>40</td>\n",
       "      <td>4096</td>\n",
       "    </tr>\n",
       "    <tr>\n",
       "      <th>COYOACAN</th>\n",
       "      <td>9</td>\n",
       "      <td>4498</td>\n",
       "      <td>69</td>\n",
       "      <td>3944</td>\n",
       "    </tr>\n",
       "    <tr>\n",
       "      <th>CUAJIMALPA</th>\n",
       "      <td>1</td>\n",
       "      <td>1153</td>\n",
       "      <td>3</td>\n",
       "      <td>1020</td>\n",
       "    </tr>\n",
       "    <tr>\n",
       "      <th>CUAUHTEMOC</th>\n",
       "      <td>5</td>\n",
       "      <td>5055</td>\n",
       "      <td>71</td>\n",
       "      <td>6526</td>\n",
       "    </tr>\n",
       "    <tr>\n",
       "      <th>GUSTAVO A. MADERO</th>\n",
       "      <td>15</td>\n",
       "      <td>5832</td>\n",
       "      <td>119</td>\n",
       "      <td>6045</td>\n",
       "    </tr>\n",
       "    <tr>\n",
       "      <th>IZTACALCO</th>\n",
       "      <td>2</td>\n",
       "      <td>2480</td>\n",
       "      <td>27</td>\n",
       "      <td>2588</td>\n",
       "    </tr>\n",
       "    <tr>\n",
       "      <th>IZTAPALAPA</th>\n",
       "      <td>25</td>\n",
       "      <td>11503</td>\n",
       "      <td>117</td>\n",
       "      <td>9478</td>\n",
       "    </tr>\n",
       "    <tr>\n",
       "      <th>MAGDALENA CONTRERAS</th>\n",
       "      <td>2</td>\n",
       "      <td>1082</td>\n",
       "      <td>7</td>\n",
       "      <td>925</td>\n",
       "    </tr>\n",
       "    <tr>\n",
       "      <th>MIGUEL HIDALGO</th>\n",
       "      <td>2</td>\n",
       "      <td>4086</td>\n",
       "      <td>39</td>\n",
       "      <td>3521</td>\n",
       "    </tr>\n",
       "    <tr>\n",
       "      <th>MILPA ALTA</th>\n",
       "      <td>0</td>\n",
       "      <td>386</td>\n",
       "      <td>6</td>\n",
       "      <td>373</td>\n",
       "    </tr>\n",
       "    <tr>\n",
       "      <th>TLAHUAC</th>\n",
       "      <td>6</td>\n",
       "      <td>1551</td>\n",
       "      <td>3</td>\n",
       "      <td>1860</td>\n",
       "    </tr>\n",
       "    <tr>\n",
       "      <th>TLALPAN</th>\n",
       "      <td>11</td>\n",
       "      <td>5002</td>\n",
       "      <td>34</td>\n",
       "      <td>4197</td>\n",
       "    </tr>\n",
       "    <tr>\n",
       "      <th>VENUSTIANO CARRANZA</th>\n",
       "      <td>6</td>\n",
       "      <td>4074</td>\n",
       "      <td>65</td>\n",
       "      <td>4592</td>\n",
       "    </tr>\n",
       "    <tr>\n",
       "      <th>XOCHIMILCO</th>\n",
       "      <td>9</td>\n",
       "      <td>2847</td>\n",
       "      <td>36</td>\n",
       "      <td>2530</td>\n",
       "    </tr>\n",
       "    <tr>\n",
       "      <th>total</th>\n",
       "      <td>114</td>\n",
       "      <td>60502</td>\n",
       "      <td>709</td>\n",
       "      <td>58364</td>\n",
       "    </tr>\n",
       "  </tbody>\n",
       "</table>\n",
       "</div>"
      ],
      "text/plain": [
       "clasificacion_incidente  DELITO  EMERGENCIA  FALSA ALARMA  URGENCIAS MEDICAS\n",
       "delegacion_inicio                                                           \n",
       "ALVARO OBREGON               11        4278            29               3910\n",
       "AZCAPOTZALCO                  3        2476            44               2759\n",
       "BENITO JUAREZ                 7        4199            40               4096\n",
       "COYOACAN                      9        4498            69               3944\n",
       "CUAJIMALPA                    1        1153             3               1020\n",
       "CUAUHTEMOC                    5        5055            71               6526\n",
       "GUSTAVO A. MADERO            15        5832           119               6045\n",
       "IZTACALCO                     2        2480            27               2588\n",
       "IZTAPALAPA                   25       11503           117               9478\n",
       "MAGDALENA CONTRERAS           2        1082             7                925\n",
       "MIGUEL HIDALGO                2        4086            39               3521\n",
       "MILPA ALTA                    0         386             6                373\n",
       "TLAHUAC                       6        1551             3               1860\n",
       "TLALPAN                      11        5002            34               4197\n",
       "VENUSTIANO CARRANZA           6        4074            65               4592\n",
       "XOCHIMILCO                    9        2847            36               2530\n",
       "total                       114       60502           709              58364"
      ]
     },
     "execution_count": 37,
     "metadata": {},
     "output_type": "execute_result"
    }
   ],
   "source": [
    "incidentes_2020 = incidentes_por_delegacion.loc[:, (2020)]\n",
    "incidentes_2020"
   ]
  },
  {
   "cell_type": "markdown",
   "id": "3c9eef96",
   "metadata": {},
   "source": [
    "# Graficando con múltiples axis"
   ]
  },
  {
   "cell_type": "code",
   "execution_count": 38,
   "id": "f81eb4c7",
   "metadata": {},
   "outputs": [
    {
     "data": {
      "image/png": "[encoded data removed]",
      "text/plain": [
       "<Figure size 720x576 with 4 Axes>"
      ]
     },
     "metadata": {
      "needs_background": "light"
     },
     "output_type": "display_data"
    }
   ],
   "source": [
    "fig, axes = plt.subplots(2, 2, figsize=(10, 8), sharex=True, sharey=True)\n",
    "\n",
    "sns.barplot(x=delegacion_por_año_1.columns, y=delegacion_por_año_1.loc['IZTAPALAPA'], ax=axes[0,0])\n",
    "sns.barplot(x=delegacion_por_año_1.columns, y=delegacion_por_año_1.loc['GUSTAVO A. MADERO'], ax=axes[0,1])\n",
    "sns.barplot(x=delegacion_por_año_1.columns, y=delegacion_por_año_1.loc['MAGDALENA CONTRERAS'], ax=axes[1,0])\n",
    "sns.barplot(x=delegacion_por_año_1.columns, y=delegacion_por_año_1.loc['MILPA ALTA'], ax=axes[1,1])\n",
    "\n",
    "\n",
    "axes[0, 0].set(xlabel='', ylabel='', title='IZTAPALAPA')\n",
    "axes[0, 1].set(xlabel='', ylabel='', title='GUSTAVO A. MADERO')\n",
    "axes[1, 0].set(xlabel='', ylabel='', title='MAGDALENA CONTRERAS')\n",
    "axes[1, 1].set(xlabel='', ylabel='', title='MILPA ALTA')\n",
    "\n",
    "\n",
    "fig.suptitle('Distribución por año - Extremo superior y extremo inferior', fontsize=15);"
   ]
  },
  {
   "cell_type": "markdown",
   "id": "034ea86c",
   "metadata": {},
   "source": [
    "# Treemaps"
   ]
  },
  {
   "cell_type": "code",
   "execution_count": 109,
   "id": "6b62fc8c",
   "metadata": {},
   "outputs": [
    {
     "data": {
      "text/html": [
       "<div>\n",
       "<style scoped>\n",
       "    .dataframe tbody tr th:only-of-type {\n",
       "        vertical-align: middle;\n",
       "    }\n",
       "\n",
       "    .dataframe tbody tr th {\n",
       "        vertical-align: top;\n",
       "    }\n",
       "\n",
       "    .dataframe thead th {\n",
       "        text-align: right;\n",
       "    }\n",
       "</style>\n",
       "<table border=\"1\" class=\"dataframe\">\n",
       "  <thead>\n",
       "    <tr style=\"text-align: right;\">\n",
       "      <th></th>\n",
       "      <th>año_creacion</th>\n",
       "      <th>medio_de_aviso</th>\n",
       "    </tr>\n",
       "    <tr>\n",
       "      <th>folio</th>\n",
       "      <th></th>\n",
       "      <th></th>\n",
       "    </tr>\n",
       "  </thead>\n",
       "  <tbody>\n",
       "    <tr>\n",
       "      <th>AO/170101/00965</th>\n",
       "      <td>2017</td>\n",
       "      <td>BOTON DE AUXILIO</td>\n",
       "    </tr>\n",
       "    <tr>\n",
       "      <th>AO/170101/01450</th>\n",
       "      <td>2017</td>\n",
       "      <td>BOTON DE AUXILIO</td>\n",
       "    </tr>\n",
       "    <tr>\n",
       "      <th>AO/170101/02807</th>\n",
       "      <td>2017</td>\n",
       "      <td>RADIO</td>\n",
       "    </tr>\n",
       "    <tr>\n",
       "      <th>AO/170102/02076</th>\n",
       "      <td>2017</td>\n",
       "      <td>BOTON DE AUXILIO</td>\n",
       "    </tr>\n",
       "    <tr>\n",
       "      <th>AO/170102/02428</th>\n",
       "      <td>2017</td>\n",
       "      <td>BOTON DE AUXILIO</td>\n",
       "    </tr>\n",
       "  </tbody>\n",
       "</table>\n",
       "</div>"
      ],
      "text/plain": [
       "                 año_creacion    medio_de_aviso\n",
       "folio                                          \n",
       "AO/170101/00965          2017  BOTON DE AUXILIO\n",
       "AO/170101/01450          2017  BOTON DE AUXILIO\n",
       "AO/170101/02807          2017             RADIO\n",
       "AO/170102/02076          2017  BOTON DE AUXILIO\n",
       "AO/170102/02428          2017  BOTON DE AUXILIO"
      ]
     },
     "execution_count": 109,
     "metadata": {},
     "output_type": "execute_result"
    }
   ],
   "source": [
    "incidentes_grouped_day = incidentes_viales_cdmx.groupby('folio')[['año_creacion','medio_de_aviso']].max()\n",
    "incidentes_grouped_day.head()"
   ]
  },
  {
   "cell_type": "code",
   "execution_count": 110,
   "id": "aaba60de",
   "metadata": {},
   "outputs": [
    {
     "data": {
      "text/html": [
       "<div>\n",
       "<style scoped>\n",
       "    .dataframe tbody tr th:only-of-type {\n",
       "        vertical-align: middle;\n",
       "    }\n",
       "\n",
       "    .dataframe tbody tr th {\n",
       "        vertical-align: top;\n",
       "    }\n",
       "\n",
       "    .dataframe thead th {\n",
       "        text-align: right;\n",
       "    }\n",
       "</style>\n",
       "<table border=\"1\" class=\"dataframe\">\n",
       "  <thead>\n",
       "    <tr style=\"text-align: right;\">\n",
       "      <th></th>\n",
       "      <th>año_creacion</th>\n",
       "      <th>medio_de_aviso</th>\n",
       "      <th>count</th>\n",
       "    </tr>\n",
       "    <tr>\n",
       "      <th>folio</th>\n",
       "      <th></th>\n",
       "      <th></th>\n",
       "      <th></th>\n",
       "    </tr>\n",
       "  </thead>\n",
       "  <tbody>\n",
       "    <tr>\n",
       "      <th>AO/170101/00965</th>\n",
       "      <td>2017</td>\n",
       "      <td>BOTON DE AUXILIO</td>\n",
       "      <td>1</td>\n",
       "    </tr>\n",
       "    <tr>\n",
       "      <th>AO/170101/01450</th>\n",
       "      <td>2017</td>\n",
       "      <td>BOTON DE AUXILIO</td>\n",
       "      <td>1</td>\n",
       "    </tr>\n",
       "    <tr>\n",
       "      <th>AO/170101/02807</th>\n",
       "      <td>2017</td>\n",
       "      <td>RADIO</td>\n",
       "      <td>1</td>\n",
       "    </tr>\n",
       "    <tr>\n",
       "      <th>AO/170102/02076</th>\n",
       "      <td>2017</td>\n",
       "      <td>BOTON DE AUXILIO</td>\n",
       "      <td>1</td>\n",
       "    </tr>\n",
       "    <tr>\n",
       "      <th>AO/170102/02428</th>\n",
       "      <td>2017</td>\n",
       "      <td>BOTON DE AUXILIO</td>\n",
       "      <td>1</td>\n",
       "    </tr>\n",
       "  </tbody>\n",
       "</table>\n",
       "</div>"
      ],
      "text/plain": [
       "                 año_creacion    medio_de_aviso  count\n",
       "folio                                                 \n",
       "AO/170101/00965          2017  BOTON DE AUXILIO      1\n",
       "AO/170101/01450          2017  BOTON DE AUXILIO      1\n",
       "AO/170101/02807          2017             RADIO      1\n",
       "AO/170102/02076          2017  BOTON DE AUXILIO      1\n",
       "AO/170102/02428          2017  BOTON DE AUXILIO      1"
      ]
     },
     "execution_count": 110,
     "metadata": {},
     "output_type": "execute_result"
    }
   ],
   "source": [
    "incidentes_grouped_day['count'] = 1\n",
    "incidentes_grouped_day.head()"
   ]
  },
  {
   "cell_type": "code",
   "execution_count": 111,
   "id": "8c754e07",
   "metadata": {
    "scrolled": false
   },
   "outputs": [
    {
     "data": {
      "application/vnd.plotly.v1+json": {
       "config": {
        "plotlyServerURL": "https://plot.ly"
       },
       "data": [
        {
         "branchvalues": "total",
         "domain": {
          "x": [
           0,
           1
          ],
          "y": [
           0,
           1
          ]
         },
         "hovertemplate": "labels=%{label}<br>count=%{value}<br>parent=%{parent}<br>id=%{id}<extra></extra>",
         "ids": [
          "BOTON DE AUXILIO/2017",
          "CAMARA/2017",
          "LLAMADA APP911/2017",
          "LLAMADA DEL 911/2017",
          "RADIO/2017",
          "REDES/2017",
          "ZELLO/2017",
          "BOTON DE AUXILIO/2018",
          "CAMARA/2018",
          "LLAMADA APP911/2018",
          "LLAMADA DEL 911/2018",
          "RADIO/2018",
          "REDES/2018",
          "ZELLO/2018",
          "BOTON DE AUXILIO/2019",
          "CAMARA/2019",
          "LLAMADA APP911/2019",
          "LLAMADA DEL 911/2019",
          "RADIO/2019",
          "REDES/2019",
          "APLICATIVOS/2020",
          "BOTON DE AUXILIO/2020",
          "CAMARA/2020",
          "LLAMADA APP911/2020",
          "LLAMADA DEL 911/2020",
          "RADIO/2020",
          "REDES/2020",
          "APLICATIVOS",
          "BOTON DE AUXILIO",
          "CAMARA",
          "LLAMADA APP911",
          "LLAMADA DEL 911",
          "RADIO",
          "REDES",
          "ZELLO"
         ],
         "labels": [
          "2017",
          "2017",
          "2017",
          "2017",
          "2017",
          "2017",
          "2017",
          "2018",
          "2018",
          "2018",
          "2018",
          "2018",
          "2018",
          "2018",
          "2019",
          "2019",
          "2019",
          "2019",
          "2019",
          "2019",
          "2020",
          "2020",
          "2020",
          "2020",
          "2020",
          "2020",
          "2020",
          "APLICATIVOS",
          "BOTON DE AUXILIO",
          "CAMARA",
          "LLAMADA APP911",
          "LLAMADA DEL 911",
          "RADIO",
          "REDES",
          "ZELLO"
         ],
         "name": "",
         "parents": [
          "BOTON DE AUXILIO",
          "CAMARA",
          "LLAMADA APP911",
          "LLAMADA DEL 911",
          "RADIO",
          "REDES",
          "ZELLO",
          "BOTON DE AUXILIO",
          "CAMARA",
          "LLAMADA APP911",
          "LLAMADA DEL 911",
          "RADIO",
          "REDES",
          "ZELLO",
          "BOTON DE AUXILIO",
          "CAMARA",
          "LLAMADA APP911",
          "LLAMADA DEL 911",
          "RADIO",
          "REDES",
          "APLICATIVOS",
          "BOTON DE AUXILIO",
          "CAMARA",
          "LLAMADA APP911",
          "LLAMADA DEL 911",
          "RADIO",
          "REDES",
          "",
          "",
          "",
          "",
          "",
          "",
          "",
          ""
         ],
         "type": "treemap",
         "values": [
          9773,
          269,
          1228,
          146333,
          5682,
          783,
          1348,
          9635,
          203,
          3474,
          158795,
          4763,
          732,
          3320,
          7686,
          247,
          1699,
          149838,
          6088,
          685,
          146,
          7003,
          265,
          610,
          103699,
          7351,
          626,
          146,
          34097,
          984,
          7011,
          558665,
          23884,
          2826,
          4668
         ]
        }
       ],
       "layout": {
        "legend": {
         "tracegroupgap": 0
        },
        "margin": {
         "t": 60
        },
        "template": {
         "data": {
          "bar": [
           {
            "error_x": {
             "color": "#2a3f5f"
            },
            "error_y": {
             "color": "#2a3f5f"
            },
            "marker": {
             "line": {
              "color": "#E5ECF6",
              "width": 0.5
             },
             "pattern": {
              "fillmode": "overlay",
              "size": 10,
              "solidity": 0.2
             }
            },
            "type": "bar"
           }
          ],
          "barpolar": [
           {
            "marker": {
             "line": {
              "color": "#E5ECF6",
              "width": 0.5
             },
             "pattern": {
              "fillmode": "overlay",
              "size": 10,
              "solidity": 0.2
             }
            },
            "type": "barpolar"
           }
          ],
          "carpet": [
           {
            "aaxis": {
             "endlinecolor": "#2a3f5f",
             "gridcolor": "white",
             "linecolor": "white",
             "minorgridcolor": "white",
             "startlinecolor": "#2a3f5f"
            },
            "baxis": {
             "endlinecolor": "#2a3f5f",
             "gridcolor": "white",
             "linecolor": "white",
             "minorgridcolor": "white",
             "startlinecolor": "#2a3f5f"
            },
            "type": "carpet"
           }
          ],
          "choropleth": [
           {
            "colorbar": {
             "outlinewidth": 0,
             "ticks": ""
            },
            "type": "choropleth"
           }
          ],
          "contour": [
           {
            "colorbar": {
             "outlinewidth": 0,
             "ticks": ""
            },
            "colorscale": [
             [
              0,
              "#0d0887"
             ],
             [
              0.1111111111111111,
              "#46039f"
             ],
             [
              0.2222222222222222,
              "#7201a8"
             ],
             [
              0.3333333333333333,
              "#9c179e"
             ],
             [
              0.4444444444444444,
              "#bd3786"
             ],
             [
              0.5555555555555556,
              "#d8576b"
             ],
             [
              0.6666666666666666,
              "#ed7953"
             ],
             [
              0.7777777777777778,
              "#fb9f3a"
             ],
             [
              0.8888888888888888,
              "#fdca26"
             ],
             [
              1,
              "#f0f921"
             ]
            ],
            "type": "contour"
           }
          ],
          "contourcarpet": [
           {
            "colorbar": {
             "outlinewidth": 0,
             "ticks": ""
            },
            "type": "contourcarpet"
           }
          ],
          "heatmap": [
           {
            "colorbar": {
             "outlinewidth": 0,
             "ticks": ""
            },
            "colorscale": [
             [
              0,
              "#0d0887"
             ],
             [
              0.1111111111111111,
              "#46039f"
             ],
             [
              0.2222222222222222,
              "#7201a8"
             ],
             [
              0.3333333333333333,
              "#9c179e"
             ],
             [
              0.4444444444444444,
              "#bd3786"
             ],
             [
              0.5555555555555556,
              "#d8576b"
             ],
             [
              0.6666666666666666,
              "#ed7953"
             ],
             [
              0.7777777777777778,
              "#fb9f3a"
             ],
             [
              0.8888888888888888,
              "#fdca26"
             ],
             [
              1,
              "#f0f921"
             ]
            ],
            "type": "heatmap"
           }
          ],
          "heatmapgl": [
           {
            "colorbar": {
             "outlinewidth": 0,
             "ticks": ""
            },
            "colorscale": [
             [
              0,
              "#0d0887"
             ],
             [
              0.1111111111111111,
              "#46039f"
             ],
             [
              0.2222222222222222,
              "#7201a8"
             ],
             [
              0.3333333333333333,
              "#9c179e"
             ],
             [
              0.4444444444444444,
              "#bd3786"
             ],
             [
              0.5555555555555556,
              "#d8576b"
             ],
             [
              0.6666666666666666,
              "#ed7953"
             ],
             [
              0.7777777777777778,
              "#fb9f3a"
             ],
             [
              0.8888888888888888,
              "#fdca26"
             ],
             [
              1,
              "#f0f921"
             ]
            ],
            "type": "heatmapgl"
           }
          ],
          "histogram": [
           {
            "marker": {
             "pattern": {
              "fillmode": "overlay",
              "size": 10,
              "solidity": 0.2
             }
            },
            "type": "histogram"
           }
          ],
          "histogram2d": [
           {
            "colorbar": {
             "outlinewidth": 0,
             "ticks": ""
            },
            "colorscale": [
             [
              0,
              "#0d0887"
             ],
             [
              0.1111111111111111,
              "#46039f"
             ],
             [
              0.2222222222222222,
              "#7201a8"
             ],
             [
              0.3333333333333333,
              "#9c179e"
             ],
             [
              0.4444444444444444,
              "#bd3786"
             ],
             [
              0.5555555555555556,
              "#d8576b"
             ],
             [
              0.6666666666666666,
              "#ed7953"
             ],
             [
              0.7777777777777778,
              "#fb9f3a"
             ],
             [
              0.8888888888888888,
              "#fdca26"
             ],
             [
              1,
              "#f0f921"
             ]
            ],
            "type": "histogram2d"
           }
          ],
          "histogram2dcontour": [
           {
            "colorbar": {
             "outlinewidth": 0,
             "ticks": ""
            },
            "colorscale": [
             [
              0,
              "#0d0887"
             ],
             [
              0.1111111111111111,
              "#46039f"
             ],
             [
              0.2222222222222222,
              "#7201a8"
             ],
             [
              0.3333333333333333,
              "#9c179e"
             ],
             [
              0.4444444444444444,
              "#bd3786"
             ],
             [
              0.5555555555555556,
              "#d8576b"
             ],
             [
              0.6666666666666666,
              "#ed7953"
             ],
             [
              0.7777777777777778,
              "#fb9f3a"
             ],
             [
              0.8888888888888888,
              "#fdca26"
             ],
             [
              1,
              "#f0f921"
             ]
            ],
            "type": "histogram2dcontour"
           }
          ],
          "mesh3d": [
           {
            "colorbar": {
             "outlinewidth": 0,
             "ticks": ""
            },
            "type": "mesh3d"
           }
          ],
          "parcoords": [
           {
            "line": {
             "colorbar": {
              "outlinewidth": 0,
              "ticks": ""
             }
            },
            "type": "parcoords"
           }
          ],
          "pie": [
           {
            "automargin": true,
            "type": "pie"
           }
          ],
          "scatter": [
           {
            "marker": {
             "colorbar": {
              "outlinewidth": 0,
              "ticks": ""
             }
            },
            "type": "scatter"
           }
          ],
          "scatter3d": [
           {
            "line": {
             "colorbar": {
              "outlinewidth": 0,
              "ticks": ""
             }
            },
            "marker": {
             "colorbar": {
              "outlinewidth": 0,
              "ticks": ""
             }
            },
            "type": "scatter3d"
           }
          ],
          "scattercarpet": [
           {
            "marker": {
             "colorbar": {
              "outlinewidth": 0,
              "ticks": ""
             }
            },
            "type": "scattercarpet"
           }
          ],
          "scattergeo": [
           {
            "marker": {
             "colorbar": {
              "outlinewidth": 0,
              "ticks": ""
             }
            },
            "type": "scattergeo"
           }
          ],
          "scattergl": [
           {
            "marker": {
             "colorbar": {
              "outlinewidth": 0,
              "ticks": ""
             }
            },
            "type": "scattergl"
           }
          ],
          "scattermapbox": [
           {
            "marker": {
             "colorbar": {
              "outlinewidth": 0,
              "ticks": ""
             }
            },
            "type": "scattermapbox"
           }
          ],
          "scatterpolar": [
           {
            "marker": {
             "colorbar": {
              "outlinewidth": 0,
              "ticks": ""
             }
            },
            "type": "scatterpolar"
           }
          ],
          "scatterpolargl": [
           {
            "marker": {
             "colorbar": {
              "outlinewidth": 0,
              "ticks": ""
             }
            },
            "type": "scatterpolargl"
           }
          ],
          "scatterternary": [
           {
            "marker": {
             "colorbar": {
              "outlinewidth": 0,
              "ticks": ""
             }
            },
            "type": "scatterternary"
           }
          ],
          "surface": [
           {
            "colorbar": {
             "outlinewidth": 0,
             "ticks": ""
            },
            "colorscale": [
             [
              0,
              "#0d0887"
             ],
             [
              0.1111111111111111,
              "#46039f"
             ],
             [
              0.2222222222222222,
              "#7201a8"
             ],
             [
              0.3333333333333333,
              "#9c179e"
             ],
             [
              0.4444444444444444,
              "#bd3786"
             ],
             [
              0.5555555555555556,
              "#d8576b"
             ],
             [
              0.6666666666666666,
              "#ed7953"
             ],
             [
              0.7777777777777778,
              "#fb9f3a"
             ],
             [
              0.8888888888888888,
              "#fdca26"
             ],
             [
              1,
              "#f0f921"
             ]
            ],
            "type": "surface"
           }
          ],
          "table": [
           {
            "cells": {
             "fill": {
              "color": "#EBF0F8"
             },
             "line": {
              "color": "white"
             }
            },
            "header": {
             "fill": {
              "color": "#C8D4E3"
             },
             "line": {
              "color": "white"
             }
            },
            "type": "table"
           }
          ]
         },
         "layout": {
          "annotationdefaults": {
           "arrowcolor": "#2a3f5f",
           "arrowhead": 0,
           "arrowwidth": 1
          },
          "autotypenumbers": "strict",
          "coloraxis": {
           "colorbar": {
            "outlinewidth": 0,
            "ticks": ""
           }
          },
          "colorscale": {
           "diverging": [
            [
             0,
             "#8e0152"
            ],
            [
             0.1,
             "#c51b7d"
            ],
            [
             0.2,
             "#de77ae"
            ],
            [
             0.3,
             "#f1b6da"
            ],
            [
             0.4,
             "#fde0ef"
            ],
            [
             0.5,
             "#f7f7f7"
            ],
            [
             0.6,
             "#e6f5d0"
            ],
            [
             0.7,
             "#b8e186"
            ],
            [
             0.8,
             "#7fbc41"
            ],
            [
             0.9,
             "#4d9221"
            ],
            [
             1,
             "#276419"
            ]
           ],
           "sequential": [
            [
             0,
             "#0d0887"
            ],
            [
             0.1111111111111111,
             "#46039f"
            ],
            [
             0.2222222222222222,
             "#7201a8"
            ],
            [
             0.3333333333333333,
             "#9c179e"
            ],
            [
             0.4444444444444444,
             "#bd3786"
            ],
            [
             0.5555555555555556,
             "#d8576b"
            ],
            [
             0.6666666666666666,
             "#ed7953"
            ],
            [
             0.7777777777777778,
             "#fb9f3a"
            ],
            [
             0.8888888888888888,
             "#fdca26"
            ],
            [
             1,
             "#f0f921"
            ]
           ],
           "sequentialminus": [
            [
             0,
             "#0d0887"
            ],
            [
             0.1111111111111111,
             "#46039f"
            ],
            [
             0.2222222222222222,
             "#7201a8"
            ],
            [
             0.3333333333333333,
             "#9c179e"
            ],
            [
             0.4444444444444444,
             "#bd3786"
            ],
            [
             0.5555555555555556,
             "#d8576b"
            ],
            [
             0.6666666666666666,
             "#ed7953"
            ],
            [
             0.7777777777777778,
             "#fb9f3a"
            ],
            [
             0.8888888888888888,
             "#fdca26"
            ],
            [
             1,
             "#f0f921"
            ]
           ]
          },
          "colorway": [
           "#636efa",
           "#EF553B",
           "#00cc96",
           "#ab63fa",
           "#FFA15A",
           "#19d3f3",
           "#FF6692",
           "#B6E880",
           "#FF97FF",
           "#FECB52"
          ],
          "font": {
           "color": "#2a3f5f"
          },
          "geo": {
           "bgcolor": "white",
           "lakecolor": "white",
           "landcolor": "#E5ECF6",
           "showlakes": true,
           "showland": true,
           "subunitcolor": "white"
          },
          "hoverlabel": {
           "align": "left"
          },
          "hovermode": "closest",
          "mapbox": {
           "style": "light"
          },
          "paper_bgcolor": "white",
          "plot_bgcolor": "#E5ECF6",
          "polar": {
           "angularaxis": {
            "gridcolor": "white",
            "linecolor": "white",
            "ticks": ""
           },
           "bgcolor": "#E5ECF6",
           "radialaxis": {
            "gridcolor": "white",
            "linecolor": "white",
            "ticks": ""
           }
          },
          "scene": {
           "xaxis": {
            "backgroundcolor": "#E5ECF6",
            "gridcolor": "white",
            "gridwidth": 2,
            "linecolor": "white",
            "showbackground": true,
            "ticks": "",
            "zerolinecolor": "white"
           },
           "yaxis": {
            "backgroundcolor": "#E5ECF6",
            "gridcolor": "white",
            "gridwidth": 2,
            "linecolor": "white",
            "showbackground": true,
            "ticks": "",
            "zerolinecolor": "white"
           },
           "zaxis": {
            "backgroundcolor": "#E5ECF6",
            "gridcolor": "white",
            "gridwidth": 2,
            "linecolor": "white",
            "showbackground": true,
            "ticks": "",
            "zerolinecolor": "white"
           }
          },
          "shapedefaults": {
           "line": {
            "color": "#2a3f5f"
           }
          },
          "ternary": {
           "aaxis": {
            "gridcolor": "white",
            "linecolor": "white",
            "ticks": ""
           },
           "baxis": {
            "gridcolor": "white",
            "linecolor": "white",
            "ticks": ""
           },
           "bgcolor": "#E5ECF6",
           "caxis": {
            "gridcolor": "white",
            "linecolor": "white",
            "ticks": ""
           }
          },
          "title": {
           "x": 0.05
          },
          "xaxis": {
           "automargin": true,
           "gridcolor": "white",
           "linecolor": "white",
           "ticks": "",
           "title": {
            "standoff": 15
           },
           "zerolinecolor": "white",
           "zerolinewidth": 2
          },
          "yaxis": {
           "automargin": true,
           "gridcolor": "white",
           "linecolor": "white",
           "ticks": "",
           "title": {
            "standoff": 15
           },
           "zerolinecolor": "white",
           "zerolinewidth": 2
          }
         }
        }
       }
      },
      "text/html": [
       "<div>                            <div id=\"8431c43a-fba3-4480-a85b-2af1041aa602\" class=\"plotly-graph-div\" style=\"height:525px; width:100%;\"></div>            <script type=\"text/javascript\">                require([\"plotly\"], function(Plotly) {                    window.PLOTLYENV=window.PLOTLYENV || {};                                    if (document.getElementById(\"8431c43a-fba3-4480-a85b-2af1041aa602\")) {                    Plotly.newPlot(                        \"8431c43a-fba3-4480-a85b-2af1041aa602\",                        [{\"branchvalues\":\"total\",\"domain\":{\"x\":[0.0,1.0],\"y\":[0.0,1.0]},\"hovertemplate\":\"labels=%{label}<br>count=%{value}<br>parent=%{parent}<br>id=%{id}<extra></extra>\",\"ids\":[\"BOTON DE AUXILIO/2017\",\"CAMARA/2017\",\"LLAMADA APP911/2017\",\"LLAMADA DEL 911/2017\",\"RADIO/2017\",\"REDES/2017\",\"ZELLO/2017\",\"BOTON DE AUXILIO/2018\",\"CAMARA/2018\",\"LLAMADA APP911/2018\",\"LLAMADA DEL 911/2018\",\"RADIO/2018\",\"REDES/2018\",\"ZELLO/2018\",\"BOTON DE AUXILIO/2019\",\"CAMARA/2019\",\"LLAMADA APP911/2019\",\"LLAMADA DEL 911/2019\",\"RADIO/2019\",\"REDES/2019\",\"APLICATIVOS/2020\",\"BOTON DE AUXILIO/2020\",\"CAMARA/2020\",\"LLAMADA APP911/2020\",\"LLAMADA DEL 911/2020\",\"RADIO/2020\",\"REDES/2020\",\"APLICATIVOS\",\"BOTON DE AUXILIO\",\"CAMARA\",\"LLAMADA APP911\",\"LLAMADA DEL 911\",\"RADIO\",\"REDES\",\"ZELLO\"],\"labels\":[\"2017\",\"2017\",\"2017\",\"2017\",\"2017\",\"2017\",\"2017\",\"2018\",\"2018\",\"2018\",\"2018\",\"2018\",\"2018\",\"2018\",\"2019\",\"2019\",\"2019\",\"2019\",\"2019\",\"2019\",\"2020\",\"2020\",\"2020\",\"2020\",\"2020\",\"2020\",\"2020\",\"APLICATIVOS\",\"BOTON DE AUXILIO\",\"CAMARA\",\"LLAMADA APP911\",\"LLAMADA DEL 911\",\"RADIO\",\"REDES\",\"ZELLO\"],\"name\":\"\",\"parents\":[\"BOTON DE AUXILIO\",\"CAMARA\",\"LLAMADA APP911\",\"LLAMADA DEL 911\",\"RADIO\",\"REDES\",\"ZELLO\",\"BOTON DE AUXILIO\",\"CAMARA\",\"LLAMADA APP911\",\"LLAMADA DEL 911\",\"RADIO\",\"REDES\",\"ZELLO\",\"BOTON DE AUXILIO\",\"CAMARA\",\"LLAMADA APP911\",\"LLAMADA DEL 911\",\"RADIO\",\"REDES\",\"APLICATIVOS\",\"BOTON DE AUXILIO\",\"CAMARA\",\"LLAMADA APP911\",\"LLAMADA DEL 911\",\"RADIO\",\"REDES\",\"\",\"\",\"\",\"\",\"\",\"\",\"\",\"\"],\"type\":\"treemap\",\"values\":[9773,269,1228,146333,5682,783,1348,9635,203,3474,158795,4763,732,3320,7686,247,1699,149838,6088,685,146,7003,265,610,103699,7351,626,146,34097,984,7011,558665,23884,2826,4668]}],                        {\"legend\":{\"tracegroupgap\":0},\"margin\":{\"t\":60},\"template\":{\"data\":{\"bar\":[{\"error_x\":{\"color\":\"#2a3f5f\"},\"error_y\":{\"color\":\"#2a3f5f\"},\"marker\":{\"line\":{\"color\":\"#E5ECF6\",\"width\":0.5},\"pattern\":{\"fillmode\":\"overlay\",\"size\":10,\"solidity\":0.2}},\"type\":\"bar\"}],\"barpolar\":[{\"marker\":{\"line\":{\"color\":\"#E5ECF6\",\"width\":0.5},\"pattern\":{\"fillmode\":\"overlay\",\"size\":10,\"solidity\":0.2}},\"type\":\"barpolar\"}],\"carpet\":[{\"aaxis\":{\"endlinecolor\":\"#2a3f5f\",\"gridcolor\":\"white\",\"linecolor\":\"white\",\"minorgridcolor\":\"white\",\"startlinecolor\":\"#2a3f5f\"},\"baxis\":{\"endlinecolor\":\"#2a3f5f\",\"gridcolor\":\"white\",\"linecolor\":\"white\",\"minorgridcolor\":\"white\",\"startlinecolor\":\"#2a3f5f\"},\"type\":\"carpet\"}],\"choropleth\":[{\"colorbar\":{\"outlinewidth\":0,\"ticks\":\"\"},\"type\":\"choropleth\"}],\"contour\":[{\"colorbar\":{\"outlinewidth\":0,\"ticks\":\"\"},\"colorscale\":[[0.0,\"#0d0887\"],[0.1111111111111111,\"#46039f\"],[0.2222222222222222,\"#7201a8\"],[0.3333333333333333,\"#9c179e\"],[0.4444444444444444,\"#bd3786\"],[0.5555555555555556,\"#d8576b\"],[0.6666666666666666,\"#ed7953\"],[0.7777777777777778,\"#fb9f3a\"],[0.8888888888888888,\"#fdca26\"],[1.0,\"#f0f921\"]],\"type\":\"contour\"}],\"contourcarpet\":[{\"colorbar\":{\"outlinewidth\":0,\"ticks\":\"\"},\"type\":\"contourcarpet\"}],\"heatmap\":[{\"colorbar\":{\"outlinewidth\":0,\"ticks\":\"\"},\"colorscale\":[[0.0,\"#0d0887\"],[0.1111111111111111,\"#46039f\"],[0.2222222222222222,\"#7201a8\"],[0.3333333333333333,\"#9c179e\"],[0.4444444444444444,\"#bd3786\"],[0.5555555555555556,\"#d8576b\"],[0.6666666666666666,\"#ed7953\"],[0.7777777777777778,\"#fb9f3a\"],[0.8888888888888888,\"#fdca26\"],[1.0,\"#f0f921\"]],\"type\":\"heatmap\"}],\"heatmapgl\":[{\"colorbar\":{\"outlinewidth\":0,\"ticks\":\"\"},\"colorscale\":[[0.0,\"#0d0887\"],[0.1111111111111111,\"#46039f\"],[0.2222222222222222,\"#7201a8\"],[0.3333333333333333,\"#9c179e\"],[0.4444444444444444,\"#bd3786\"],[0.5555555555555556,\"#d8576b\"],[0.6666666666666666,\"#ed7953\"],[0.7777777777777778,\"#fb9f3a\"],[0.8888888888888888,\"#fdca26\"],[1.0,\"#f0f921\"]],\"type\":\"heatmapgl\"}],\"histogram\":[{\"marker\":{\"pattern\":{\"fillmode\":\"overlay\",\"size\":10,\"solidity\":0.2}},\"type\":\"histogram\"}],\"histogram2d\":[{\"colorbar\":{\"outlinewidth\":0,\"ticks\":\"\"},\"colorscale\":[[0.0,\"#0d0887\"],[0.1111111111111111,\"#46039f\"],[0.2222222222222222,\"#7201a8\"],[0.3333333333333333,\"#9c179e\"],[0.4444444444444444,\"#bd3786\"],[0.5555555555555556,\"#d8576b\"],[0.6666666666666666,\"#ed7953\"],[0.7777777777777778,\"#fb9f3a\"],[0.8888888888888888,\"#fdca26\"],[1.0,\"#f0f921\"]],\"type\":\"histogram2d\"}],\"histogram2dcontour\":[{\"colorbar\":{\"outlinewidth\":0,\"ticks\":\"\"},\"colorscale\":[[0.0,\"#0d0887\"],[0.1111111111111111,\"#46039f\"],[0.2222222222222222,\"#7201a8\"],[0.3333333333333333,\"#9c179e\"],[0.4444444444444444,\"#bd3786\"],[0.5555555555555556,\"#d8576b\"],[0.6666666666666666,\"#ed7953\"],[0.7777777777777778,\"#fb9f3a\"],[0.8888888888888888,\"#fdca26\"],[1.0,\"#f0f921\"]],\"type\":\"histogram2dcontour\"}],\"mesh3d\":[{\"colorbar\":{\"outlinewidth\":0,\"ticks\":\"\"},\"type\":\"mesh3d\"}],\"parcoords\":[{\"line\":{\"colorbar\":{\"outlinewidth\":0,\"ticks\":\"\"}},\"type\":\"parcoords\"}],\"pie\":[{\"automargin\":true,\"type\":\"pie\"}],\"scatter\":[{\"marker\":{\"colorbar\":{\"outlinewidth\":0,\"ticks\":\"\"}},\"type\":\"scatter\"}],\"scatter3d\":[{\"line\":{\"colorbar\":{\"outlinewidth\":0,\"ticks\":\"\"}},\"marker\":{\"colorbar\":{\"outlinewidth\":0,\"ticks\":\"\"}},\"type\":\"scatter3d\"}],\"scattercarpet\":[{\"marker\":{\"colorbar\":{\"outlinewidth\":0,\"ticks\":\"\"}},\"type\":\"scattercarpet\"}],\"scattergeo\":[{\"marker\":{\"colorbar\":{\"outlinewidth\":0,\"ticks\":\"\"}},\"type\":\"scattergeo\"}],\"scattergl\":[{\"marker\":{\"colorbar\":{\"outlinewidth\":0,\"ticks\":\"\"}},\"type\":\"scattergl\"}],\"scattermapbox\":[{\"marker\":{\"colorbar\":{\"outlinewidth\":0,\"ticks\":\"\"}},\"type\":\"scattermapbox\"}],\"scatterpolar\":[{\"marker\":{\"colorbar\":{\"outlinewidth\":0,\"ticks\":\"\"}},\"type\":\"scatterpolar\"}],\"scatterpolargl\":[{\"marker\":{\"colorbar\":{\"outlinewidth\":0,\"ticks\":\"\"}},\"type\":\"scatterpolargl\"}],\"scatterternary\":[{\"marker\":{\"colorbar\":{\"outlinewidth\":0,\"ticks\":\"\"}},\"type\":\"scatterternary\"}],\"surface\":[{\"colorbar\":{\"outlinewidth\":0,\"ticks\":\"\"},\"colorscale\":[[0.0,\"#0d0887\"],[0.1111111111111111,\"#46039f\"],[0.2222222222222222,\"#7201a8\"],[0.3333333333333333,\"#9c179e\"],[0.4444444444444444,\"#bd3786\"],[0.5555555555555556,\"#d8576b\"],[0.6666666666666666,\"#ed7953\"],[0.7777777777777778,\"#fb9f3a\"],[0.8888888888888888,\"#fdca26\"],[1.0,\"#f0f921\"]],\"type\":\"surface\"}],\"table\":[{\"cells\":{\"fill\":{\"color\":\"#EBF0F8\"},\"line\":{\"color\":\"white\"}},\"header\":{\"fill\":{\"color\":\"#C8D4E3\"},\"line\":{\"color\":\"white\"}},\"type\":\"table\"}]},\"layout\":{\"annotationdefaults\":{\"arrowcolor\":\"#2a3f5f\",\"arrowhead\":0,\"arrowwidth\":1},\"autotypenumbers\":\"strict\",\"coloraxis\":{\"colorbar\":{\"outlinewidth\":0,\"ticks\":\"\"}},\"colorscale\":{\"diverging\":[[0,\"#8e0152\"],[0.1,\"#c51b7d\"],[0.2,\"#de77ae\"],[0.3,\"#f1b6da\"],[0.4,\"#fde0ef\"],[0.5,\"#f7f7f7\"],[0.6,\"#e6f5d0\"],[0.7,\"#b8e186\"],[0.8,\"#7fbc41\"],[0.9,\"#4d9221\"],[1,\"#276419\"]],\"sequential\":[[0.0,\"#0d0887\"],[0.1111111111111111,\"#46039f\"],[0.2222222222222222,\"#7201a8\"],[0.3333333333333333,\"#9c179e\"],[0.4444444444444444,\"#bd3786\"],[0.5555555555555556,\"#d8576b\"],[0.6666666666666666,\"#ed7953\"],[0.7777777777777778,\"#fb9f3a\"],[0.8888888888888888,\"#fdca26\"],[1.0,\"#f0f921\"]],\"sequentialminus\":[[0.0,\"#0d0887\"],[0.1111111111111111,\"#46039f\"],[0.2222222222222222,\"#7201a8\"],[0.3333333333333333,\"#9c179e\"],[0.4444444444444444,\"#bd3786\"],[0.5555555555555556,\"#d8576b\"],[0.6666666666666666,\"#ed7953\"],[0.7777777777777778,\"#fb9f3a\"],[0.8888888888888888,\"#fdca26\"],[1.0,\"#f0f921\"]]},\"colorway\":[\"#636efa\",\"#EF553B\",\"#00cc96\",\"#ab63fa\",\"#FFA15A\",\"#19d3f3\",\"#FF6692\",\"#B6E880\",\"#FF97FF\",\"#FECB52\"],\"font\":{\"color\":\"#2a3f5f\"},\"geo\":{\"bgcolor\":\"white\",\"lakecolor\":\"white\",\"landcolor\":\"#E5ECF6\",\"showlakes\":true,\"showland\":true,\"subunitcolor\":\"white\"},\"hoverlabel\":{\"align\":\"left\"},\"hovermode\":\"closest\",\"mapbox\":{\"style\":\"light\"},\"paper_bgcolor\":\"white\",\"plot_bgcolor\":\"#E5ECF6\",\"polar\":{\"angularaxis\":{\"gridcolor\":\"white\",\"linecolor\":\"white\",\"ticks\":\"\"},\"bgcolor\":\"#E5ECF6\",\"radialaxis\":{\"gridcolor\":\"white\",\"linecolor\":\"white\",\"ticks\":\"\"}},\"scene\":{\"xaxis\":{\"backgroundcolor\":\"#E5ECF6\",\"gridcolor\":\"white\",\"gridwidth\":2,\"linecolor\":\"white\",\"showbackground\":true,\"ticks\":\"\",\"zerolinecolor\":\"white\"},\"yaxis\":{\"backgroundcolor\":\"#E5ECF6\",\"gridcolor\":\"white\",\"gridwidth\":2,\"linecolor\":\"white\",\"showbackground\":true,\"ticks\":\"\",\"zerolinecolor\":\"white\"},\"zaxis\":{\"backgroundcolor\":\"#E5ECF6\",\"gridcolor\":\"white\",\"gridwidth\":2,\"linecolor\":\"white\",\"showbackground\":true,\"ticks\":\"\",\"zerolinecolor\":\"white\"}},\"shapedefaults\":{\"line\":{\"color\":\"#2a3f5f\"}},\"ternary\":{\"aaxis\":{\"gridcolor\":\"white\",\"linecolor\":\"white\",\"ticks\":\"\"},\"baxis\":{\"gridcolor\":\"white\",\"linecolor\":\"white\",\"ticks\":\"\"},\"bgcolor\":\"#E5ECF6\",\"caxis\":{\"gridcolor\":\"white\",\"linecolor\":\"white\",\"ticks\":\"\"}},\"title\":{\"x\":0.05},\"xaxis\":{\"automargin\":true,\"gridcolor\":\"white\",\"linecolor\":\"white\",\"ticks\":\"\",\"title\":{\"standoff\":15},\"zerolinecolor\":\"white\",\"zerolinewidth\":2},\"yaxis\":{\"automargin\":true,\"gridcolor\":\"white\",\"linecolor\":\"white\",\"ticks\":\"\",\"title\":{\"standoff\":15},\"zerolinecolor\":\"white\",\"zerolinewidth\":2}}}},                        {\"responsive\": true}                    ).then(function(){\n",
       "                            \n",
       "var gd = document.getElementById('8431c43a-fba3-4480-a85b-2af1041aa602');\n",
       "var x = new MutationObserver(function (mutations, observer) {{\n",
       "        var display = window.getComputedStyle(gd).display;\n",
       "        if (!display || display === 'none') {{\n",
       "            console.log([gd, 'removed!']);\n",
       "            Plotly.purge(gd);\n",
       "            observer.disconnect();\n",
       "        }}\n",
       "}});\n",
       "\n",
       "// Listen for the removal of the full notebook cells\n",
       "var notebookContainer = gd.closest('#notebook-container');\n",
       "if (notebookContainer) {{\n",
       "    x.observe(notebookContainer, {childList: true});\n",
       "}}\n",
       "\n",
       "// Listen for the clearing of the current output cell\n",
       "var outputEl = gd.closest('.output');\n",
       "if (outputEl) {{\n",
       "    x.observe(outputEl, {childList: true});\n",
       "}}\n",
       "\n",
       "                        })                };                });            </script>        </div>"
      ]
     },
     "metadata": {},
     "output_type": "display_data"
    }
   ],
   "source": [
    "fig_treem = px.treemap(incidentes_grouped_day, path=['medio_de_aviso', 'año_creacion'], values='count')\n",
    "fig_treem.show()"
   ]
  },
  {
   "cell_type": "code",
   "execution_count": null,
   "id": "7bf2efcd",
   "metadata": {},
   "outputs": [],
   "source": [
    "incidentes_grouped_year = incidentes_viales_cdmx.groupby('folio')[['año_creacion', 'V_F']].max()\n",
    "incidentes_grouped_year.tail()"
   ]
  },
  {
   "cell_type": "code",
   "execution_count": null,
   "id": "6a3a015a",
   "metadata": {},
   "outputs": [],
   "source": [
    "incidentes_grouped_year['count'] = 1\n",
    "incidentes_grouped_year.head()"
   ]
  },
  {
   "cell_type": "code",
   "execution_count": null,
   "id": "ce53eb28",
   "metadata": {},
   "outputs": [],
   "source": [
    "fig_2 = px.treemap(incidentes_grouped_year, path=['año_creacion', 'V_F'], values='count')\n",
    "fig_2.show()"
   ]
  },
  {
   "cell_type": "code",
   "execution_count": null,
   "id": "f0a09d75",
   "metadata": {},
   "outputs": [],
   "source": [
    "incidentes_grouped_d = incidentes_viales_cdmx.groupby('folio')[['año_creacion', 'dia_semana']].max()\n",
    "incidentes_grouped_d.tail()"
   ]
  },
  {
   "cell_type": "code",
   "execution_count": null,
   "id": "320d0562",
   "metadata": {},
   "outputs": [],
   "source": [
    "incidentes_grouped_d['count'] = 1\n",
    "incidentes_grouped_d.head()"
   ]
  },
  {
   "cell_type": "code",
   "execution_count": null,
   "id": "6b078be4",
   "metadata": {},
   "outputs": [],
   "source": [
    "fig_4 = px.treemap(incidentes_grouped_d, path=['dia_semana', 'año_creacion'], values='count')\n",
    "fig_4.show()"
   ]
  },
  {
   "cell_type": "code",
   "execution_count": null,
   "id": "b1ef640a",
   "metadata": {},
   "outputs": [],
   "source": [
    "fig_5 = px.treemap(incidentes_grouped_d, path=['año_creacion', 'dia_semana'], values='count', color = 'dia_semana')\n",
    "fig_5.show()"
   ]
  },
  {
   "cell_type": "code",
   "execution_count": 49,
   "id": "4c32eca5",
   "metadata": {},
   "outputs": [
    {
     "data": {
      "text/plain": [
       "Index(['folio', 'fecha_creacion', 'año_creacion', 'hora_creacion',\n",
       "       'dia_semana', 'fecha_cierre', 'hora_cierre', 'tipo_de_incidente',\n",
       "       'delegacion_inicio', 'latitud', 'longitud', 'año_cierre',\n",
       "       'clasificacion_incidente', 'medio_de_aviso', 'delegacion_cierre',\n",
       "       'mes_cierre', 'numero_incidente', 'V_F'],\n",
       "      dtype='object')"
      ]
     },
     "execution_count": 49,
     "metadata": {},
     "output_type": "execute_result"
    }
   ],
   "source": [
    "incidentes_viales_cdmx.columns"
   ]
  },
  {
   "cell_type": "markdown",
   "id": "0d351006",
   "metadata": {},
   "source": [
    "# Gráfica de barras apiladas"
   ]
  },
  {
   "cell_type": "markdown",
   "id": "775cf838",
   "metadata": {},
   "source": [
    "IZTAPALAPA             104879\n",
    "GUSTAVO A. MADERO       64774\n",
    "CUAUHTEMOC              62457\n",
    "MIGUEL HIDALGO          50117\n",
    "COYOACAN                49431"
   ]
  },
  {
   "cell_type": "code",
   "execution_count": 50,
   "id": "d6055cb2",
   "metadata": {},
   "outputs": [],
   "source": [
    "incidentes_viales_cdmx_grouped_1 = incidentes_viales_cdmx.groupby('folio')[['año_creacion','delegacion_inicio']].max()"
   ]
  },
  {
   "cell_type": "code",
   "execution_count": 51,
   "id": "f4118e99",
   "metadata": {},
   "outputs": [],
   "source": [
    "incidentes_viales_cdmx_mayores = incidentes_viales_cdmx_grouped_1[incidentes_viales_cdmx_grouped_1['delegacion_inicio'].isin(['IZTAPALAPA','GUSTAVO A. MADERO', 'CUAUHTEMOC', 'MIGUEL HIDALGO', 'COYOACAN'])]"
   ]
  },
  {
   "cell_type": "code",
   "execution_count": 52,
   "id": "dc0bf21b",
   "metadata": {},
   "outputs": [
    {
     "data": {
      "text/plain": [
       "IZTAPALAPA           104879\n",
       "GUSTAVO A. MADERO     64774\n",
       "CUAUHTEMOC            62457\n",
       "MIGUEL HIDALGO        50117\n",
       "COYOACAN              49431\n",
       "Name: delegacion_inicio, dtype: int64"
      ]
     },
     "execution_count": 52,
     "metadata": {},
     "output_type": "execute_result"
    }
   ],
   "source": [
    "value_counts_all = incidentes_viales_cdmx_mayores['delegacion_inicio'].value_counts()\n",
    "value_counts_all"
   ]
  },
  {
   "cell_type": "code",
   "execution_count": 53,
   "id": "892fdbfe",
   "metadata": {},
   "outputs": [
    {
     "data": {
      "image/png": "[encoded data removed]",
      "text/plain": [
       "<Figure size 432x288 with 1 Axes>"
      ]
     },
     "metadata": {
      "needs_background": "light"
     },
     "output_type": "display_data"
    }
   ],
   "source": [
    "fig = plt.figure()\n",
    "ax = fig.add_subplot()\n",
    "\n",
    "sns.barplot(x= value_counts_all.index, y= value_counts_all, ax=ax, palette='pastel');\n",
    "\n",
    "ax.set_ylabel('count')\n",
    "ax.set_title('Delegaciones con más incidencias', fontsize=13, pad=10);\n",
    "ax.set_xticklabels(ax.get_xticklabels(), rotation=60);"
   ]
  },
  {
   "cell_type": "code",
   "execution_count": 54,
   "id": "bf052bdd",
   "metadata": {},
   "outputs": [
    {
     "data": {
      "text/html": [
       "<div>\n",
       "<style scoped>\n",
       "    .dataframe tbody tr th:only-of-type {\n",
       "        vertical-align: middle;\n",
       "    }\n",
       "\n",
       "    .dataframe tbody tr th {\n",
       "        vertical-align: top;\n",
       "    }\n",
       "\n",
       "    .dataframe thead th {\n",
       "        text-align: right;\n",
       "    }\n",
       "</style>\n",
       "<table border=\"1\" class=\"dataframe\">\n",
       "  <thead>\n",
       "    <tr style=\"text-align: right;\">\n",
       "      <th></th>\n",
       "      <th>año_creacion</th>\n",
       "      <th>delegacion_inicio</th>\n",
       "      <th>count</th>\n",
       "    </tr>\n",
       "    <tr>\n",
       "      <th>folio</th>\n",
       "      <th></th>\n",
       "      <th></th>\n",
       "      <th></th>\n",
       "    </tr>\n",
       "  </thead>\n",
       "  <tbody>\n",
       "    <tr>\n",
       "      <th>AO/170101/00965</th>\n",
       "      <td>2017</td>\n",
       "      <td>MIGUEL HIDALGO</td>\n",
       "      <td>1</td>\n",
       "    </tr>\n",
       "    <tr>\n",
       "      <th>AO/170101/01450</th>\n",
       "      <td>2017</td>\n",
       "      <td>MAGDALENA CONTRERAS</td>\n",
       "      <td>1</td>\n",
       "    </tr>\n",
       "    <tr>\n",
       "      <th>AO/170101/02807</th>\n",
       "      <td>2017</td>\n",
       "      <td>CUAJIMALPA</td>\n",
       "      <td>1</td>\n",
       "    </tr>\n",
       "    <tr>\n",
       "      <th>AO/170102/02076</th>\n",
       "      <td>2017</td>\n",
       "      <td>ALVARO OBREGON</td>\n",
       "      <td>1</td>\n",
       "    </tr>\n",
       "    <tr>\n",
       "      <th>AO/170102/02428</th>\n",
       "      <td>2017</td>\n",
       "      <td>ALVARO OBREGON</td>\n",
       "      <td>1</td>\n",
       "    </tr>\n",
       "  </tbody>\n",
       "</table>\n",
       "</div>"
      ],
      "text/plain": [
       "                 año_creacion    delegacion_inicio  count\n",
       "folio                                                    \n",
       "AO/170101/00965          2017       MIGUEL HIDALGO      1\n",
       "AO/170101/01450          2017  MAGDALENA CONTRERAS      1\n",
       "AO/170101/02807          2017           CUAJIMALPA      1\n",
       "AO/170102/02076          2017       ALVARO OBREGON      1\n",
       "AO/170102/02428          2017       ALVARO OBREGON      1"
      ]
     },
     "execution_count": 54,
     "metadata": {},
     "output_type": "execute_result"
    }
   ],
   "source": [
    "incidentes_viales_cdmx_grouped_1['count'] = 1\n",
    "incidentes_viales_cdmx_grouped_1.head()"
   ]
  },
  {
   "cell_type": "code",
   "execution_count": 55,
   "id": "2eb96f71",
   "metadata": {},
   "outputs": [],
   "source": [
    "incidentes_mayores_count = incidentes_viales_cdmx_grouped_1[incidentes_viales_cdmx_grouped_1['delegacion_inicio'].isin(['IZTAPALAPA','GUSTAVO A. MADERO', 'CUAUHTEMOC', 'MIGUEL HIDALGO', 'COYOACAN'])]"
   ]
  },
  {
   "cell_type": "code",
   "execution_count": 56,
   "id": "76c09f24",
   "metadata": {},
   "outputs": [
    {
     "data": {
      "text/plain": [
       "delegacion_inicio  año_creacion\n",
       "COYOACAN           2017            13124\n",
       "                   2018            14517\n",
       "                   2019            13270\n",
       "                   2020             8520\n",
       "CUAUHTEMOC         2017            16256\n",
       "                   2018            18108\n",
       "                   2019            16436\n",
       "                   2020            11657\n",
       "GUSTAVO A. MADERO  2017            17671\n",
       "                   2018            18686\n",
       "                   2019            16406\n",
       "                   2020            12011\n",
       "IZTAPALAPA         2017            27366\n",
       "                   2018            29409\n",
       "                   2019            26981\n",
       "                   2020            21123\n",
       "MIGUEL HIDALGO     2017            14084\n",
       "                   2018            15172\n",
       "                   2019            13213\n",
       "                   2020             7648\n",
       "Name: count, dtype: int64"
      ]
     },
     "execution_count": 56,
     "metadata": {},
     "output_type": "execute_result"
    }
   ],
   "source": [
    "value_counts = incidentes_mayores_count.groupby(['delegacion_inicio','año_creacion'])['count'].sum()\n",
    "value_counts"
   ]
  },
  {
   "cell_type": "code",
   "execution_count": 57,
   "id": "820ea875",
   "metadata": {},
   "outputs": [
    {
     "data": {
      "text/html": [
       "<div>\n",
       "<style scoped>\n",
       "    .dataframe tbody tr th:only-of-type {\n",
       "        vertical-align: middle;\n",
       "    }\n",
       "\n",
       "    .dataframe tbody tr th {\n",
       "        vertical-align: top;\n",
       "    }\n",
       "\n",
       "    .dataframe thead th {\n",
       "        text-align: right;\n",
       "    }\n",
       "</style>\n",
       "<table border=\"1\" class=\"dataframe\">\n",
       "  <thead>\n",
       "    <tr style=\"text-align: right;\">\n",
       "      <th>año_creacion</th>\n",
       "      <th>2017</th>\n",
       "      <th>2018</th>\n",
       "      <th>2019</th>\n",
       "      <th>2020</th>\n",
       "    </tr>\n",
       "    <tr>\n",
       "      <th>delegacion_inicio</th>\n",
       "      <th></th>\n",
       "      <th></th>\n",
       "      <th></th>\n",
       "      <th></th>\n",
       "    </tr>\n",
       "  </thead>\n",
       "  <tbody>\n",
       "    <tr>\n",
       "      <th>COYOACAN</th>\n",
       "      <td>13124</td>\n",
       "      <td>14517</td>\n",
       "      <td>13270</td>\n",
       "      <td>8520</td>\n",
       "    </tr>\n",
       "    <tr>\n",
       "      <th>CUAUHTEMOC</th>\n",
       "      <td>16256</td>\n",
       "      <td>18108</td>\n",
       "      <td>16436</td>\n",
       "      <td>11657</td>\n",
       "    </tr>\n",
       "    <tr>\n",
       "      <th>GUSTAVO A. MADERO</th>\n",
       "      <td>17671</td>\n",
       "      <td>18686</td>\n",
       "      <td>16406</td>\n",
       "      <td>12011</td>\n",
       "    </tr>\n",
       "    <tr>\n",
       "      <th>IZTAPALAPA</th>\n",
       "      <td>27366</td>\n",
       "      <td>29409</td>\n",
       "      <td>26981</td>\n",
       "      <td>21123</td>\n",
       "    </tr>\n",
       "    <tr>\n",
       "      <th>MIGUEL HIDALGO</th>\n",
       "      <td>14084</td>\n",
       "      <td>15172</td>\n",
       "      <td>13213</td>\n",
       "      <td>7648</td>\n",
       "    </tr>\n",
       "  </tbody>\n",
       "</table>\n",
       "</div>"
      ],
      "text/plain": [
       "año_creacion        2017   2018   2019   2020\n",
       "delegacion_inicio                            \n",
       "COYOACAN           13124  14517  13270   8520\n",
       "CUAUHTEMOC         16256  18108  16436  11657\n",
       "GUSTAVO A. MADERO  17671  18686  16406  12011\n",
       "IZTAPALAPA         27366  29409  26981  21123\n",
       "MIGUEL HIDALGO     14084  15172  13213   7648"
      ]
     },
     "execution_count": 57,
     "metadata": {},
     "output_type": "execute_result"
    }
   ],
   "source": [
    "value_counts = value_counts.unstack(1)\n",
    "\n",
    "value_counts"
   ]
  },
  {
   "cell_type": "code",
   "execution_count": 58,
   "id": "b11a0b08",
   "metadata": {},
   "outputs": [
    {
     "data": {
      "text/html": [
       "<div>\n",
       "<style scoped>\n",
       "    .dataframe tbody tr th:only-of-type {\n",
       "        vertical-align: middle;\n",
       "    }\n",
       "\n",
       "    .dataframe tbody tr th {\n",
       "        vertical-align: top;\n",
       "    }\n",
       "\n",
       "    .dataframe thead th {\n",
       "        text-align: right;\n",
       "    }\n",
       "</style>\n",
       "<table border=\"1\" class=\"dataframe\">\n",
       "  <thead>\n",
       "    <tr style=\"text-align: right;\">\n",
       "      <th>año_creacion</th>\n",
       "      <th>2017</th>\n",
       "      <th>2018</th>\n",
       "      <th>2019</th>\n",
       "      <th>2020</th>\n",
       "    </tr>\n",
       "    <tr>\n",
       "      <th>delegacion_inicio</th>\n",
       "      <th></th>\n",
       "      <th></th>\n",
       "      <th></th>\n",
       "      <th></th>\n",
       "    </tr>\n",
       "  </thead>\n",
       "  <tbody>\n",
       "    <tr>\n",
       "      <th>COYOACAN</th>\n",
       "      <td>13124</td>\n",
       "      <td>14517</td>\n",
       "      <td>13270</td>\n",
       "      <td>8520</td>\n",
       "    </tr>\n",
       "    <tr>\n",
       "      <th>CUAUHTEMOC</th>\n",
       "      <td>16256</td>\n",
       "      <td>18108</td>\n",
       "      <td>16436</td>\n",
       "      <td>11657</td>\n",
       "    </tr>\n",
       "    <tr>\n",
       "      <th>GUSTAVO A. MADERO</th>\n",
       "      <td>17671</td>\n",
       "      <td>18686</td>\n",
       "      <td>16406</td>\n",
       "      <td>12011</td>\n",
       "    </tr>\n",
       "    <tr>\n",
       "      <th>IZTAPALAPA</th>\n",
       "      <td>27366</td>\n",
       "      <td>29409</td>\n",
       "      <td>26981</td>\n",
       "      <td>21123</td>\n",
       "    </tr>\n",
       "    <tr>\n",
       "      <th>MIGUEL HIDALGO</th>\n",
       "      <td>14084</td>\n",
       "      <td>15172</td>\n",
       "      <td>13213</td>\n",
       "      <td>7648</td>\n",
       "    </tr>\n",
       "  </tbody>\n",
       "</table>\n",
       "</div>"
      ],
      "text/plain": [
       "año_creacion        2017   2018   2019   2020\n",
       "delegacion_inicio                            \n",
       "COYOACAN           13124  14517  13270   8520\n",
       "CUAUHTEMOC         16256  18108  16436  11657\n",
       "GUSTAVO A. MADERO  17671  18686  16406  12011\n",
       "IZTAPALAPA         27366  29409  26981  21123\n",
       "MIGUEL HIDALGO     14084  15172  13213   7648"
      ]
     },
     "execution_count": 58,
     "metadata": {},
     "output_type": "execute_result"
    }
   ],
   "source": [
    "value_counts = value_counts.fillna(0)\n",
    "value_counts"
   ]
  },
  {
   "cell_type": "code",
   "execution_count": 59,
   "id": "6a6e781e",
   "metadata": {},
   "outputs": [
    {
     "data": {
      "text/html": [
       "<div>\n",
       "<style scoped>\n",
       "    .dataframe tbody tr th:only-of-type {\n",
       "        vertical-align: middle;\n",
       "    }\n",
       "\n",
       "    .dataframe tbody tr th {\n",
       "        vertical-align: top;\n",
       "    }\n",
       "\n",
       "    .dataframe thead th {\n",
       "        text-align: right;\n",
       "    }\n",
       "</style>\n",
       "<table border=\"1\" class=\"dataframe\">\n",
       "  <thead>\n",
       "    <tr style=\"text-align: right;\">\n",
       "      <th>año_creacion</th>\n",
       "      <th>2019</th>\n",
       "      <th>2020</th>\n",
       "    </tr>\n",
       "    <tr>\n",
       "      <th>delegacion_inicio</th>\n",
       "      <th></th>\n",
       "      <th></th>\n",
       "    </tr>\n",
       "  </thead>\n",
       "  <tbody>\n",
       "    <tr>\n",
       "      <th>COYOACAN</th>\n",
       "      <td>13270</td>\n",
       "      <td>8520</td>\n",
       "    </tr>\n",
       "    <tr>\n",
       "      <th>CUAUHTEMOC</th>\n",
       "      <td>16436</td>\n",
       "      <td>11657</td>\n",
       "    </tr>\n",
       "    <tr>\n",
       "      <th>GUSTAVO A. MADERO</th>\n",
       "      <td>16406</td>\n",
       "      <td>12011</td>\n",
       "    </tr>\n",
       "    <tr>\n",
       "      <th>IZTAPALAPA</th>\n",
       "      <td>26981</td>\n",
       "      <td>21123</td>\n",
       "    </tr>\n",
       "    <tr>\n",
       "      <th>MIGUEL HIDALGO</th>\n",
       "      <td>13213</td>\n",
       "      <td>7648</td>\n",
       "    </tr>\n",
       "  </tbody>\n",
       "</table>\n",
       "</div>"
      ],
      "text/plain": [
       "año_creacion        2019   2020\n",
       "delegacion_inicio              \n",
       "COYOACAN           13270   8520\n",
       "CUAUHTEMOC         16436  11657\n",
       "GUSTAVO A. MADERO  16406  12011\n",
       "IZTAPALAPA         26981  21123\n",
       "MIGUEL HIDALGO     13213   7648"
      ]
     },
     "execution_count": 59,
     "metadata": {},
     "output_type": "execute_result"
    }
   ],
   "source": [
    "value_counts_1 = value_counts.drop(columns=[2017,2018])\n",
    "value_counts_1"
   ]
  },
  {
   "cell_type": "code",
   "execution_count": 60,
   "id": "9534176d",
   "metadata": {},
   "outputs": [
    {
     "data": {
      "text/plain": [
       "Text(0.5, 1.0, 'Incidencias durante 4 años en las alcaldías con más registros')"
      ]
     },
     "execution_count": 60,
     "metadata": {},
     "output_type": "execute_result"
    },
    {
     "data": {
      "image/png": "[encoded data removed]",
      "text/plain": [
       "<Figure size 504x432 with 1 Axes>"
      ]
     },
     "metadata": {
      "needs_background": "light"
     },
     "output_type": "display_data"
    }
   ],
   "source": [
    "colores_barras_1 = ['#524582','#367BC3','#38BFA7', '#8FE1A2']\n",
    "\n",
    "ax_3 = value_counts.plot(kind=\"bar\", stacked = 'True', width = 0.9, color = colores_barras_1)\n",
    "\n",
    "fig_3 = ax_3.get_figure()\n",
    "\n",
    "fig_3.set_size_inches(7, 6)\n",
    "\n",
    "ax_3.set_xlabel(\"Alcaldías\")\n",
    "ax_3.set_ylabel(\"Cantidad\")\n",
    "ax_3.set_title(\"Incidencias durante 4 años en las alcaldías con más registros\")\n"
   ]
  },
  {
   "cell_type": "code",
   "execution_count": 61,
   "id": "1b62bb87",
   "metadata": {},
   "outputs": [
    {
     "data": {
      "text/plain": [
       "[Text(0, 0, 'COYOACAN'),\n",
       " Text(1, 0, 'CUAUHTEMOC'),\n",
       " Text(2, 0, 'GUSTAVO A. MADERO'),\n",
       " Text(3, 0, 'IZTAPALAPA'),\n",
       " Text(4, 0, 'MIGUEL HIDALGO')]"
      ]
     },
     "execution_count": 61,
     "metadata": {},
     "output_type": "execute_result"
    },
    {
     "data": {
      "image/png": "[encoded data removed]",
      "text/plain": [
       "<Figure size 504x432 with 1 Axes>"
      ]
     },
     "metadata": {
      "needs_background": "light"
     },
     "output_type": "display_data"
    }
   ],
   "source": [
    "colores_barras = ['#524582','#367BC3','#38BFA7', '#8FE1A2']\n",
    "\n",
    "ax_4 = value_counts.plot(kind=\"bar\", color = colores_barras)\n",
    "\n",
    "fig_4 = ax_4.get_figure()\n",
    "\n",
    "fig_4.set_size_inches(7, 6)\n",
    "\n",
    "ax_4.set_xlabel(\"Alcaldías\")\n",
    "ax_4.set_ylabel(\"Cantidad\")\n",
    "ax_4.set_title(\"Incidencias durante 4 años en las alcaldías con más registros\")\n",
    "ax_4.set_xticklabels(ax_4.get_xticklabels(), rotation=60)"
   ]
  },
  {
   "cell_type": "code",
   "execution_count": 62,
   "id": "81e64c9c",
   "metadata": {},
   "outputs": [
    {
     "data": {
      "text/html": [
       "<div>\n",
       "<style scoped>\n",
       "    .dataframe tbody tr th:only-of-type {\n",
       "        vertical-align: middle;\n",
       "    }\n",
       "\n",
       "    .dataframe tbody tr th {\n",
       "        vertical-align: top;\n",
       "    }\n",
       "\n",
       "    .dataframe thead th {\n",
       "        text-align: right;\n",
       "    }\n",
       "</style>\n",
       "<table border=\"1\" class=\"dataframe\">\n",
       "  <thead>\n",
       "    <tr style=\"text-align: right;\">\n",
       "      <th>año_creacion</th>\n",
       "      <th>2017</th>\n",
       "      <th>2018</th>\n",
       "      <th>2019</th>\n",
       "      <th>2020</th>\n",
       "    </tr>\n",
       "    <tr>\n",
       "      <th>delegacion_inicio</th>\n",
       "      <th></th>\n",
       "      <th></th>\n",
       "      <th></th>\n",
       "      <th></th>\n",
       "    </tr>\n",
       "  </thead>\n",
       "  <tbody>\n",
       "    <tr>\n",
       "      <th>COYOACAN</th>\n",
       "      <td>13124</td>\n",
       "      <td>14517</td>\n",
       "      <td>13270</td>\n",
       "      <td>8520</td>\n",
       "    </tr>\n",
       "    <tr>\n",
       "      <th>CUAUHTEMOC</th>\n",
       "      <td>16256</td>\n",
       "      <td>18108</td>\n",
       "      <td>16436</td>\n",
       "      <td>11657</td>\n",
       "    </tr>\n",
       "    <tr>\n",
       "      <th>GUSTAVO A. MADERO</th>\n",
       "      <td>17671</td>\n",
       "      <td>18686</td>\n",
       "      <td>16406</td>\n",
       "      <td>12011</td>\n",
       "    </tr>\n",
       "    <tr>\n",
       "      <th>IZTAPALAPA</th>\n",
       "      <td>27366</td>\n",
       "      <td>29409</td>\n",
       "      <td>26981</td>\n",
       "      <td>21123</td>\n",
       "    </tr>\n",
       "    <tr>\n",
       "      <th>MIGUEL HIDALGO</th>\n",
       "      <td>14084</td>\n",
       "      <td>15172</td>\n",
       "      <td>13213</td>\n",
       "      <td>7648</td>\n",
       "    </tr>\n",
       "  </tbody>\n",
       "</table>\n",
       "</div>"
      ],
      "text/plain": [
       "año_creacion        2017   2018   2019   2020\n",
       "delegacion_inicio                            \n",
       "COYOACAN           13124  14517  13270   8520\n",
       "CUAUHTEMOC         16256  18108  16436  11657\n",
       "GUSTAVO A. MADERO  17671  18686  16406  12011\n",
       "IZTAPALAPA         27366  29409  26981  21123\n",
       "MIGUEL HIDALGO     14084  15172  13213   7648"
      ]
     },
     "execution_count": 62,
     "metadata": {},
     "output_type": "execute_result"
    }
   ],
   "source": [
    "value_counts"
   ]
  },
  {
   "cell_type": "markdown",
   "id": "b0726a35",
   "metadata": {},
   "source": [
    "# K Medias"
   ]
  },
  {
   "cell_type": "code",
   "execution_count": 63,
   "id": "798e7653",
   "metadata": {},
   "outputs": [
    {
     "data": {
      "text/html": [
       "<div>\n",
       "<style scoped>\n",
       "    .dataframe tbody tr th:only-of-type {\n",
       "        vertical-align: middle;\n",
       "    }\n",
       "\n",
       "    .dataframe tbody tr th {\n",
       "        vertical-align: top;\n",
       "    }\n",
       "\n",
       "    .dataframe thead th {\n",
       "        text-align: right;\n",
       "    }\n",
       "</style>\n",
       "<table border=\"1\" class=\"dataframe\">\n",
       "  <thead>\n",
       "    <tr style=\"text-align: right;\">\n",
       "      <th></th>\n",
       "      <th>folio</th>\n",
       "      <th>latitud</th>\n",
       "      <th>longitud</th>\n",
       "      <th>V_F</th>\n",
       "    </tr>\n",
       "  </thead>\n",
       "  <tbody>\n",
       "    <tr>\n",
       "      <th>0</th>\n",
       "      <td>C5/170101/05814</td>\n",
       "      <td>19.363280</td>\n",
       "      <td>-99.109710</td>\n",
       "      <td>V</td>\n",
       "    </tr>\n",
       "    <tr>\n",
       "      <th>1</th>\n",
       "      <td>C5/170101/01806</td>\n",
       "      <td>19.454420</td>\n",
       "      <td>-99.114900</td>\n",
       "      <td>V</td>\n",
       "    </tr>\n",
       "    <tr>\n",
       "      <th>2</th>\n",
       "      <td>AO/170101/02807</td>\n",
       "      <td>19.349600</td>\n",
       "      <td>-99.304640</td>\n",
       "      <td>V</td>\n",
       "    </tr>\n",
       "    <tr>\n",
       "      <th>3</th>\n",
       "      <td>C5/170101/06904</td>\n",
       "      <td>19.453170</td>\n",
       "      <td>-99.096580</td>\n",
       "      <td>V</td>\n",
       "    </tr>\n",
       "    <tr>\n",
       "      <th>4</th>\n",
       "      <td>C5/170101/02347</td>\n",
       "      <td>19.422230</td>\n",
       "      <td>-99.094810</td>\n",
       "      <td>V</td>\n",
       "    </tr>\n",
       "    <tr>\n",
       "      <th>...</th>\n",
       "      <td>...</td>\n",
       "      <td>...</td>\n",
       "      <td>...</td>\n",
       "      <td>...</td>\n",
       "    </tr>\n",
       "    <tr>\n",
       "      <th>632276</th>\n",
       "      <td>C5/201231/08132</td>\n",
       "      <td>19.302180</td>\n",
       "      <td>-99.147020</td>\n",
       "      <td>V</td>\n",
       "    </tr>\n",
       "    <tr>\n",
       "      <th>632277</th>\n",
       "      <td>AO/201231/07706</td>\n",
       "      <td>19.412716</td>\n",
       "      <td>-99.189823</td>\n",
       "      <td>V</td>\n",
       "    </tr>\n",
       "    <tr>\n",
       "      <th>632278</th>\n",
       "      <td>C5/201231/08137</td>\n",
       "      <td>19.296480</td>\n",
       "      <td>-99.146270</td>\n",
       "      <td>V</td>\n",
       "    </tr>\n",
       "    <tr>\n",
       "      <th>632279</th>\n",
       "      <td>C5/201231/08161</td>\n",
       "      <td>19.352450</td>\n",
       "      <td>-99.014730</td>\n",
       "      <td>V</td>\n",
       "    </tr>\n",
       "    <tr>\n",
       "      <th>632280</th>\n",
       "      <td>C5/201231/08188</td>\n",
       "      <td>19.381050</td>\n",
       "      <td>-99.239490</td>\n",
       "      <td>V</td>\n",
       "    </tr>\n",
       "  </tbody>\n",
       "</table>\n",
       "<p>632281 rows × 4 columns</p>\n",
       "</div>"
      ],
      "text/plain": [
       "                  folio    latitud   longitud V_F\n",
       "0       C5/170101/05814  19.363280 -99.109710   V\n",
       "1       C5/170101/01806  19.454420 -99.114900   V\n",
       "2       AO/170101/02807  19.349600 -99.304640   V\n",
       "3       C5/170101/06904  19.453170 -99.096580   V\n",
       "4       C5/170101/02347  19.422230 -99.094810   V\n",
       "...                 ...        ...        ...  ..\n",
       "632276  C5/201231/08132  19.302180 -99.147020   V\n",
       "632277  AO/201231/07706  19.412716 -99.189823   V\n",
       "632278  C5/201231/08137  19.296480 -99.146270   V\n",
       "632279  C5/201231/08161  19.352450 -99.014730   V\n",
       "632280  C5/201231/08188  19.381050 -99.239490   V\n",
       "\n",
       "[632281 rows x 4 columns]"
      ]
     },
     "execution_count": 63,
     "metadata": {},
     "output_type": "execute_result"
    }
   ],
   "source": [
    "incidentes_viales_cdmx_2 = incidentes_viales_cdmx.drop(columns=['fecha_creacion', 'hora_creacion', 'dia_semana', \n",
    "                                                                'numero_incidente', 'fecha_cierre', 'año_cierre', 'mes_cierre',\n",
    "                                                               'hora_cierre', 'delegacion_inicio','tipo_de_incidente', \n",
    "                                                               'clasificacion_incidente', 'medio_de_aviso', 'delegacion_cierre', 'año_creacion'])\n",
    "\n",
    "incidentes_viales_cdmx_2"
   ]
  },
  {
   "cell_type": "code",
   "execution_count": 64,
   "id": "a6e008b8",
   "metadata": {},
   "outputs": [
    {
     "data": {
      "image/png": "[encoded data removed]",
      "text/plain": [
       "<Figure size 432x288 with 1 Axes>"
      ]
     },
     "metadata": {
      "needs_background": "light"
     },
     "output_type": "display_data"
    }
   ],
   "source": [
    "fig = plt.figure()\n",
    "ax = fig.add_subplot()\n",
    "\n",
    "ax.set_title('Ubicación de incidentes', pad=15)\n",
    "ax.set_xlabel('latitud')\n",
    "ax.set_ylabel('longitud')\n",
    "\n",
    "sns.scatterplot(x=incidentes_viales_cdmx_2['latitud'], y=incidentes_viales_cdmx_2['longitud'], ax=ax);"
   ]
  },
  {
   "cell_type": "code",
   "execution_count": 65,
   "id": "af627d27",
   "metadata": {},
   "outputs": [],
   "source": [
    "from sklearn.cluster import KMeans"
   ]
  },
  {
   "cell_type": "code",
   "execution_count": 66,
   "id": "b1e5b87f",
   "metadata": {},
   "outputs": [],
   "source": [
    "k_means = KMeans(n_clusters=16, max_iter=10000)"
   ]
  },
  {
   "cell_type": "code",
   "execution_count": 67,
   "id": "2aa9cfb0",
   "metadata": {},
   "outputs": [
    {
     "data": {
      "text/plain": [
       "KMeans(max_iter=10000, n_clusters=16)"
      ]
     },
     "execution_count": 67,
     "metadata": {},
     "output_type": "execute_result"
    }
   ],
   "source": [
    "k_means.fit(incidentes_viales_cdmx_2[['latitud', 'longitud']])"
   ]
  },
  {
   "cell_type": "code",
   "execution_count": 68,
   "id": "71488494",
   "metadata": {},
   "outputs": [
    {
     "data": {
      "text/plain": [
       "array([[ 19.41803226, -99.18647148],\n",
       "       [ 19.35293054, -99.12625591],\n",
       "       [ 19.46638665, -99.09208056],\n",
       "       [ 19.35823688, -99.2672057 ],\n",
       "       [ 19.29516534, -99.14731513],\n",
       "       [ 19.35719005, -99.02262689],\n",
       "       [ 19.29897128, -99.22018143],\n",
       "       [ 19.25573769, -99.01676282],\n",
       "       [ 19.39707473, -99.0774277 ],\n",
       "       [ 19.51056551, -99.13999141],\n",
       "       [ 19.45382281, -99.1400609 ],\n",
       "       [ 19.23463733, -99.11926519],\n",
       "       [ 19.31968533, -99.06907681],\n",
       "       [ 19.40611225, -99.1378549 ],\n",
       "       [ 19.36346642, -99.18806512],\n",
       "       [ 19.47054113, -99.19246563]])"
      ]
     },
     "execution_count": 68,
     "metadata": {},
     "output_type": "execute_result"
    }
   ],
   "source": [
    "centers = k_means.cluster_centers_\n",
    "\n",
    "centers"
   ]
  },
  {
   "cell_type": "code",
   "execution_count": 69,
   "id": "dd1d3b89",
   "metadata": {},
   "outputs": [
    {
     "data": {
      "image/png": "[encoded data removed]",
      "text/plain": [
       "<Figure size 432x288 with 1 Axes>"
      ]
     },
     "metadata": {
      "needs_background": "light"
     },
     "output_type": "display_data"
    }
   ],
   "source": [
    "fig = plt.figure()\n",
    "ax = fig.add_subplot()\n",
    "\n",
    "ax.set_title('Ubicación de incidentes', pad=15)\n",
    "ax.set_xlabel('latitud')\n",
    "ax.set_ylabel('longitud')\n",
    "\n",
    "sns.scatterplot(x= incidentes_viales_cdmx_2['latitud'], y=incidentes_viales_cdmx_2['longitud'], ax=ax, palette='rainbow');\n",
    "sns.scatterplot(x=centers[:,0], y=centers[:,1], ax=ax, s=100, color='black');"
   ]
  },
  {
   "cell_type": "code",
   "execution_count": 70,
   "id": "45f22426",
   "metadata": {},
   "outputs": [],
   "source": [
    "clasificaciones = k_means.predict(incidentes_viales_cdmx_2[['latitud', 'longitud']])"
   ]
  },
  {
   "cell_type": "code",
   "execution_count": 71,
   "id": "aa110abc",
   "metadata": {},
   "outputs": [
    {
     "data": {
      "image/png": "[encoded data removed]",
      "text/plain": [
       "<Figure size 432x288 with 1 Axes>"
      ]
     },
     "metadata": {
      "needs_background": "light"
     },
     "output_type": "display_data"
    }
   ],
   "source": [
    "fig = plt.figure()\n",
    "\n",
    "ax = fig.add_subplot()\n",
    "\n",
    "ax.set_title('Locación de incidentes', pad=15)\n",
    "ax.set_xlabel('latitud')\n",
    "ax.set_ylabel('longitud')\n",
    "\n",
    "sns.scatterplot(x = incidentes_viales_cdmx_2['latitud'], y = incidentes_viales_cdmx_2['longitud'], ax=ax, hue=clasificaciones, palette='rainbow');\n",
    "\n",
    "sns.scatterplot(x = centers[:,0], y = centers[:,1], ax=ax, s=100, color='black');\n",
    "\n",
    "ax.get_legend().remove()"
   ]
  },
  {
   "cell_type": "markdown",
   "id": "7fe501eb",
   "metadata": {},
   "source": [
    "# Mapa cloropletico"
   ]
  },
  {
   "cell_type": "code",
   "execution_count": 72,
   "id": "9bc17dc3",
   "metadata": {},
   "outputs": [],
   "source": [
    "m1=folium.Map(location=[19.3947291,-99.2576493])"
   ]
  },
  {
   "cell_type": "code",
   "execution_count": 73,
   "id": "ca270261",
   "metadata": {},
   "outputs": [],
   "source": [
    "from branca.element import Figure"
   ]
  },
  {
   "cell_type": "code",
   "execution_count": 74,
   "id": "f383948b",
   "metadata": {},
   "outputs": [],
   "source": [
    "fig=Figure(width=550,height=350)"
   ]
  },
  {
   "cell_type": "code",
   "execution_count": 75,
   "id": "9aad308f",
   "metadata": {},
   "outputs": [
    {
     "data": {
      "text/html": [
       "<iframe src=\"about:blank\" width=\"550\" height=\"350\"style=\"border:none !important;\" data-html=%3C%21DOCTYPE%20html%3E%0A%3Chead%3E%20%20%20%20%0A%20%20%20%20%3Cmeta%20http-equiv%3D%22content-type%22%20content%3D%22text/html%3B%20charset%3DUTF-8%22%20/%3E%0A%20%20%20%20%0A%20%20%20%20%20%20%20%20%3Cscript%3E%0A%20%20%20%20%20%20%20%20%20%20%20%20L_NO_TOUCH%20%3D%20false%3B%0A%20%20%20%20%20%20%20%20%20%20%20%20L_DISABLE_3D%20%3D%20false%3B%0A%20%20%20%20%20%20%20%20%3C/script%3E%0A%20%20%20%20%0A%20%20%20%20%3Cstyle%3Ehtml%2C%20body%20%7Bwidth%3A%20100%25%3Bheight%3A%20100%25%3Bmargin%3A%200%3Bpadding%3A%200%3B%7D%3C/style%3E%0A%20%20%20%20%3Cstyle%3E%23map%20%7Bposition%3Aabsolute%3Btop%3A0%3Bbottom%3A0%3Bright%3A0%3Bleft%3A0%3B%7D%3C/style%3E%0A%20%20%20%20%3Cscript%20src%3D%22https%3A//cdn.jsdelivr.net/npm/leaflet%401.6.0/dist/leaflet.js%22%3E%3C/script%3E%0A%20%20%20%20%3Cscript%20src%3D%22https%3A//code.jquery.com/jquery-1.12.4.min.js%22%3E%3C/script%3E%0A%20%20%20%20%3Cscript%20src%3D%22https%3A//maxcdn.bootstrapcdn.com/bootstrap/3.2.0/js/bootstrap.min.js%22%3E%3C/script%3E%0A%20%20%20%20%3Cscript%20src%3D%22https%3A//cdnjs.cloudflare.com/ajax/libs/Leaflet.awesome-markers/2.0.2/leaflet.awesome-markers.js%22%3E%3C/script%3E%0A%20%20%20%20%3Clink%20rel%3D%22stylesheet%22%20href%3D%22https%3A//cdn.jsdelivr.net/npm/leaflet%401.6.0/dist/leaflet.css%22/%3E%0A%20%20%20%20%3Clink%20rel%3D%22stylesheet%22%20href%3D%22https%3A//maxcdn.bootstrapcdn.com/bootstrap/3.2.0/css/bootstrap.min.css%22/%3E%0A%20%20%20%20%3Clink%20rel%3D%22stylesheet%22%20href%3D%22https%3A//maxcdn.bootstrapcdn.com/bootstrap/3.2.0/css/bootstrap-theme.min.css%22/%3E%0A%20%20%20%20%3Clink%20rel%3D%22stylesheet%22%20href%3D%22https%3A//maxcdn.bootstrapcdn.com/font-awesome/4.6.3/css/font-awesome.min.css%22/%3E%0A%20%20%20%20%3Clink%20rel%3D%22stylesheet%22%20href%3D%22https%3A//cdnjs.cloudflare.com/ajax/libs/Leaflet.awesome-markers/2.0.2/leaflet.awesome-markers.css%22/%3E%0A%20%20%20%20%3Clink%20rel%3D%22stylesheet%22%20href%3D%22https%3A//cdn.jsdelivr.net/gh/python-visualization/folium/folium/templates/leaflet.awesome.rotate.min.css%22/%3E%0A%20%20%20%20%0A%20%20%20%20%20%20%20%20%20%20%20%20%3Cmeta%20name%3D%22viewport%22%20content%3D%22width%3Ddevice-width%2C%0A%20%20%20%20%20%20%20%20%20%20%20%20%20%20%20%20initial-scale%3D1.0%2C%20maximum-scale%3D1.0%2C%20user-scalable%3Dno%22%20/%3E%0A%20%20%20%20%20%20%20%20%20%20%20%20%3Cstyle%3E%0A%20%20%20%20%20%20%20%20%20%20%20%20%20%20%20%20%23map_06c8a69df6f24224b612f8ee144e5726%20%7B%0A%20%20%20%20%20%20%20%20%20%20%20%20%20%20%20%20%20%20%20%20position%3A%20relative%3B%0A%20%20%20%20%20%20%20%20%20%20%20%20%20%20%20%20%20%20%20%20width%3A%20550.0px%3B%0A%20%20%20%20%20%20%20%20%20%20%20%20%20%20%20%20%20%20%20%20height%3A%20350.0px%3B%0A%20%20%20%20%20%20%20%20%20%20%20%20%20%20%20%20%20%20%20%20left%3A%200.0%25%3B%0A%20%20%20%20%20%20%20%20%20%20%20%20%20%20%20%20%20%20%20%20top%3A%200.0%25%3B%0A%20%20%20%20%20%20%20%20%20%20%20%20%20%20%20%20%7D%0A%20%20%20%20%20%20%20%20%20%20%20%20%3C/style%3E%0A%20%20%20%20%20%20%20%20%0A%3C/head%3E%0A%3Cbody%3E%20%20%20%20%0A%20%20%20%20%0A%20%20%20%20%20%20%20%20%20%20%20%20%3Cdiv%20class%3D%22folium-map%22%20id%3D%22map_06c8a69df6f24224b612f8ee144e5726%22%20%3E%3C/div%3E%0A%20%20%20%20%20%20%20%20%0A%3C/body%3E%0A%3Cscript%3E%20%20%20%20%0A%20%20%20%20%0A%20%20%20%20%20%20%20%20%20%20%20%20var%20map_06c8a69df6f24224b612f8ee144e5726%20%3D%20L.map%28%0A%20%20%20%20%20%20%20%20%20%20%20%20%20%20%20%20%22map_06c8a69df6f24224b612f8ee144e5726%22%2C%0A%20%20%20%20%20%20%20%20%20%20%20%20%20%20%20%20%7B%0A%20%20%20%20%20%20%20%20%20%20%20%20%20%20%20%20%20%20%20%20center%3A%20%5B19.3947291%2C%20-99.2576493%5D%2C%0A%20%20%20%20%20%20%20%20%20%20%20%20%20%20%20%20%20%20%20%20crs%3A%20L.CRS.EPSG3857%2C%0A%20%20%20%20%20%20%20%20%20%20%20%20%20%20%20%20%20%20%20%20zoom%3A%2011%2C%0A%20%20%20%20%20%20%20%20%20%20%20%20%20%20%20%20%20%20%20%20zoomControl%3A%20true%2C%0A%20%20%20%20%20%20%20%20%20%20%20%20%20%20%20%20%20%20%20%20preferCanvas%3A%20false%2C%0A%20%20%20%20%20%20%20%20%20%20%20%20%20%20%20%20%7D%0A%20%20%20%20%20%20%20%20%20%20%20%20%29%3B%0A%0A%20%20%20%20%20%20%20%20%20%20%20%20%0A%0A%20%20%20%20%20%20%20%20%0A%20%20%20%20%0A%20%20%20%20%20%20%20%20%20%20%20%20var%20tile_layer_00b7126a217d49fc8c38cef272f3d075%20%3D%20L.tileLayer%28%0A%20%20%20%20%20%20%20%20%20%20%20%20%20%20%20%20%22https%3A//%7Bs%7D.tile.openstreetmap.org/%7Bz%7D/%7Bx%7D/%7By%7D.png%22%2C%0A%20%20%20%20%20%20%20%20%20%20%20%20%20%20%20%20%7B%22attribution%22%3A%20%22Data%20by%20%5Cu0026copy%3B%20%5Cu003ca%20href%3D%5C%22http%3A//openstreetmap.org%5C%22%5Cu003eOpenStreetMap%5Cu003c/a%5Cu003e%2C%20under%20%5Cu003ca%20href%3D%5C%22http%3A//www.openstreetmap.org/copyright%5C%22%5Cu003eODbL%5Cu003c/a%5Cu003e.%22%2C%20%22detectRetina%22%3A%20false%2C%20%22maxNativeZoom%22%3A%2014%2C%20%22maxZoom%22%3A%2014%2C%20%22minZoom%22%3A%208%2C%20%22noWrap%22%3A%20false%2C%20%22opacity%22%3A%201%2C%20%22subdomains%22%3A%20%22abc%22%2C%20%22tms%22%3A%20false%7D%0A%20%20%20%20%20%20%20%20%20%20%20%20%29.addTo%28map_06c8a69df6f24224b612f8ee144e5726%29%3B%0A%20%20%20%20%20%20%20%20%0A%3C/script%3E onload=\"this.contentDocument.open();this.contentDocument.write(    decodeURIComponent(this.getAttribute('data-html')));this.contentDocument.close();\" \"allowfullscreen\" \"webkitallowfullscreen\" \"mozallowfullscreen\"></iframe>"
      ],
      "text/plain": [
       "<branca.element.Figure at 0x1a2cafbd250>"
      ]
     },
     "execution_count": 75,
     "metadata": {},
     "output_type": "execute_result"
    }
   ],
   "source": [
    "m1=folium.Map(width=550,height=350,location=[19.3947291,-99.2576493],zoom_start=11,min_zoom=8,max_zoom=14)\n",
    "fig.add_child(m1)"
   ]
  },
  {
   "cell_type": "code",
   "execution_count": 76,
   "id": "c64e77b6",
   "metadata": {},
   "outputs": [
    {
     "data": {
      "text/plain": [
       "<folium.map.LayerControl at 0x1a2cafe64c0>"
      ]
     },
     "execution_count": 76,
     "metadata": {},
     "output_type": "execute_result"
    }
   ],
   "source": [
    "fig2=Figure(width=550,height=350)\n",
    "m2=folium.Map(location=[19.3947291,-99.2576493])\n",
    "fig2.add_child(m2)\n",
    "folium.TileLayer('Stamen Terrain').add_to(m2)\n",
    "folium.TileLayer('Stamen Toner').add_to(m2)\n",
    "folium.TileLayer('Stamen Water Color').add_to(m2)\n",
    "folium.TileLayer('cartodbpositron').add_to(m2)\n",
    "folium.TileLayer('cartodbdark_matter').add_to(m2)\n",
    "folium.LayerControl().add_to(m2)"
   ]
  },
  {
   "cell_type": "code",
   "execution_count": 77,
   "id": "7b21a2cb",
   "metadata": {},
   "outputs": [
    {
     "data": {
      "text/html": [
       "<iframe src=\"about:blank\" width=\"550\" height=\"350\"style=\"border:none !important;\" data-html=%3C%21DOCTYPE%20html%3E%0A%3Chead%3E%20%20%20%20%0A%20%20%20%20%3Cmeta%20http-equiv%3D%22content-type%22%20content%3D%22text/html%3B%20charset%3DUTF-8%22%20/%3E%0A%20%20%20%20%0A%20%20%20%20%20%20%20%20%3Cscript%3E%0A%20%20%20%20%20%20%20%20%20%20%20%20L_NO_TOUCH%20%3D%20false%3B%0A%20%20%20%20%20%20%20%20%20%20%20%20L_DISABLE_3D%20%3D%20false%3B%0A%20%20%20%20%20%20%20%20%3C/script%3E%0A%20%20%20%20%0A%20%20%20%20%3Cstyle%3Ehtml%2C%20body%20%7Bwidth%3A%20100%25%3Bheight%3A%20100%25%3Bmargin%3A%200%3Bpadding%3A%200%3B%7D%3C/style%3E%0A%20%20%20%20%3Cstyle%3E%23map%20%7Bposition%3Aabsolute%3Btop%3A0%3Bbottom%3A0%3Bright%3A0%3Bleft%3A0%3B%7D%3C/style%3E%0A%20%20%20%20%3Cscript%20src%3D%22https%3A//cdn.jsdelivr.net/npm/leaflet%401.6.0/dist/leaflet.js%22%3E%3C/script%3E%0A%20%20%20%20%3Cscript%20src%3D%22https%3A//code.jquery.com/jquery-1.12.4.min.js%22%3E%3C/script%3E%0A%20%20%20%20%3Cscript%20src%3D%22https%3A//maxcdn.bootstrapcdn.com/bootstrap/3.2.0/js/bootstrap.min.js%22%3E%3C/script%3E%0A%20%20%20%20%3Cscript%20src%3D%22https%3A//cdnjs.cloudflare.com/ajax/libs/Leaflet.awesome-markers/2.0.2/leaflet.awesome-markers.js%22%3E%3C/script%3E%0A%20%20%20%20%3Clink%20rel%3D%22stylesheet%22%20href%3D%22https%3A//cdn.jsdelivr.net/npm/leaflet%401.6.0/dist/leaflet.css%22/%3E%0A%20%20%20%20%3Clink%20rel%3D%22stylesheet%22%20href%3D%22https%3A//maxcdn.bootstrapcdn.com/bootstrap/3.2.0/css/bootstrap.min.css%22/%3E%0A%20%20%20%20%3Clink%20rel%3D%22stylesheet%22%20href%3D%22https%3A//maxcdn.bootstrapcdn.com/bootstrap/3.2.0/css/bootstrap-theme.min.css%22/%3E%0A%20%20%20%20%3Clink%20rel%3D%22stylesheet%22%20href%3D%22https%3A//maxcdn.bootstrapcdn.com/font-awesome/4.6.3/css/font-awesome.min.css%22/%3E%0A%20%20%20%20%3Clink%20rel%3D%22stylesheet%22%20href%3D%22https%3A//cdnjs.cloudflare.com/ajax/libs/Leaflet.awesome-markers/2.0.2/leaflet.awesome-markers.css%22/%3E%0A%20%20%20%20%3Clink%20rel%3D%22stylesheet%22%20href%3D%22https%3A//cdn.jsdelivr.net/gh/python-visualization/folium/folium/templates/leaflet.awesome.rotate.min.css%22/%3E%0A%20%20%20%20%0A%20%20%20%20%20%20%20%20%20%20%20%20%3Cmeta%20name%3D%22viewport%22%20content%3D%22width%3Ddevice-width%2C%0A%20%20%20%20%20%20%20%20%20%20%20%20%20%20%20%20initial-scale%3D1.0%2C%20maximum-scale%3D1.0%2C%20user-scalable%3Dno%22%20/%3E%0A%20%20%20%20%20%20%20%20%20%20%20%20%3Cstyle%3E%0A%20%20%20%20%20%20%20%20%20%20%20%20%20%20%20%20%23map_bc3dc03f3b2b43f0905ff6016a7dc93f%20%7B%0A%20%20%20%20%20%20%20%20%20%20%20%20%20%20%20%20%20%20%20%20position%3A%20relative%3B%0A%20%20%20%20%20%20%20%20%20%20%20%20%20%20%20%20%20%20%20%20width%3A%20100.0%25%3B%0A%20%20%20%20%20%20%20%20%20%20%20%20%20%20%20%20%20%20%20%20height%3A%20100.0%25%3B%0A%20%20%20%20%20%20%20%20%20%20%20%20%20%20%20%20%20%20%20%20left%3A%200.0%25%3B%0A%20%20%20%20%20%20%20%20%20%20%20%20%20%20%20%20%20%20%20%20top%3A%200.0%25%3B%0A%20%20%20%20%20%20%20%20%20%20%20%20%20%20%20%20%7D%0A%20%20%20%20%20%20%20%20%20%20%20%20%3C/style%3E%0A%20%20%20%20%20%20%20%20%0A%3C/head%3E%0A%3Cbody%3E%20%20%20%20%0A%20%20%20%20%0A%20%20%20%20%20%20%20%20%20%20%20%20%3Cdiv%20class%3D%22folium-map%22%20id%3D%22map_bc3dc03f3b2b43f0905ff6016a7dc93f%22%20%3E%3C/div%3E%0A%20%20%20%20%20%20%20%20%0A%3C/body%3E%0A%3Cscript%3E%20%20%20%20%0A%20%20%20%20%0A%20%20%20%20%20%20%20%20%20%20%20%20var%20map_bc3dc03f3b2b43f0905ff6016a7dc93f%20%3D%20L.map%28%0A%20%20%20%20%20%20%20%20%20%20%20%20%20%20%20%20%22map_bc3dc03f3b2b43f0905ff6016a7dc93f%22%2C%0A%20%20%20%20%20%20%20%20%20%20%20%20%20%20%20%20%7B%0A%20%20%20%20%20%20%20%20%20%20%20%20%20%20%20%20%20%20%20%20center%3A%20%5B19.3947291%2C%20-99.2576493%5D%2C%0A%20%20%20%20%20%20%20%20%20%20%20%20%20%20%20%20%20%20%20%20crs%3A%20L.CRS.EPSG3857%2C%0A%20%20%20%20%20%20%20%20%20%20%20%20%20%20%20%20%20%20%20%20zoom%3A%2011%2C%0A%20%20%20%20%20%20%20%20%20%20%20%20%20%20%20%20%20%20%20%20zoomControl%3A%20true%2C%0A%20%20%20%20%20%20%20%20%20%20%20%20%20%20%20%20%20%20%20%20preferCanvas%3A%20false%2C%0A%20%20%20%20%20%20%20%20%20%20%20%20%20%20%20%20%7D%0A%20%20%20%20%20%20%20%20%20%20%20%20%29%3B%0A%0A%20%20%20%20%20%20%20%20%20%20%20%20%0A%0A%20%20%20%20%20%20%20%20%0A%20%20%20%20%0A%20%20%20%20%20%20%20%20%20%20%20%20var%20tile_layer_9090602ecf694221949fc93757ed2f2e%20%3D%20L.tileLayer%28%0A%20%20%20%20%20%20%20%20%20%20%20%20%20%20%20%20%22https%3A//cartodb-basemaps-%7Bs%7D.global.ssl.fastly.net/light_all/%7Bz%7D/%7Bx%7D/%7By%7D.png%22%2C%0A%20%20%20%20%20%20%20%20%20%20%20%20%20%20%20%20%7B%22attribution%22%3A%20%22%5Cu0026copy%3B%20%5Cu003ca%20href%3D%5C%22http%3A//www.openstreetmap.org/copyright%5C%22%5Cu003eOpenStreetMap%5Cu003c/a%5Cu003e%20contributors%20%5Cu0026copy%3B%20%5Cu003ca%20href%3D%5C%22http%3A//cartodb.com/attributions%5C%22%5Cu003eCartoDB%5Cu003c/a%5Cu003e%2C%20CartoDB%20%5Cu003ca%20href%20%3D%5C%22http%3A//cartodb.com/attributions%5C%22%5Cu003eattributions%5Cu003c/a%5Cu003e%22%2C%20%22detectRetina%22%3A%20false%2C%20%22maxNativeZoom%22%3A%2018%2C%20%22maxZoom%22%3A%2018%2C%20%22minZoom%22%3A%200%2C%20%22noWrap%22%3A%20false%2C%20%22opacity%22%3A%201%2C%20%22subdomains%22%3A%20%22abc%22%2C%20%22tms%22%3A%20false%7D%0A%20%20%20%20%20%20%20%20%20%20%20%20%29.addTo%28map_bc3dc03f3b2b43f0905ff6016a7dc93f%29%3B%0A%20%20%20%20%20%20%20%20%0A%20%20%20%20%0A%20%20%20%20%20%20%20%20%20%20%20%20var%20tile_layer_e47448aed3234e64992c79a9065dc940%20%3D%20L.tileLayer%28%0A%20%20%20%20%20%20%20%20%20%20%20%20%20%20%20%20%22https%3A//stamen-tiles-%7Bs%7D.a.ssl.fastly.net/terrain/%7Bz%7D/%7Bx%7D/%7By%7D.jpg%22%2C%0A%20%20%20%20%20%20%20%20%20%20%20%20%20%20%20%20%7B%22attribution%22%3A%20%22Map%20tiles%20by%20%5Cu003ca%20href%3D%5C%22http%3A//stamen.com%5C%22%5Cu003eStamen%20Design%5Cu003c/a%5Cu003e%2C%20under%20%5Cu003ca%20href%3D%5C%22http%3A//creativecommons.org/licenses/by/3.0%5C%22%5Cu003eCC%20BY%203.0%5Cu003c/a%5Cu003e.%20Data%20by%20%5Cu0026copy%3B%20%5Cu003ca%20href%3D%5C%22http%3A//openstreetmap.org%5C%22%5Cu003eOpenStreetMap%5Cu003c/a%5Cu003e%2C%20under%20%5Cu003ca%20href%3D%5C%22http%3A//creativecommons.org/licenses/by-sa/3.0%5C%22%5Cu003eCC%20BY%20SA%5Cu003c/a%5Cu003e.%22%2C%20%22detectRetina%22%3A%20false%2C%20%22maxNativeZoom%22%3A%2018%2C%20%22maxZoom%22%3A%2018%2C%20%22minZoom%22%3A%200%2C%20%22noWrap%22%3A%20false%2C%20%22opacity%22%3A%201%2C%20%22subdomains%22%3A%20%22abc%22%2C%20%22tms%22%3A%20false%7D%0A%20%20%20%20%20%20%20%20%20%20%20%20%29.addTo%28map_bc3dc03f3b2b43f0905ff6016a7dc93f%29%3B%0A%20%20%20%20%20%20%20%20%0A%20%20%20%20%0A%20%20%20%20%20%20%20%20%20%20%20%20var%20tile_layer_ac3b6a9173e141de9ba039fa421d4126%20%3D%20L.tileLayer%28%0A%20%20%20%20%20%20%20%20%20%20%20%20%20%20%20%20%22https%3A//stamen-tiles-%7Bs%7D.a.ssl.fastly.net/toner/%7Bz%7D/%7Bx%7D/%7By%7D.png%22%2C%0A%20%20%20%20%20%20%20%20%20%20%20%20%20%20%20%20%7B%22attribution%22%3A%20%22Map%20tiles%20by%20%5Cu003ca%20href%3D%5C%22http%3A//stamen.com%5C%22%5Cu003eStamen%20Design%5Cu003c/a%5Cu003e%2C%20under%20%5Cu003ca%20href%3D%5C%22http%3A//creativecommons.org/licenses/by/3.0%5C%22%5Cu003eCC%20BY%203.0%5Cu003c/a%5Cu003e.%20Data%20by%20%5Cu0026copy%3B%20%5Cu003ca%20href%3D%5C%22http%3A//openstreetmap.org%5C%22%5Cu003eOpenStreetMap%5Cu003c/a%5Cu003e%2C%20under%20%5Cu003ca%20href%3D%5C%22http%3A//www.openstreetmap.org/copyright%5C%22%5Cu003eODbL%5Cu003c/a%5Cu003e.%22%2C%20%22detectRetina%22%3A%20false%2C%20%22maxNativeZoom%22%3A%2018%2C%20%22maxZoom%22%3A%2018%2C%20%22minZoom%22%3A%200%2C%20%22noWrap%22%3A%20false%2C%20%22opacity%22%3A%201%2C%20%22subdomains%22%3A%20%22abc%22%2C%20%22tms%22%3A%20false%7D%0A%20%20%20%20%20%20%20%20%20%20%20%20%29.addTo%28map_bc3dc03f3b2b43f0905ff6016a7dc93f%29%3B%0A%20%20%20%20%20%20%20%20%0A%20%20%20%20%0A%20%20%20%20%20%20%20%20%20%20%20%20var%20tile_layer_2d54459f62104d38bee125d8bdce2777%20%3D%20L.tileLayer%28%0A%20%20%20%20%20%20%20%20%20%20%20%20%20%20%20%20%22https%3A//stamen-tiles-%7Bs%7D.a.ssl.fastly.net/watercolor/%7Bz%7D/%7Bx%7D/%7By%7D.jpg%22%2C%0A%20%20%20%20%20%20%20%20%20%20%20%20%20%20%20%20%7B%22attribution%22%3A%20%22Map%20tiles%20by%20%5Cu003ca%20href%3D%5C%22http%3A//stamen.com%5C%22%5Cu003eStamen%20Design%5Cu003c/a%5Cu003e%2C%20under%20%5Cu003ca%20href%3D%5C%22http%3A//creativecommons.org/licenses/by/3.0%5C%22%5Cu003eCC%20BY%203.0%5Cu003c/a%5Cu003e.%20Data%20by%20%5Cu0026copy%3B%20%5Cu003ca%20href%3D%5C%22http%3A//openstreetmap.org%5C%22%5Cu003eOpenStreetMap%5Cu003c/a%5Cu003e%2C%20under%20%5Cu003ca%20href%3D%5C%22http%3A//creativecommons.org/licenses/by-sa/3.0%5C%22%5Cu003eCC%20BY%20SA%5Cu003c/a%5Cu003e.%22%2C%20%22detectRetina%22%3A%20false%2C%20%22maxNativeZoom%22%3A%2018%2C%20%22maxZoom%22%3A%2018%2C%20%22minZoom%22%3A%200%2C%20%22noWrap%22%3A%20false%2C%20%22opacity%22%3A%201%2C%20%22subdomains%22%3A%20%22abc%22%2C%20%22tms%22%3A%20false%7D%0A%20%20%20%20%20%20%20%20%20%20%20%20%29.addTo%28map_bc3dc03f3b2b43f0905ff6016a7dc93f%29%3B%0A%20%20%20%20%20%20%20%20%0A%20%20%20%20%0A%20%20%20%20%20%20%20%20%20%20%20%20var%20tile_layer_58a562021bc6456c9aa334c04cc01693%20%3D%20L.tileLayer%28%0A%20%20%20%20%20%20%20%20%20%20%20%20%20%20%20%20%22https%3A//cartodb-basemaps-%7Bs%7D.global.ssl.fastly.net/light_all/%7Bz%7D/%7Bx%7D/%7By%7D.png%22%2C%0A%20%20%20%20%20%20%20%20%20%20%20%20%20%20%20%20%7B%22attribution%22%3A%20%22%5Cu0026copy%3B%20%5Cu003ca%20href%3D%5C%22http%3A//www.openstreetmap.org/copyright%5C%22%5Cu003eOpenStreetMap%5Cu003c/a%5Cu003e%20contributors%20%5Cu0026copy%3B%20%5Cu003ca%20href%3D%5C%22http%3A//cartodb.com/attributions%5C%22%5Cu003eCartoDB%5Cu003c/a%5Cu003e%2C%20CartoDB%20%5Cu003ca%20href%20%3D%5C%22http%3A//cartodb.com/attributions%5C%22%5Cu003eattributions%5Cu003c/a%5Cu003e%22%2C%20%22detectRetina%22%3A%20false%2C%20%22maxNativeZoom%22%3A%2018%2C%20%22maxZoom%22%3A%2018%2C%20%22minZoom%22%3A%200%2C%20%22noWrap%22%3A%20false%2C%20%22opacity%22%3A%201%2C%20%22subdomains%22%3A%20%22abc%22%2C%20%22tms%22%3A%20false%7D%0A%20%20%20%20%20%20%20%20%20%20%20%20%29.addTo%28map_bc3dc03f3b2b43f0905ff6016a7dc93f%29%3B%0A%20%20%20%20%20%20%20%20%0A%20%20%20%20%0A%20%20%20%20%20%20%20%20%20%20%20%20var%20tile_layer_b587203020e0411493e642f391349ee6%20%3D%20L.tileLayer%28%0A%20%20%20%20%20%20%20%20%20%20%20%20%20%20%20%20%22https%3A//cartodb-basemaps-%7Bs%7D.global.ssl.fastly.net/dark_all/%7Bz%7D/%7Bx%7D/%7By%7D.png%22%2C%0A%20%20%20%20%20%20%20%20%20%20%20%20%20%20%20%20%7B%22attribution%22%3A%20%22%5Cu0026copy%3B%20%5Cu003ca%20href%3D%5C%22http%3A//www.openstreetmap.org/copyright%5C%22%5Cu003eOpenStreetMap%5Cu003c/a%5Cu003e%20contributors%20%5Cu0026copy%3B%20%5Cu003ca%20href%3D%5C%22http%3A//cartodb.com/attributions%5C%22%5Cu003eCartoDB%5Cu003c/a%5Cu003e%2C%20CartoDB%20%5Cu003ca%20href%20%3D%5C%22http%3A//cartodb.com/attributions%5C%22%5Cu003eattributions%5Cu003c/a%5Cu003e%22%2C%20%22detectRetina%22%3A%20false%2C%20%22maxNativeZoom%22%3A%2018%2C%20%22maxZoom%22%3A%2018%2C%20%22minZoom%22%3A%200%2C%20%22noWrap%22%3A%20false%2C%20%22opacity%22%3A%201%2C%20%22subdomains%22%3A%20%22abc%22%2C%20%22tms%22%3A%20false%7D%0A%20%20%20%20%20%20%20%20%20%20%20%20%29.addTo%28map_bc3dc03f3b2b43f0905ff6016a7dc93f%29%3B%0A%20%20%20%20%20%20%20%20%0A%20%20%20%20%0A%20%20%20%20%20%20%20%20%20%20%20%20var%20layer_control_618d44c7515447738938c4b0f12c86b0%20%3D%20%7B%0A%20%20%20%20%20%20%20%20%20%20%20%20%20%20%20%20base_layers%20%3A%20%7B%0A%20%20%20%20%20%20%20%20%20%20%20%20%20%20%20%20%20%20%20%20%22cartodbpositron%22%20%3A%20tile_layer_58a562021bc6456c9aa334c04cc01693%2C%0A%20%20%20%20%20%20%20%20%20%20%20%20%20%20%20%20%20%20%20%20%22stamenterrain%22%20%3A%20tile_layer_e47448aed3234e64992c79a9065dc940%2C%0A%20%20%20%20%20%20%20%20%20%20%20%20%20%20%20%20%20%20%20%20%22stamentoner%22%20%3A%20tile_layer_ac3b6a9173e141de9ba039fa421d4126%2C%0A%20%20%20%20%20%20%20%20%20%20%20%20%20%20%20%20%20%20%20%20%22stamenwatercolor%22%20%3A%20tile_layer_2d54459f62104d38bee125d8bdce2777%2C%0A%20%20%20%20%20%20%20%20%20%20%20%20%20%20%20%20%20%20%20%20%22cartodbdark_matter%22%20%3A%20tile_layer_b587203020e0411493e642f391349ee6%2C%0A%20%20%20%20%20%20%20%20%20%20%20%20%20%20%20%20%7D%2C%0A%20%20%20%20%20%20%20%20%20%20%20%20%20%20%20%20overlays%20%3A%20%20%7B%0A%20%20%20%20%20%20%20%20%20%20%20%20%20%20%20%20%7D%2C%0A%20%20%20%20%20%20%20%20%20%20%20%20%7D%3B%0A%20%20%20%20%20%20%20%20%20%20%20%20L.control.layers%28%0A%20%20%20%20%20%20%20%20%20%20%20%20%20%20%20%20layer_control_618d44c7515447738938c4b0f12c86b0.base_layers%2C%0A%20%20%20%20%20%20%20%20%20%20%20%20%20%20%20%20layer_control_618d44c7515447738938c4b0f12c86b0.overlays%2C%0A%20%20%20%20%20%20%20%20%20%20%20%20%20%20%20%20%7B%22autoZIndex%22%3A%20true%2C%20%22collapsed%22%3A%20true%2C%20%22position%22%3A%20%22topright%22%7D%0A%20%20%20%20%20%20%20%20%20%20%20%20%29.addTo%28map_bc3dc03f3b2b43f0905ff6016a7dc93f%29%3B%0A%20%20%20%20%20%20%20%20%20%20%20%20tile_layer_e47448aed3234e64992c79a9065dc940.remove%28%29%3B%0A%20%20%20%20%20%20%20%20%20%20%20%20tile_layer_ac3b6a9173e141de9ba039fa421d4126.remove%28%29%3B%0A%20%20%20%20%20%20%20%20%20%20%20%20tile_layer_2d54459f62104d38bee125d8bdce2777.remove%28%29%3B%0A%20%20%20%20%20%20%20%20%20%20%20%20tile_layer_58a562021bc6456c9aa334c04cc01693.remove%28%29%3B%0A%20%20%20%20%20%20%20%20%20%20%20%20tile_layer_b587203020e0411493e642f391349ee6.remove%28%29%3B%0A%20%20%20%20%20%20%20%20%0A%20%20%20%20%0A%20%20%20%20%20%20%20%20%20%20%20%20var%20marker_d037c4c891af49898b6f5ce69cbc86f3%20%3D%20L.marker%28%0A%20%20%20%20%20%20%20%20%20%20%20%20%20%20%20%20%5B19.39767826%2C%20-99.08014557%5D%2C%0A%20%20%20%20%20%20%20%20%20%20%20%20%20%20%20%20%7B%7D%0A%20%20%20%20%20%20%20%20%20%20%20%20%29.addTo%28map_bc3dc03f3b2b43f0905ff6016a7dc93f%29%3B%0A%20%20%20%20%20%20%20%20%0A%20%20%20%20%0A%20%20%20%20%20%20%20%20var%20popup_c0d3ae22fd884af38015233372a39dbe%20%3D%20L.popup%28%7B%22maxWidth%22%3A%20%22100%25%22%7D%29%3B%0A%0A%20%20%20%20%20%20%20%20%0A%20%20%20%20%20%20%20%20%20%20%20%20var%20html_01581e0446af4e07a661f49f502a25a6%20%3D%20%24%28%60%3Cdiv%20id%3D%22html_01581e0446af4e07a661f49f502a25a6%22%20style%3D%22width%3A%20100.0%25%3B%20height%3A%20100.0%25%3B%22%3EDefault%20popup%20Marker1%3C/div%3E%60%29%5B0%5D%3B%0A%20%20%20%20%20%20%20%20%20%20%20%20popup_c0d3ae22fd884af38015233372a39dbe.setContent%28html_01581e0446af4e07a661f49f502a25a6%29%3B%0A%20%20%20%20%20%20%20%20%0A%0A%20%20%20%20%20%20%20%20marker_d037c4c891af49898b6f5ce69cbc86f3.bindPopup%28popup_c0d3ae22fd884af38015233372a39dbe%29%0A%20%20%20%20%20%20%20%20%3B%0A%0A%20%20%20%20%20%20%20%20%0A%20%20%20%20%0A%20%20%20%20%0A%20%20%20%20%20%20%20%20%20%20%20%20marker_d037c4c891af49898b6f5ce69cbc86f3.bindTooltip%28%0A%20%20%20%20%20%20%20%20%20%20%20%20%20%20%20%20%60%3Cdiv%3E%0A%20%20%20%20%20%20%20%20%20%20%20%20%20%20%20%20%20%20%20%20%201%0A%20%20%20%20%20%20%20%20%20%20%20%20%20%20%20%20%20%3C/div%3E%60%2C%0A%20%20%20%20%20%20%20%20%20%20%20%20%20%20%20%20%7B%22sticky%22%3A%20true%7D%0A%20%20%20%20%20%20%20%20%20%20%20%20%29%3B%0A%20%20%20%20%20%20%20%20%0A%20%20%20%20%0A%20%20%20%20%20%20%20%20%20%20%20%20var%20marker_24a29e9f1e9a48a8a95acb608a992e05%20%3D%20L.marker%28%0A%20%20%20%20%20%20%20%20%20%20%20%20%20%20%20%20%5B19.3993043%2C%20-99.14880174%5D%2C%0A%20%20%20%20%20%20%20%20%20%20%20%20%20%20%20%20%7B%7D%0A%20%20%20%20%20%20%20%20%20%20%20%20%29.addTo%28map_bc3dc03f3b2b43f0905ff6016a7dc93f%29%3B%0A%20%20%20%20%20%20%20%20%0A%20%20%20%20%0A%20%20%20%20%20%20%20%20var%20popup_506c0eebb6b34b7f9eba7d6a3ee5da48%20%3D%20L.popup%28%7B%22maxWidth%22%3A%20%22100%25%22%7D%29%3B%0A%0A%20%20%20%20%20%20%20%20%0A%20%20%20%20%20%20%20%20%20%20%20%20var%20html_07dfa7c420da4946adb4deb882c2ce97%20%3D%20%24%28%60%3Cdiv%20id%3D%22html_07dfa7c420da4946adb4deb882c2ce97%22%20style%3D%22width%3A%20100.0%25%3B%20height%3A%20100.0%25%3B%22%3EDefault%20popup%20Marker1%3C/div%3E%60%29%5B0%5D%3B%0A%20%20%20%20%20%20%20%20%20%20%20%20popup_506c0eebb6b34b7f9eba7d6a3ee5da48.setContent%28html_07dfa7c420da4946adb4deb882c2ce97%29%3B%0A%20%20%20%20%20%20%20%20%0A%0A%20%20%20%20%20%20%20%20marker_24a29e9f1e9a48a8a95acb608a992e05.bindPopup%28popup_506c0eebb6b34b7f9eba7d6a3ee5da48%29%0A%20%20%20%20%20%20%20%20%3B%0A%0A%20%20%20%20%20%20%20%20%0A%20%20%20%20%0A%20%20%20%20%0A%20%20%20%20%20%20%20%20%20%20%20%20marker_24a29e9f1e9a48a8a95acb608a992e05.bindTooltip%28%0A%20%20%20%20%20%20%20%20%20%20%20%20%20%20%20%20%60%3Cdiv%3E%0A%20%20%20%20%20%20%20%20%20%20%20%20%20%20%20%20%20%20%20%20%202%0A%20%20%20%20%20%20%20%20%20%20%20%20%20%20%20%20%20%3C/div%3E%60%2C%0A%20%20%20%20%20%20%20%20%20%20%20%20%20%20%20%20%7B%22sticky%22%3A%20true%7D%0A%20%20%20%20%20%20%20%20%20%20%20%20%29%3B%0A%20%20%20%20%20%20%20%20%0A%20%20%20%20%0A%20%20%20%20%20%20%20%20%20%20%20%20var%20marker_15af1d2378864b85b609907f8146e7ad%20%3D%20L.marker%28%0A%20%20%20%20%20%20%20%20%20%20%20%20%20%20%20%20%5B19.32062397%2C%20-99.06963735%5D%2C%0A%20%20%20%20%20%20%20%20%20%20%20%20%20%20%20%20%7B%7D%0A%20%20%20%20%20%20%20%20%20%20%20%20%29.addTo%28map_bc3dc03f3b2b43f0905ff6016a7dc93f%29%3B%0A%20%20%20%20%20%20%20%20%0A%20%20%20%20%0A%20%20%20%20%20%20%20%20var%20popup_91fdfe2665404b34846b65f0c04f8634%20%3D%20L.popup%28%7B%22maxWidth%22%3A%20%22100%25%22%7D%29%3B%0A%0A%20%20%20%20%20%20%20%20%0A%20%20%20%20%20%20%20%20%20%20%20%20var%20html_1ab0010007754f8e96173762b34ceffe%20%3D%20%24%28%60%3Cdiv%20id%3D%22html_1ab0010007754f8e96173762b34ceffe%22%20style%3D%22width%3A%20100.0%25%3B%20height%3A%20100.0%25%3B%22%3EDefault%20popup%20Marker1%3C/div%3E%60%29%5B0%5D%3B%0A%20%20%20%20%20%20%20%20%20%20%20%20popup_91fdfe2665404b34846b65f0c04f8634.setContent%28html_1ab0010007754f8e96173762b34ceffe%29%3B%0A%20%20%20%20%20%20%20%20%0A%0A%20%20%20%20%20%20%20%20marker_15af1d2378864b85b609907f8146e7ad.bindPopup%28popup_91fdfe2665404b34846b65f0c04f8634%29%0A%20%20%20%20%20%20%20%20%3B%0A%0A%20%20%20%20%20%20%20%20%0A%20%20%20%20%0A%20%20%20%20%0A%20%20%20%20%20%20%20%20%20%20%20%20marker_15af1d2378864b85b609907f8146e7ad.bindTooltip%28%0A%20%20%20%20%20%20%20%20%20%20%20%20%20%20%20%20%60%3Cdiv%3E%0A%20%20%20%20%20%20%20%20%20%20%20%20%20%20%20%20%20%20%20%20%203%0A%20%20%20%20%20%20%20%20%20%20%20%20%20%20%20%20%20%3C/div%3E%60%2C%0A%20%20%20%20%20%20%20%20%20%20%20%20%20%20%20%20%7B%22sticky%22%3A%20true%7D%0A%20%20%20%20%20%20%20%20%20%20%20%20%29%3B%0A%20%20%20%20%20%20%20%20%0A%20%20%20%20%0A%20%20%20%20%20%20%20%20%20%20%20%20var%20marker_cbec85384dc749f9ac25d354daf25421%20%3D%20L.marker%28%0A%20%20%20%20%20%20%20%20%20%20%20%20%20%20%20%20%5B19.35778341%2C%20-99.26793961%5D%2C%0A%20%20%20%20%20%20%20%20%20%20%20%20%20%20%20%20%7B%7D%0A%20%20%20%20%20%20%20%20%20%20%20%20%29.addTo%28map_bc3dc03f3b2b43f0905ff6016a7dc93f%29%3B%0A%20%20%20%20%20%20%20%20%0A%20%20%20%20%0A%20%20%20%20%20%20%20%20var%20popup_ef4081f7f9cb4495ab777dd8bc1c07c8%20%3D%20L.popup%28%7B%22maxWidth%22%3A%20%22100%25%22%7D%29%3B%0A%0A%20%20%20%20%20%20%20%20%0A%20%20%20%20%20%20%20%20%20%20%20%20var%20html_d8c88a5b772b4168b2ddf5341909b344%20%3D%20%24%28%60%3Cdiv%20id%3D%22html_d8c88a5b772b4168b2ddf5341909b344%22%20style%3D%22width%3A%20100.0%25%3B%20height%3A%20100.0%25%3B%22%3EDefault%20popup%20Marker1%3C/div%3E%60%29%5B0%5D%3B%0A%20%20%20%20%20%20%20%20%20%20%20%20popup_ef4081f7f9cb4495ab777dd8bc1c07c8.setContent%28html_d8c88a5b772b4168b2ddf5341909b344%29%3B%0A%20%20%20%20%20%20%20%20%0A%0A%20%20%20%20%20%20%20%20marker_cbec85384dc749f9ac25d354daf25421.bindPopup%28popup_ef4081f7f9cb4495ab777dd8bc1c07c8%29%0A%20%20%20%20%20%20%20%20%3B%0A%0A%20%20%20%20%20%20%20%20%0A%20%20%20%20%0A%20%20%20%20%0A%20%20%20%20%20%20%20%20%20%20%20%20marker_cbec85384dc749f9ac25d354daf25421.bindTooltip%28%0A%20%20%20%20%20%20%20%20%20%20%20%20%20%20%20%20%60%3Cdiv%3E%0A%20%20%20%20%20%20%20%20%20%20%20%20%20%20%20%20%20%20%20%20%204%0A%20%20%20%20%20%20%20%20%20%20%20%20%20%20%20%20%20%3C/div%3E%60%2C%0A%20%20%20%20%20%20%20%20%20%20%20%20%20%20%20%20%7B%22sticky%22%3A%20true%7D%0A%20%20%20%20%20%20%20%20%20%20%20%20%29%3B%0A%20%20%20%20%20%20%20%20%0A%20%20%20%20%0A%20%20%20%20%20%20%20%20%20%20%20%20var%20marker_b72b43c7c6bc4e96b995626669998944%20%3D%20L.marker%28%0A%20%20%20%20%20%20%20%20%20%20%20%20%20%20%20%20%5B19.47539296%2C%20-99.18620402%5D%2C%0A%20%20%20%20%20%20%20%20%20%20%20%20%20%20%20%20%7B%7D%0A%20%20%20%20%20%20%20%20%20%20%20%20%29.addTo%28map_bc3dc03f3b2b43f0905ff6016a7dc93f%29%3B%0A%20%20%20%20%20%20%20%20%0A%20%20%20%20%0A%20%20%20%20%20%20%20%20var%20popup_bea13b13137a41fdb3d7f481e1f92b81%20%3D%20L.popup%28%7B%22maxWidth%22%3A%20%22100%25%22%7D%29%3B%0A%0A%20%20%20%20%20%20%20%20%0A%20%20%20%20%20%20%20%20%20%20%20%20var%20html_9cba1cc7a8be4aaf8107380aea368e6d%20%3D%20%24%28%60%3Cdiv%20id%3D%22html_9cba1cc7a8be4aaf8107380aea368e6d%22%20style%3D%22width%3A%20100.0%25%3B%20height%3A%20100.0%25%3B%22%3EDefault%20popup%20Marker1%3C/div%3E%60%29%5B0%5D%3B%0A%20%20%20%20%20%20%20%20%20%20%20%20popup_bea13b13137a41fdb3d7f481e1f92b81.setContent%28html_9cba1cc7a8be4aaf8107380aea368e6d%29%3B%0A%20%20%20%20%20%20%20%20%0A%0A%20%20%20%20%20%20%20%20marker_b72b43c7c6bc4e96b995626669998944.bindPopup%28popup_bea13b13137a41fdb3d7f481e1f92b81%29%0A%20%20%20%20%20%20%20%20%3B%0A%0A%20%20%20%20%20%20%20%20%0A%20%20%20%20%0A%20%20%20%20%0A%20%20%20%20%20%20%20%20%20%20%20%20marker_b72b43c7c6bc4e96b995626669998944.bindTooltip%28%0A%20%20%20%20%20%20%20%20%20%20%20%20%20%20%20%20%60%3Cdiv%3E%0A%20%20%20%20%20%20%20%20%20%20%20%20%20%20%20%20%20%20%20%20%205%0A%20%20%20%20%20%20%20%20%20%20%20%20%20%20%20%20%20%3C/div%3E%60%2C%0A%20%20%20%20%20%20%20%20%20%20%20%20%20%20%20%20%7B%22sticky%22%3A%20true%7D%0A%20%20%20%20%20%20%20%20%20%20%20%20%29%3B%0A%20%20%20%20%20%20%20%20%0A%20%20%20%20%0A%20%20%20%20%20%20%20%20%20%20%20%20var%20marker_1a4a23c6cfe4497c889bf52056f608c4%20%3D%20L.marker%28%0A%20%20%20%20%20%20%20%20%20%20%20%20%20%20%20%20%5B19.23463956%2C%20-99.1192417%5D%2C%0A%20%20%20%20%20%20%20%20%20%20%20%20%20%20%20%20%7B%7D%0A%20%20%20%20%20%20%20%20%20%20%20%20%29.addTo%28map_bc3dc03f3b2b43f0905ff6016a7dc93f%29%3B%0A%20%20%20%20%20%20%20%20%0A%20%20%20%20%0A%20%20%20%20%20%20%20%20var%20popup_7962059b25bd4331927be4ba717545c3%20%3D%20L.popup%28%7B%22maxWidth%22%3A%20%22100%25%22%7D%29%3B%0A%0A%20%20%20%20%20%20%20%20%0A%20%20%20%20%20%20%20%20%20%20%20%20var%20html_5ca7f28aa84841ce9c93091418a874d2%20%3D%20%24%28%60%3Cdiv%20id%3D%22html_5ca7f28aa84841ce9c93091418a874d2%22%20style%3D%22width%3A%20100.0%25%3B%20height%3A%20100.0%25%3B%22%3EDefault%20popup%20Marker1%3C/div%3E%60%29%5B0%5D%3B%0A%20%20%20%20%20%20%20%20%20%20%20%20popup_7962059b25bd4331927be4ba717545c3.setContent%28html_5ca7f28aa84841ce9c93091418a874d2%29%3B%0A%20%20%20%20%20%20%20%20%0A%0A%20%20%20%20%20%20%20%20marker_1a4a23c6cfe4497c889bf52056f608c4.bindPopup%28popup_7962059b25bd4331927be4ba717545c3%29%0A%20%20%20%20%20%20%20%20%3B%0A%0A%20%20%20%20%20%20%20%20%0A%20%20%20%20%0A%20%20%20%20%0A%20%20%20%20%20%20%20%20%20%20%20%20marker_1a4a23c6cfe4497c889bf52056f608c4.bindTooltip%28%0A%20%20%20%20%20%20%20%20%20%20%20%20%20%20%20%20%60%3Cdiv%3E%0A%20%20%20%20%20%20%20%20%20%20%20%20%20%20%20%20%20%20%20%20%206%0A%20%20%20%20%20%20%20%20%20%20%20%20%20%20%20%20%20%3C/div%3E%60%2C%0A%20%20%20%20%20%20%20%20%20%20%20%20%20%20%20%20%7B%22sticky%22%3A%20true%7D%0A%20%20%20%20%20%20%20%20%20%20%20%20%29%3B%0A%20%20%20%20%20%20%20%20%0A%20%20%20%20%0A%20%20%20%20%20%20%20%20%20%20%20%20var%20marker_674676393e034b2cb90e8a8f588ccb2e%20%3D%20L.marker%28%0A%20%20%20%20%20%20%20%20%20%20%20%20%20%20%20%20%5B19.29507139%2C%20-99.14731198%5D%2C%0A%20%20%20%20%20%20%20%20%20%20%20%20%20%20%20%20%7B%7D%0A%20%20%20%20%20%20%20%20%20%20%20%20%29.addTo%28map_bc3dc03f3b2b43f0905ff6016a7dc93f%29%3B%0A%20%20%20%20%20%20%20%20%0A%20%20%20%20%0A%20%20%20%20%20%20%20%20var%20popup_967a5e5c3ff74ff2b8e7a478731d7ac2%20%3D%20L.popup%28%7B%22maxWidth%22%3A%20%22100%25%22%7D%29%3B%0A%0A%20%20%20%20%20%20%20%20%0A%20%20%20%20%20%20%20%20%20%20%20%20var%20html_364303c754dc4ffebe9f86ce3b16abdb%20%3D%20%24%28%60%3Cdiv%20id%3D%22html_364303c754dc4ffebe9f86ce3b16abdb%22%20style%3D%22width%3A%20100.0%25%3B%20height%3A%20100.0%25%3B%22%3EDefault%20popup%20Marker1%3C/div%3E%60%29%5B0%5D%3B%0A%20%20%20%20%20%20%20%20%20%20%20%20popup_967a5e5c3ff74ff2b8e7a478731d7ac2.setContent%28html_364303c754dc4ffebe9f86ce3b16abdb%29%3B%0A%20%20%20%20%20%20%20%20%0A%0A%20%20%20%20%20%20%20%20marker_674676393e034b2cb90e8a8f588ccb2e.bindPopup%28popup_967a5e5c3ff74ff2b8e7a478731d7ac2%29%0A%20%20%20%20%20%20%20%20%3B%0A%0A%20%20%20%20%20%20%20%20%0A%20%20%20%20%0A%20%20%20%20%0A%20%20%20%20%20%20%20%20%20%20%20%20marker_674676393e034b2cb90e8a8f588ccb2e.bindTooltip%28%0A%20%20%20%20%20%20%20%20%20%20%20%20%20%20%20%20%60%3Cdiv%3E%0A%20%20%20%20%20%20%20%20%20%20%20%20%20%20%20%20%20%20%20%20%207%0A%20%20%20%20%20%20%20%20%20%20%20%20%20%20%20%20%20%3C/div%3E%60%2C%0A%20%20%20%20%20%20%20%20%20%20%20%20%20%20%20%20%7B%22sticky%22%3A%20true%7D%0A%20%20%20%20%20%20%20%20%20%20%20%20%29%3B%0A%20%20%20%20%20%20%20%20%0A%20%20%20%20%0A%20%20%20%20%20%20%20%20%20%20%20%20var%20marker_a73270f4272c4949b5c3a4326cd581e7%20%3D%20L.marker%28%0A%20%20%20%20%20%20%20%20%20%20%20%20%20%20%20%20%5B19.35737835%2C%20-99.0229658%5D%2C%0A%20%20%20%20%20%20%20%20%20%20%20%20%20%20%20%20%7B%7D%0A%20%20%20%20%20%20%20%20%20%20%20%20%29.addTo%28map_bc3dc03f3b2b43f0905ff6016a7dc93f%29%3B%0A%20%20%20%20%20%20%20%20%0A%20%20%20%20%0A%20%20%20%20%20%20%20%20var%20popup_a689e71b993f4ca386c385d130bf6d1a%20%3D%20L.popup%28%7B%22maxWidth%22%3A%20%22100%25%22%7D%29%3B%0A%0A%20%20%20%20%20%20%20%20%0A%20%20%20%20%20%20%20%20%20%20%20%20var%20html_3b43c3e6c4634905a3f6d592ea4988d3%20%3D%20%24%28%60%3Cdiv%20id%3D%22html_3b43c3e6c4634905a3f6d592ea4988d3%22%20style%3D%22width%3A%20100.0%25%3B%20height%3A%20100.0%25%3B%22%3EDefault%20popup%20Marker1%3C/div%3E%60%29%5B0%5D%3B%0A%20%20%20%20%20%20%20%20%20%20%20%20popup_a689e71b993f4ca386c385d130bf6d1a.setContent%28html_3b43c3e6c4634905a3f6d592ea4988d3%29%3B%0A%20%20%20%20%20%20%20%20%0A%0A%20%20%20%20%20%20%20%20marker_a73270f4272c4949b5c3a4326cd581e7.bindPopup%28popup_a689e71b993f4ca386c385d130bf6d1a%29%0A%20%20%20%20%20%20%20%20%3B%0A%0A%20%20%20%20%20%20%20%20%0A%20%20%20%20%0A%20%20%20%20%0A%20%20%20%20%20%20%20%20%20%20%20%20marker_a73270f4272c4949b5c3a4326cd581e7.bindTooltip%28%0A%20%20%20%20%20%20%20%20%20%20%20%20%20%20%20%20%60%3Cdiv%3E%0A%20%20%20%20%20%20%20%20%20%20%20%20%20%20%20%20%20%20%20%20%208%0A%20%20%20%20%20%20%20%20%20%20%20%20%20%20%20%20%20%3C/div%3E%60%2C%0A%20%20%20%20%20%20%20%20%20%20%20%20%20%20%20%20%7B%22sticky%22%3A%20true%7D%0A%20%20%20%20%20%20%20%20%20%20%20%20%29%3B%0A%20%20%20%20%20%20%20%20%0A%20%20%20%20%0A%20%20%20%20%20%20%20%20%20%20%20%20var%20marker_dbbd435e24504a0c9831d2099189accd%20%3D%20L.marker%28%0A%20%20%20%20%20%20%20%20%20%20%20%20%20%20%20%20%5B19.35177951%2C%20-99.1271155%5D%2C%0A%20%20%20%20%20%20%20%20%20%20%20%20%20%20%20%20%7B%7D%0A%20%20%20%20%20%20%20%20%20%20%20%20%29.addTo%28map_bc3dc03f3b2b43f0905ff6016a7dc93f%29%3B%0A%20%20%20%20%20%20%20%20%0A%20%20%20%20%0A%20%20%20%20%20%20%20%20var%20popup_9ce703cf75d24ca8ba639f668752d566%20%3D%20L.popup%28%7B%22maxWidth%22%3A%20%22100%25%22%7D%29%3B%0A%0A%20%20%20%20%20%20%20%20%0A%20%20%20%20%20%20%20%20%20%20%20%20var%20html_87c66f336865419aa9ee751a4f29fbfc%20%3D%20%24%28%60%3Cdiv%20id%3D%22html_87c66f336865419aa9ee751a4f29fbfc%22%20style%3D%22width%3A%20100.0%25%3B%20height%3A%20100.0%25%3B%22%3EDefault%20popup%20Marker1%3C/div%3E%60%29%5B0%5D%3B%0A%20%20%20%20%20%20%20%20%20%20%20%20popup_9ce703cf75d24ca8ba639f668752d566.setContent%28html_87c66f336865419aa9ee751a4f29fbfc%29%3B%0A%20%20%20%20%20%20%20%20%0A%0A%20%20%20%20%20%20%20%20marker_dbbd435e24504a0c9831d2099189accd.bindPopup%28popup_9ce703cf75d24ca8ba639f668752d566%29%0A%20%20%20%20%20%20%20%20%3B%0A%0A%20%20%20%20%20%20%20%20%0A%20%20%20%20%0A%20%20%20%20%0A%20%20%20%20%20%20%20%20%20%20%20%20marker_dbbd435e24504a0c9831d2099189accd.bindTooltip%28%0A%20%20%20%20%20%20%20%20%20%20%20%20%20%20%20%20%60%3Cdiv%3E%0A%20%20%20%20%20%20%20%20%20%20%20%20%20%20%20%20%20%20%20%20%209%0A%20%20%20%20%20%20%20%20%20%20%20%20%20%20%20%20%20%3C/div%3E%60%2C%0A%20%20%20%20%20%20%20%20%20%20%20%20%20%20%20%20%7B%22sticky%22%3A%20true%7D%0A%20%20%20%20%20%20%20%20%20%20%20%20%29%3B%0A%20%20%20%20%20%20%20%20%0A%20%20%20%20%0A%20%20%20%20%20%20%20%20%20%20%20%20var%20marker_8975de6508194706b99eb79fbe8c0ef7%20%3D%20L.marker%28%0A%20%20%20%20%20%20%20%20%20%20%20%20%20%20%20%20%5B19.5073086%2C%20-99.13905336%5D%2C%0A%20%20%20%20%20%20%20%20%20%20%20%20%20%20%20%20%7B%7D%0A%20%20%20%20%20%20%20%20%20%20%20%20%29.addTo%28map_bc3dc03f3b2b43f0905ff6016a7dc93f%29%3B%0A%20%20%20%20%20%20%20%20%0A%20%20%20%20%0A%20%20%20%20%20%20%20%20var%20popup_b61a43d05e9a443c9c8d8408638ecef7%20%3D%20L.popup%28%7B%22maxWidth%22%3A%20%22100%25%22%7D%29%3B%0A%0A%20%20%20%20%20%20%20%20%0A%20%20%20%20%20%20%20%20%20%20%20%20var%20html_36cf33cd6e8048cd85d441e4606bc6bb%20%3D%20%24%28%60%3Cdiv%20id%3D%22html_36cf33cd6e8048cd85d441e4606bc6bb%22%20style%3D%22width%3A%20100.0%25%3B%20height%3A%20100.0%25%3B%22%3EDefault%20popup%20Marker1%3C/div%3E%60%29%5B0%5D%3B%0A%20%20%20%20%20%20%20%20%20%20%20%20popup_b61a43d05e9a443c9c8d8408638ecef7.setContent%28html_36cf33cd6e8048cd85d441e4606bc6bb%29%3B%0A%20%20%20%20%20%20%20%20%0A%0A%20%20%20%20%20%20%20%20marker_8975de6508194706b99eb79fbe8c0ef7.bindPopup%28popup_b61a43d05e9a443c9c8d8408638ecef7%29%0A%20%20%20%20%20%20%20%20%3B%0A%0A%20%20%20%20%20%20%20%20%0A%20%20%20%20%0A%20%20%20%20%0A%20%20%20%20%20%20%20%20%20%20%20%20marker_8975de6508194706b99eb79fbe8c0ef7.bindTooltip%28%0A%20%20%20%20%20%20%20%20%20%20%20%20%20%20%20%20%60%3Cdiv%3E%0A%20%20%20%20%20%20%20%20%20%20%20%20%20%20%20%20%20%20%20%20%2010%0A%20%20%20%20%20%20%20%20%20%20%20%20%20%20%20%20%20%3C/div%3E%60%2C%0A%20%20%20%20%20%20%20%20%20%20%20%20%20%20%20%20%7B%22sticky%22%3A%20true%7D%0A%20%20%20%20%20%20%20%20%20%20%20%20%29%3B%0A%20%20%20%20%20%20%20%20%0A%20%20%20%20%0A%20%20%20%20%20%20%20%20%20%20%20%20var%20marker_4cc1329b9dd44a14b0416bf300aebebd%20%3D%20L.marker%28%0A%20%20%20%20%20%20%20%20%20%20%20%20%20%20%20%20%5B19.29864764%2C%20-99.22019954%5D%2C%0A%20%20%20%20%20%20%20%20%20%20%20%20%20%20%20%20%7B%7D%0A%20%20%20%20%20%20%20%20%20%20%20%20%29.addTo%28map_bc3dc03f3b2b43f0905ff6016a7dc93f%29%3B%0A%20%20%20%20%20%20%20%20%0A%20%20%20%20%0A%20%20%20%20%20%20%20%20var%20popup_ea1018f786ee43489b2139932eeaafe6%20%3D%20L.popup%28%7B%22maxWidth%22%3A%20%22100%25%22%7D%29%3B%0A%0A%20%20%20%20%20%20%20%20%0A%20%20%20%20%20%20%20%20%20%20%20%20var%20html_f52ca8e3ccc34a4fbb4bcbc3a14968db%20%3D%20%24%28%60%3Cdiv%20id%3D%22html_f52ca8e3ccc34a4fbb4bcbc3a14968db%22%20style%3D%22width%3A%20100.0%25%3B%20height%3A%20100.0%25%3B%22%3EDefault%20popup%20Marker1%3C/div%3E%60%29%5B0%5D%3B%0A%20%20%20%20%20%20%20%20%20%20%20%20popup_ea1018f786ee43489b2139932eeaafe6.setContent%28html_f52ca8e3ccc34a4fbb4bcbc3a14968db%29%3B%0A%20%20%20%20%20%20%20%20%0A%0A%20%20%20%20%20%20%20%20marker_4cc1329b9dd44a14b0416bf300aebebd.bindPopup%28popup_ea1018f786ee43489b2139932eeaafe6%29%0A%20%20%20%20%20%20%20%20%3B%0A%0A%20%20%20%20%20%20%20%20%0A%20%20%20%20%0A%20%20%20%20%0A%20%20%20%20%20%20%20%20%20%20%20%20marker_4cc1329b9dd44a14b0416bf300aebebd.bindTooltip%28%0A%20%20%20%20%20%20%20%20%20%20%20%20%20%20%20%20%60%3Cdiv%3E%0A%20%20%20%20%20%20%20%20%20%20%20%20%20%20%20%20%20%20%20%20%2011%0A%20%20%20%20%20%20%20%20%20%20%20%20%20%20%20%20%20%3C/div%3E%60%2C%0A%20%20%20%20%20%20%20%20%20%20%20%20%20%20%20%20%7B%22sticky%22%3A%20true%7D%0A%20%20%20%20%20%20%20%20%20%20%20%20%29%3B%0A%20%20%20%20%20%20%20%20%0A%20%20%20%20%0A%20%20%20%20%20%20%20%20%20%20%20%20var%20marker_e3fd48f7667546db98108b2eabebb1af%20%3D%20L.marker%28%0A%20%20%20%20%20%20%20%20%20%20%20%20%20%20%20%20%5B19.25627843%2C%20-99.01695413%5D%2C%0A%20%20%20%20%20%20%20%20%20%20%20%20%20%20%20%20%7B%7D%0A%20%20%20%20%20%20%20%20%20%20%20%20%29.addTo%28map_bc3dc03f3b2b43f0905ff6016a7dc93f%29%3B%0A%20%20%20%20%20%20%20%20%0A%20%20%20%20%0A%20%20%20%20%20%20%20%20var%20popup_367c6c4f7c6c4c45b4f615f7a01160a4%20%3D%20L.popup%28%7B%22maxWidth%22%3A%20%22100%25%22%7D%29%3B%0A%0A%20%20%20%20%20%20%20%20%0A%20%20%20%20%20%20%20%20%20%20%20%20var%20html_31d7436950c24041b7415ec7466cc31d%20%3D%20%24%28%60%3Cdiv%20id%3D%22html_31d7436950c24041b7415ec7466cc31d%22%20style%3D%22width%3A%20100.0%25%3B%20height%3A%20100.0%25%3B%22%3EDefault%20popup%20Marker1%3C/div%3E%60%29%5B0%5D%3B%0A%20%20%20%20%20%20%20%20%20%20%20%20popup_367c6c4f7c6c4c45b4f615f7a01160a4.setContent%28html_31d7436950c24041b7415ec7466cc31d%29%3B%0A%20%20%20%20%20%20%20%20%0A%0A%20%20%20%20%20%20%20%20marker_e3fd48f7667546db98108b2eabebb1af.bindPopup%28popup_367c6c4f7c6c4c45b4f615f7a01160a4%29%0A%20%20%20%20%20%20%20%20%3B%0A%0A%20%20%20%20%20%20%20%20%0A%20%20%20%20%0A%20%20%20%20%0A%20%20%20%20%20%20%20%20%20%20%20%20marker_e3fd48f7667546db98108b2eabebb1af.bindTooltip%28%0A%20%20%20%20%20%20%20%20%20%20%20%20%20%20%20%20%60%3Cdiv%3E%0A%20%20%20%20%20%20%20%20%20%20%20%20%20%20%20%20%20%20%20%20%2012%0A%20%20%20%20%20%20%20%20%20%20%20%20%20%20%20%20%20%3C/div%3E%60%2C%0A%20%20%20%20%20%20%20%20%20%20%20%20%20%20%20%20%7B%22sticky%22%3A%20true%7D%0A%20%20%20%20%20%20%20%20%20%20%20%20%29%3B%0A%20%20%20%20%20%20%20%20%0A%20%20%20%20%0A%20%20%20%20%20%20%20%20%20%20%20%20var%20marker_2cf289eabbf1463faa4e0131aa9e3aa3%20%3D%20L.marker%28%0A%20%20%20%20%20%20%20%20%20%20%20%20%20%20%20%20%5B19.42323285%2C%20-99.19199913%5D%2C%0A%20%20%20%20%20%20%20%20%20%20%20%20%20%20%20%20%7B%7D%0A%20%20%20%20%20%20%20%20%20%20%20%20%29.addTo%28map_bc3dc03f3b2b43f0905ff6016a7dc93f%29%3B%0A%20%20%20%20%20%20%20%20%0A%20%20%20%20%0A%20%20%20%20%20%20%20%20var%20popup_11bf05cb186c4fd6b8e1f6cd8bf331bf%20%3D%20L.popup%28%7B%22maxWidth%22%3A%20%22100%25%22%7D%29%3B%0A%0A%20%20%20%20%20%20%20%20%0A%20%20%20%20%20%20%20%20%20%20%20%20var%20html_e2d9960b618e48b4a81cbf400022f52e%20%3D%20%24%28%60%3Cdiv%20id%3D%22html_e2d9960b618e48b4a81cbf400022f52e%22%20style%3D%22width%3A%20100.0%25%3B%20height%3A%20100.0%25%3B%22%3EDefault%20popup%20Marker1%3C/div%3E%60%29%5B0%5D%3B%0A%20%20%20%20%20%20%20%20%20%20%20%20popup_11bf05cb186c4fd6b8e1f6cd8bf331bf.setContent%28html_e2d9960b618e48b4a81cbf400022f52e%29%3B%0A%20%20%20%20%20%20%20%20%0A%0A%20%20%20%20%20%20%20%20marker_2cf289eabbf1463faa4e0131aa9e3aa3.bindPopup%28popup_11bf05cb186c4fd6b8e1f6cd8bf331bf%29%0A%20%20%20%20%20%20%20%20%3B%0A%0A%20%20%20%20%20%20%20%20%0A%20%20%20%20%0A%20%20%20%20%0A%20%20%20%20%20%20%20%20%20%20%20%20marker_2cf289eabbf1463faa4e0131aa9e3aa3.bindTooltip%28%0A%20%20%20%20%20%20%20%20%20%20%20%20%20%20%20%20%60%3Cdiv%3E%0A%20%20%20%20%20%20%20%20%20%20%20%20%20%20%20%20%20%20%20%20%2013%0A%20%20%20%20%20%20%20%20%20%20%20%20%20%20%20%20%20%3C/div%3E%60%2C%0A%20%20%20%20%20%20%20%20%20%20%20%20%20%20%20%20%7B%22sticky%22%3A%20true%7D%0A%20%20%20%20%20%20%20%20%20%20%20%20%29%3B%0A%20%20%20%20%20%20%20%20%0A%20%20%20%20%0A%20%20%20%20%20%20%20%20%20%20%20%20var%20marker_47f1fdee5b0b40348450a9d50943401d%20%3D%20L.marker%28%0A%20%20%20%20%20%20%20%20%20%20%20%20%20%20%20%20%5B19.44447976%2C%20-99.13654813%5D%2C%0A%20%20%20%20%20%20%20%20%20%20%20%20%20%20%20%20%7B%7D%0A%20%20%20%20%20%20%20%20%20%20%20%20%29.addTo%28map_bc3dc03f3b2b43f0905ff6016a7dc93f%29%3B%0A%20%20%20%20%20%20%20%20%0A%20%20%20%20%0A%20%20%20%20%20%20%20%20var%20popup_0fa31b3a76c244f69b88c3e9ec0f1a45%20%3D%20L.popup%28%7B%22maxWidth%22%3A%20%22100%25%22%7D%29%3B%0A%0A%20%20%20%20%20%20%20%20%0A%20%20%20%20%20%20%20%20%20%20%20%20var%20html_8532d64bb7d6494388999bc760075868%20%3D%20%24%28%60%3Cdiv%20id%3D%22html_8532d64bb7d6494388999bc760075868%22%20style%3D%22width%3A%20100.0%25%3B%20height%3A%20100.0%25%3B%22%3EDefault%20popup%20Marker1%3C/div%3E%60%29%5B0%5D%3B%0A%20%20%20%20%20%20%20%20%20%20%20%20popup_0fa31b3a76c244f69b88c3e9ec0f1a45.setContent%28html_8532d64bb7d6494388999bc760075868%29%3B%0A%20%20%20%20%20%20%20%20%0A%0A%20%20%20%20%20%20%20%20marker_47f1fdee5b0b40348450a9d50943401d.bindPopup%28popup_0fa31b3a76c244f69b88c3e9ec0f1a45%29%0A%20%20%20%20%20%20%20%20%3B%0A%0A%20%20%20%20%20%20%20%20%0A%20%20%20%20%0A%20%20%20%20%0A%20%20%20%20%20%20%20%20%20%20%20%20marker_47f1fdee5b0b40348450a9d50943401d.bindTooltip%28%0A%20%20%20%20%20%20%20%20%20%20%20%20%20%20%20%20%60%3Cdiv%3E%0A%20%20%20%20%20%20%20%20%20%20%20%20%20%20%20%20%20%20%20%20%2014%0A%20%20%20%20%20%20%20%20%20%20%20%20%20%20%20%20%20%3C/div%3E%60%2C%0A%20%20%20%20%20%20%20%20%20%20%20%20%20%20%20%20%7B%22sticky%22%3A%20true%7D%0A%20%20%20%20%20%20%20%20%20%20%20%20%29%3B%0A%20%20%20%20%20%20%20%20%0A%20%20%20%20%0A%20%20%20%20%20%20%20%20%20%20%20%20var%20marker_b42b50756c2f4cb7a9a1322543d6f7e6%20%3D%20L.marker%28%0A%20%20%20%20%20%20%20%20%20%20%20%20%20%20%20%20%5B19.46775912%2C%20-99.09194503%5D%2C%0A%20%20%20%20%20%20%20%20%20%20%20%20%20%20%20%20%7B%7D%0A%20%20%20%20%20%20%20%20%20%20%20%20%29.addTo%28map_bc3dc03f3b2b43f0905ff6016a7dc93f%29%3B%0A%20%20%20%20%20%20%20%20%0A%20%20%20%20%0A%20%20%20%20%20%20%20%20var%20popup_d69051b3898a4419aa1c38745648a568%20%3D%20L.popup%28%7B%22maxWidth%22%3A%20%22100%25%22%7D%29%3B%0A%0A%20%20%20%20%20%20%20%20%0A%20%20%20%20%20%20%20%20%20%20%20%20var%20html_c7282721169748be83a6435f6c020874%20%3D%20%24%28%60%3Cdiv%20id%3D%22html_c7282721169748be83a6435f6c020874%22%20style%3D%22width%3A%20100.0%25%3B%20height%3A%20100.0%25%3B%22%3EDefault%20popup%20Marker1%3C/div%3E%60%29%5B0%5D%3B%0A%20%20%20%20%20%20%20%20%20%20%20%20popup_d69051b3898a4419aa1c38745648a568.setContent%28html_c7282721169748be83a6435f6c020874%29%3B%0A%20%20%20%20%20%20%20%20%0A%0A%20%20%20%20%20%20%20%20marker_b42b50756c2f4cb7a9a1322543d6f7e6.bindPopup%28popup_d69051b3898a4419aa1c38745648a568%29%0A%20%20%20%20%20%20%20%20%3B%0A%0A%20%20%20%20%20%20%20%20%0A%20%20%20%20%0A%20%20%20%20%0A%20%20%20%20%20%20%20%20%20%20%20%20marker_b42b50756c2f4cb7a9a1322543d6f7e6.bindTooltip%28%0A%20%20%20%20%20%20%20%20%20%20%20%20%20%20%20%20%60%3Cdiv%3E%0A%20%20%20%20%20%20%20%20%20%20%20%20%20%20%20%20%20%20%20%20%2015%0A%20%20%20%20%20%20%20%20%20%20%20%20%20%20%20%20%20%3C/div%3E%60%2C%0A%20%20%20%20%20%20%20%20%20%20%20%20%20%20%20%20%7B%22sticky%22%3A%20true%7D%0A%20%20%20%20%20%20%20%20%20%20%20%20%29%3B%0A%20%20%20%20%20%20%20%20%0A%20%20%20%20%0A%20%20%20%20%20%20%20%20%20%20%20%20var%20marker_3f22dd2599034ea09f49a18a1e00232d%20%3D%20L.marker%28%0A%20%20%20%20%20%20%20%20%20%20%20%20%20%20%20%20%5B19.36308756%2C%20-99.19021177%5D%2C%0A%20%20%20%20%20%20%20%20%20%20%20%20%20%20%20%20%7B%7D%0A%20%20%20%20%20%20%20%20%20%20%20%20%29.addTo%28map_bc3dc03f3b2b43f0905ff6016a7dc93f%29%3B%0A%20%20%20%20%20%20%20%20%0A%20%20%20%20%0A%20%20%20%20%20%20%20%20var%20popup_c5e191f98b7442d8ac62f4171afce6d0%20%3D%20L.popup%28%7B%22maxWidth%22%3A%20%22100%25%22%7D%29%3B%0A%0A%20%20%20%20%20%20%20%20%0A%20%20%20%20%20%20%20%20%20%20%20%20var%20html_c96b36e0d64c4e9c89785d1353483376%20%3D%20%24%28%60%3Cdiv%20id%3D%22html_c96b36e0d64c4e9c89785d1353483376%22%20style%3D%22width%3A%20100.0%25%3B%20height%3A%20100.0%25%3B%22%3EDefault%20popup%20Marker1%3C/div%3E%60%29%5B0%5D%3B%0A%20%20%20%20%20%20%20%20%20%20%20%20popup_c5e191f98b7442d8ac62f4171afce6d0.setContent%28html_c96b36e0d64c4e9c89785d1353483376%29%3B%0A%20%20%20%20%20%20%20%20%0A%0A%20%20%20%20%20%20%20%20marker_3f22dd2599034ea09f49a18a1e00232d.bindPopup%28popup_c5e191f98b7442d8ac62f4171afce6d0%29%0A%20%20%20%20%20%20%20%20%3B%0A%0A%20%20%20%20%20%20%20%20%0A%20%20%20%20%0A%20%20%20%20%0A%20%20%20%20%20%20%20%20%20%20%20%20marker_3f22dd2599034ea09f49a18a1e00232d.bindTooltip%28%0A%20%20%20%20%20%20%20%20%20%20%20%20%20%20%20%20%60%3Cdiv%3E%0A%20%20%20%20%20%20%20%20%20%20%20%20%20%20%20%20%20%20%20%20%2016%0A%20%20%20%20%20%20%20%20%20%20%20%20%20%20%20%20%20%3C/div%3E%60%2C%0A%20%20%20%20%20%20%20%20%20%20%20%20%20%20%20%20%7B%22sticky%22%3A%20true%7D%0A%20%20%20%20%20%20%20%20%20%20%20%20%29%3B%0A%20%20%20%20%20%20%20%20%0A%3C/script%3E onload=\"this.contentDocument.open();this.contentDocument.write(    decodeURIComponent(this.getAttribute('data-html')));this.contentDocument.close();\" \"allowfullscreen\" \"webkitallowfullscreen\" \"mozallowfullscreen\"></iframe>"
      ],
      "text/plain": [
       "<folium.folium.Map at 0x1a2cb02c880>"
      ]
     },
     "execution_count": 77,
     "metadata": {},
     "output_type": "execute_result"
    }
   ],
   "source": [
    "fig3=Figure(width=550,height=350)\n",
    "m3=folium.Map(location=[19.3947291,-99.2576493],tiles='cartodbpositron',zoom_start=11)\n",
    "fig3.add_child(m3)\n",
    "\n",
    "folium.TileLayer('Stamen Terrain').add_to(m3)\n",
    "folium.TileLayer('Stamen Toner').add_to(m3)\n",
    "folium.TileLayer('Stamen Water Color').add_to(m3)\n",
    "folium.TileLayer('cartodbpositron').add_to(m3)\n",
    "folium.TileLayer('cartodbdark_matter').add_to(m3)\n",
    "folium.LayerControl().add_to(m3)\n",
    "\n",
    "folium.Marker(location=[19.39767826, -99.08014557],popup='Default popup Marker1',tooltip='1').add_to(m3)\n",
    "folium.Marker(location=[19.3993043 , -99.14880174],popup='Default popup Marker1',tooltip='2').add_to(m3)\n",
    "folium.Marker(location=[19.32062397, -99.06963735],popup='Default popup Marker1',tooltip='3').add_to(m3)\n",
    "folium.Marker(location=[19.35778341, -99.26793961],popup='Default popup Marker1',tooltip='4').add_to(m3)\n",
    "folium.Marker(location=[19.47539296, -99.18620402],popup='Default popup Marker1',tooltip='5').add_to(m3)\n",
    "folium.Marker(location=[19.23463956, -99.1192417],popup='Default popup Marker1',tooltip='6').add_to(m3)\n",
    "folium.Marker(location=[19.29507139, -99.14731198],popup='Default popup Marker1',tooltip='7').add_to(m3)\n",
    "folium.Marker(location=[19.35737835, -99.0229658],popup='Default popup Marker1',tooltip='8').add_to(m3)\n",
    "folium.Marker(location=[19.35177951, -99.1271155],popup='Default popup Marker1',tooltip='9').add_to(m3)\n",
    "folium.Marker(location=[19.5073086 , -99.13905336],popup='Default popup Marker1',tooltip='10').add_to(m3)\n",
    "folium.Marker(location=[19.29864764, -99.22019954],popup='Default popup Marker1',tooltip='11').add_to(m3)\n",
    "folium.Marker(location=[19.25627843, -99.01695413],popup='Default popup Marker1',tooltip='12').add_to(m3)\n",
    "folium.Marker(location=[19.42323285, -99.19199913],popup='Default popup Marker1',tooltip='13').add_to(m3)\n",
    "folium.Marker(location=[19.44447976, -99.13654813],popup='Default popup Marker1',tooltip='14').add_to(m3)\n",
    "folium.Marker(location=[19.46775912, -99.09194503],popup='Default popup Marker1',tooltip='15').add_to(m3)\n",
    "folium.Marker(location=[19.36308756, -99.19021177],popup='Default popup Marker1',tooltip='16').add_to(m3)\n",
    "\n",
    "m3"
   ]
  },
  {
   "cell_type": "code",
   "execution_count": null,
   "id": "6d8b7030",
   "metadata": {},
   "outputs": [],
   "source": []
  }
 ],
 "metadata": {
  "kernelspec": {
   "display_name": "Python 3",
   "language": "python",
   "name": "python3"
  },
  "language_info": {
   "codemirror_mode": {
    "name": "ipython",
    "version": 3
   },
   "file_extension": ".py",
   "mimetype": "text/x-python",
   "name": "python",
   "nbconvert_exporter": "python",
   "pygments_lexer": "ipython3",
   "version": "3.8.10"
  }
 },
 "nbformat": 4,
 "nbformat_minor": 5
}
